{
 "cells": [
  {
   "cell_type": "markdown",
   "metadata": {},
   "source": [
    "# Introduction"
   ]
  },
  {
   "cell_type": "markdown",
   "metadata": {},
   "source": [
    "This first project is an introduction to ``pandas``, the most popular data-management tool in Python.\n",
    "\n",
    "Pandas is our swiss knife when it comes to Data Analysis/Science in Python. We use it to:\n",
    "\n",
    "- **Load/dump read/write data**: to and from different formats (CSV, XML, HTML, Excel, JSON, even from the Internet)\n",
    "- **Analyze data**: perform statistical analysis, query the data, find inconsistencies, etc\n",
    "- **Data cleaning**: finding missing values, duplicate data, invalid or broken values, etc\n",
    "- **Visualizations**: with support from ``matplotlib``, we can quickly visualize data\n",
    "- **Data Wrangling/Munging**: a non-so-scientific term that involves data handling: merging multiple data sources, creating derived representations, grouping data, etc.\n",
    "\n",
    "In this project you will not learn much about how to use Pandas, but you'll see it in action. So, don't worry if you don't feel comfortable \"doing\" what's shown here, it'll all be explained in the following projects.\n",
    "\n",
    "Let's get started! Switch to the next page and start your lab!"
   ]
  },
  {
   "cell_type": "markdown",
   "metadata": {},
   "source": [
    "## Loading the data"
   ]
  },
  {
   "cell_type": "markdown",
   "metadata": {},
   "source": [
    "Have you started your lab? If you haven't yet, please go ahead and start the lab. Also, execute the first couple of cells:\n",
    "\n",
    "```python\n",
    "import pandas as pd\n",
    "df = pd.read_csv(\"s&p500.csv\", index_col='Date', parse_dates=True)\n",
    "df.head()\n",
    "df.tail()\n",
    "```\n",
    "\n",
    "We first start importing the ``pandas`` library, and as we use it SO much, we like to create a short alias ``pd``. We then load the sample dataset for this project: the S&P500 index from 2017 to 2022.\n",
    "\n",
    "We load the data using the ``read_csv`` method. Throughout these labs, you'll see that pandas can load data from a lot of different formats, and methods are usually ``read_XXX``; for example: ``read_json``, ``read_excel``, ``read_xml``, etc.\n",
    "\n",
    "We've now loaded the data contained in the CSV into the variable ``df``: a DataFrame. DataFrames are the key data structure used by Pandas and you'll see A LOT of them in the following projects; so, don't worry too much about it for now.\n",
    "\n",
    "Then, we take a few quick peeks at the data with the ``.head()`` and ``.tail()`` methods. This is because pandas is prepared to handle MILLIONS of rows (or even more). So we don't usually \"print\" the whole data, we just take quick peeks at it.\n",
    "\n",
    "The ``.head()`` method shows the first 5 rows, the ``.tail()`` method shows the last 5 rows. You can immediately see that the DataFrame looks pretty much like an Excel table. It contains an index, which is the date of the reading."
   ]
  },
  {
   "cell_type": "code",
   "execution_count": null,
   "metadata": {},
   "outputs": [],
   "source": [
    "import pandas as pd\n",
    "\n",
    "df = pd.read_csv(\"SP500 index 2017 2022.csv\", index_col='Date', parse_dates=True)"
   ]
  },
  {
   "cell_type": "code",
   "execution_count": null,
   "metadata": {},
   "outputs": [],
   "source": [
    "df.head()"
   ]
  },
  {
   "cell_type": "code",
   "execution_count": null,
   "metadata": {},
   "outputs": [],
   "source": [
    "df.tail()"
   ]
  },
  {
   "cell_type": "markdown",
   "metadata": {},
   "source": [
    "## Analyzing data"
   ]
  },
  {
   "cell_type": "markdown",
   "metadata": {},
   "source": [
    "The analysis phase is of course dependant of the task at hand, and the data at hand. This is just an example of the capabilities of pandas.\n",
    "\n",
    "We start by using the ``.describe()`` method, that provides quick summary statistics of the whole DataFrame. We have information like the ``mean`` (the average), ``max``, etc.\n",
    "\n",
    "We can also get specific information for a single column: ``df['Close'].min()`` or ``df['Close'].max()``. Oh, by the way, you've just seen how to perform \"single column selection\": ``df['Close'].head()``."
   ]
  },
  {
   "cell_type": "code",
   "execution_count": null,
   "metadata": {},
   "outputs": [],
   "source": [
    "df.describe()"
   ]
  },
  {
   "cell_type": "markdown",
   "metadata": {},
   "source": [
    "Single column statistics"
   ]
  },
  {
   "cell_type": "code",
   "execution_count": null,
   "metadata": {},
   "outputs": [],
   "source": [
    "df['Close'].min()"
   ]
  },
  {
   "cell_type": "code",
   "execution_count": null,
   "metadata": {},
   "outputs": [],
   "source": [
    "df['Close'].max()"
   ]
  },
  {
   "cell_type": "markdown",
   "metadata": {},
   "source": [
    "Single column selection:"
   ]
  },
  {
   "cell_type": "code",
   "execution_count": null,
   "metadata": {},
   "outputs": [],
   "source": [
    "df['Close'].head()"
   ]
  },
  {
   "cell_type": "markdown",
   "metadata": {},
   "source": [
    "## Visualizations"
   ]
  },
  {
   "cell_type": "markdown",
   "metadata": {},
   "source": [
    "Pandas makes it simple to visualize data with the ``.plot()`` method. In reality, ``.plot()`` is just a wrapper around ``matplotlib``, the de-facto plotting library for Python.\n",
    "\n",
    "As you can see, plotting a column is very easy; just: ``df['Close'].plot()``.\n",
    "\n",
    "You can see that we're creating more advanced visualizations by combining multiple columns or by creating statistical visualizations (box plots, histograms, etc)."
   ]
  },
  {
   "cell_type": "code",
   "execution_count": null,
   "metadata": {},
   "outputs": [],
   "source": [
    "df['Close'].plot(figsize=(14, 7), title='S&P Closing Price | 2017 - 2022')"
   ]
  },
  {
   "cell_type": "markdown",
   "metadata": {},
   "source": [
    "A more advanced chart combining ``Close Price`` and ``Volume``:"
   ]
  },
  {
   "cell_type": "code",
   "execution_count": null,
   "metadata": {},
   "outputs": [],
   "source": [
    "ax1 = df['Close'].plot(figsize=(14, 7), title='S&P Closing Price | 2017 - 2022')\n",
    "\n",
    "ax2 = ax1.twinx()\n",
    "df['Volume'].plot(ax=ax2, color='red', ylim=[df['Volume'].min(), df['Volume'].max() * 5])\n",
    "\n",
    "ax1.figure.legend([\"Close\", \"Volume\"])"
   ]
  },
  {
   "cell_type": "markdown",
   "metadata": {},
   "source": [
    "A few statistical visualizations.\n",
    "\n",
    "A histogram:"
   ]
  },
  {
   "cell_type": "code",
   "execution_count": null,
   "metadata": {},
   "outputs": [],
   "source": [
    "df['Volume'].plot(kind='hist')"
   ]
  },
  {
   "cell_type": "markdown",
   "metadata": {},
   "source": [
    "A box plot:"
   ]
  },
  {
   "cell_type": "code",
   "execution_count": null,
   "metadata": {},
   "outputs": [],
   "source": [
    "df['Volume'].plot(kind='box', vert=False)"
   ]
  },
  {
   "cell_type": "markdown",
   "metadata": {},
   "source": [
    "## Data Wrangling"
   ]
  },
  {
   "cell_type": "markdown",
   "metadata": {},
   "source": [
    "Pandas excels at Data Wrangling/handling/munging. We can perform a ton of operations, like combining datasets, grouping, melting, creating pivot tables, etc. We have an entire Skill Track just dedicated to Data Wrangling, so you can guess how powerful it is.\n",
    "\n",
    "For now, we'll focus on just a few simple operations. We'll calculate [Bollinger Bands](https://en.wikipedia.org/wiki/Bollinger_Bands) for our S&P500 data.\n",
    "\n",
    "Bollinger bands are just a simple visualization/analysis technique that creates two bands, one \"roof\" and one \"floor\" of some \"support\" for a given time series. The reasoning is that, if the time series is \"below\" the \"floor\", it's a historic low, and if it's \"above\" the \"roof\", it's a historic high. In terms of stock prices and other financial instruments, when the price crosses a band, it's said to be too cheap or too expensive.\n",
    "\n",
    "> **This is definitively NOT investment advice. Bollinger bands have proved to be INACCURATE, so don't use them in real life. This is just for educational purposes.**\n",
    "\n",
    "A Bollinger band is defined as two standard deviations above/below the Simple Moving Average. Those are a lot of concepts, but basically we can first define the Simple Moving Average, using the ``.rolling(WINDOW).mean()`` method (switch to the lab to follow along).\n",
    "\n",
    "Understanding the SMA is outside of the scope of this project, but it's basically a \"smoothing\" method. You see how the SMA *follows* the Close Price, but without so much volatility.\n",
    "\n",
    "Now, to define the bands we need to calculate 2 standard deviations above/below the price:\n",
    "\n",
    "```python\n",
    "df['Lower Band'] = df['Close SMA'] - (2 * df['Close'].rolling(60).std())\n",
    "df['Upper Band'] = df['Close SMA'] + (2 * df['Close'].rolling(60).std())\n",
    "```\n",
    "\n",
    "The final result should look something like:"
   ]
  },
  {
   "cell_type": "code",
   "execution_count": null,
   "metadata": {},
   "outputs": [],
   "source": [
    "df['Close SMA'] = df['Close'].rolling(60).mean()"
   ]
  },
  {
   "cell_type": "markdown",
   "metadata": {},
   "source": [
    "Comparamos el nuevo SMA con el valor de cierre de la acción"
   ]
  },
  {
   "cell_type": "code",
   "execution_count": null,
   "metadata": {},
   "outputs": [],
   "source": [
    "df[['Close', 'Close SMA']].tail(10)"
   ]
  },
  {
   "cell_type": "code",
   "execution_count": null,
   "metadata": {},
   "outputs": [],
   "source": [
    "ax = df[['Close', 'Close SMA']].plot(figsize=(14,7), title='Close Price & its SMA')"
   ]
  },
  {
   "cell_type": "markdown",
   "metadata": {},
   "source": [
    "Calcularemos las bandas de Bollinger"
   ]
  },
  {
   "cell_type": "code",
   "execution_count": null,
   "metadata": {},
   "outputs": [],
   "source": [
    "df['Lower Band'] = df['Close SMA'] - (2 * df['Close'].rolling(60).std())\n",
    "df['Upper Band'] = df['Close SMA'] + (2 * df['Close'].rolling(60).std())"
   ]
  },
  {
   "cell_type": "code",
   "execution_count": null,
   "metadata": {},
   "outputs": [],
   "source": [
    "df[['Close', 'Close SMA', 'Lower Band', 'Upper Band']].tail()"
   ]
  },
  {
   "cell_type": "code",
   "execution_count": null,
   "metadata": {},
   "outputs": [],
   "source": [
    "df[['Close', 'Lower Band', 'Upper Band']].plot(figsize=(14,7), title='Close Price & its SMA')"
   ]
  },
  {
   "cell_type": "markdown",
   "metadata": {},
   "source": [
    "Ahora encontraremos los puntos bajos que cruzan la banda baja"
   ]
  },
  {
   "cell_type": "code",
   "execution_count": null,
   "metadata": {},
   "outputs": [],
   "source": [
    "ax = df[['Close', 'Lower Band', 'Upper Band']].plot(figsize=(14, 7), title='Close Price & its SMA')\n",
    "ax.annotate(\n",
    "    \"Let's find this point\", xy=(pd.Timestamp(\"2020-03-23\"), 2237), \n",
    "    xytext=(0.9, 0.1), textcoords='axes fraction',\n",
    "    arrowprops=dict(facecolor='red', shrink=0.05),\n",
    "    horizontalalignment='right', verticalalignment='bottom');"
   ]
  },
  {
   "cell_type": "markdown",
   "metadata": {},
   "source": [
    "Podemos hacer un query de todas las fechas que cruzaron la banda baja en el periodo ``2020-03-01`` a ``2020-06-01`` "
   ]
  },
  {
   "cell_type": "code",
   "execution_count": null,
   "metadata": {},
   "outputs": [],
   "source": [
    "df.loc['2020-03-01': '2020-06-01'].query(\"Close < `Lower Band`\").head()"
   ]
  },
  {
   "cell_type": "markdown",
   "metadata": {},
   "source": [
    "Y podemos hacer un zoom también a ese periodo"
   ]
  },
  {
   "cell_type": "code",
   "execution_count": null,
   "metadata": {},
   "outputs": [],
   "source": [
    "df.loc['2020-01-01': '2020-06-01', ['Close', 'Lower Band', 'Upper Band']].plot(figsize=(14, 7), title='Close Price & its SMA | 2020-01-01 to 2020-06-01');"
   ]
  },
  {
   "cell_type": "markdown",
   "metadata": {},
   "source": [
    "# Series Practice with World Bank's data"
   ]
  },
  {
   "cell_type": "markdown",
   "metadata": {},
   "source": [
    "## Introduction"
   ]
  },
  {
   "cell_type": "markdown",
   "metadata": {},
   "source": [
    "In this lab, you will use pandas to explore the World Bank's data on economic, political, and social indicators for countries around the world. The data is collected from Kaggle.\n",
    "\n",
    "The World Bank data is organized into a number of different categories, including:\n",
    "\n",
    "- Economy: This category includes data on GDP, population, inflation, and unemployment.\n",
    "- Government: This category includes data on government spending, taxes, and debt.\n",
    "- Social: This category includes data on education, health, and poverty.\n",
    "\n",
    "The data is stored in excel file named ``world_data.xls``. In this lab, you will learn how to:\n",
    "\n",
    "- Create pandas series\n",
    "- Series basic attributes, such as shape, size, and data type\n",
    "- Access data in pandas series\n",
    "- Perform basic statistical operations on pandas series\n",
    "\n",
    "By the end of this lab, you will be able to use pandas to explore and analyze the World Bank's data on economic, political, and social indicators for countries around the world.\n",
    "\n",
    "> ***Run all the cells that are under Take a look at raw data heading in the notebook.***\n",
    "\n",
    "Let's get dive into the lab!"
   ]
  },
  {
   "cell_type": "code",
   "execution_count": null,
   "metadata": {},
   "outputs": [],
   "source": [
    "import pandas as pd\n",
    "df = pd.read_csv('world_data.csv')\n",
    "df.head()"
   ]
  },
  {
   "cell_type": "code",
   "execution_count": null,
   "metadata": {},
   "outputs": [],
   "source": [
    "df.columns"
   ]
  },
  {
   "cell_type": "markdown",
   "metadata": {},
   "source": [
    "Creating a pandas series from a dataframe df"
   ]
  },
  {
   "cell_type": "code",
   "execution_count": null,
   "metadata": {},
   "outputs": [],
   "source": [
    "# Converting columns to pandas series\n",
    "country_name = pd.Series(df['Country Name'])\n",
    "country_code = pd.Series(df['Country Code'])\n",
    "population = pd.Series(df[' Population, total '])\n",
    "gdp = pd.Series(df['GDP, PPP (current international $)'])\n",
    "internet_users = pd.Series(df['Internet users (per 100 people)'])\n",
    "life_expectancy = pd.Series(df['2014 Life expectancy at birth, total (years)'])\n",
    "literacy_rate = pd.Series(df['Literacy rate, adult female (% of females ages 15 and above)'])\n",
    "exports = pd.Series(df['Exports of goods and services (% of GDP)'])"
   ]
  },
  {
   "cell_type": "code",
   "execution_count": null,
   "metadata": {},
   "outputs": [],
   "source": [
    "country_name.head()"
   ]
  },
  {
   "cell_type": "code",
   "execution_count": null,
   "metadata": {},
   "outputs": [],
   "source": [
    "country_code.head()"
   ]
  },
  {
   "cell_type": "code",
   "execution_count": null,
   "metadata": {},
   "outputs": [],
   "source": [
    "population.head()"
   ]
  },
  {
   "cell_type": "code",
   "execution_count": null,
   "metadata": {},
   "outputs": [],
   "source": [
    "gdp.head()"
   ]
  },
  {
   "cell_type": "code",
   "execution_count": null,
   "metadata": {},
   "outputs": [],
   "source": [
    "internet_users.head()"
   ]
  },
  {
   "cell_type": "code",
   "execution_count": null,
   "metadata": {},
   "outputs": [],
   "source": [
    "life_expectancy.head()"
   ]
  },
  {
   "cell_type": "code",
   "execution_count": null,
   "metadata": {},
   "outputs": [],
   "source": [
    "literacy_rate.head()"
   ]
  },
  {
   "cell_type": "code",
   "execution_count": null,
   "metadata": {},
   "outputs": [],
   "source": [
    "exports.head()"
   ]
  },
  {
   "cell_type": "markdown",
   "metadata": {},
   "source": [
    "1. What is the data type of the ``country_name`` series"
   ]
  },
  {
   "cell_type": "markdown",
   "metadata": {},
   "source": [
    "Al ser ``dtype('O')` sabemos que el tipo de datos es **Objeto** "
   ]
  },
  {
   "cell_type": "code",
   "execution_count": null,
   "metadata": {},
   "outputs": [],
   "source": [
    "country_name.dtype"
   ]
  },
  {
   "cell_type": "markdown",
   "metadata": {},
   "source": [
    "2. What is the ``size`` of the gdp series"
   ]
  },
  {
   "cell_type": "code",
   "execution_count": null,
   "metadata": {},
   "outputs": [],
   "source": [
    "gdp.shape"
   ]
  },
  {
   "cell_type": "markdown",
   "metadata": {},
   "source": [
    "3. What is the data type of the ``internet_users`` series"
   ]
  },
  {
   "cell_type": "code",
   "execution_count": null,
   "metadata": {},
   "outputs": [],
   "source": [
    "internet_users.dtype"
   ]
  },
  {
   "cell_type": "markdown",
   "metadata": {},
   "source": [
    "4. What is the value of the first element in the ``population`` series"
   ]
  },
  {
   "cell_type": "code",
   "execution_count": null,
   "metadata": {},
   "outputs": [],
   "source": [
    "population.iloc[0]"
   ]
  },
  {
   "cell_type": "markdown",
   "metadata": {},
   "source": [
    "5. What is the value of the last element in the ``life_expectancy`` series"
   ]
  },
  {
   "cell_type": "code",
   "execution_count": null,
   "metadata": {},
   "outputs": [],
   "source": [
    "life_expectancy.iloc[-1]"
   ]
  },
  {
   "cell_type": "markdown",
   "metadata": {},
   "source": [
    "6. What is the value of the element with index 29 in the ``literacy_rate`` series"
   ]
  },
  {
   "cell_type": "code",
   "execution_count": null,
   "metadata": {},
   "outputs": [],
   "source": [
    "literacy_rate.iloc[29]"
   ]
  },
  {
   "cell_type": "markdown",
   "metadata": {},
   "source": [
    "7. What is the value of the last element in the ``gdp`` series"
   ]
  },
  {
   "cell_type": "code",
   "execution_count": null,
   "metadata": {},
   "outputs": [],
   "source": [
    "gdp.iloc[-1]"
   ]
  },
  {
   "cell_type": "markdown",
   "metadata": {},
   "source": [
    "8. What is the mean of the ``internet_users`` series"
   ]
  },
  {
   "cell_type": "code",
   "execution_count": null,
   "metadata": {},
   "outputs": [],
   "source": [
    "internet_users.mean()"
   ]
  },
  {
   "cell_type": "markdown",
   "metadata": {},
   "source": [
    "9. What is the standard deviation of the ``internet_users`` series"
   ]
  },
  {
   "cell_type": "code",
   "execution_count": null,
   "metadata": {},
   "outputs": [],
   "source": [
    "internet_users.std( )"
   ]
  },
  {
   "cell_type": "markdown",
   "metadata": {},
   "source": [
    "10 What is the median of the ``exports`` series"
   ]
  },
  {
   "cell_type": "code",
   "execution_count": null,
   "metadata": {},
   "outputs": [],
   "source": [
    "exports.median()"
   ]
  },
  {
   "cell_type": "markdown",
   "metadata": {},
   "source": [
    "11. What is the minimum value in the ``life_expectancy`` series"
   ]
  },
  {
   "cell_type": "code",
   "execution_count": null,
   "metadata": {},
   "outputs": [],
   "source": [
    "life_expectancy.min()"
   ]
  },
  {
   "cell_type": "markdown",
   "metadata": {},
   "source": [
    "12. What is the ``average`` literacy rate of all countries"
   ]
  },
  {
   "cell_type": "code",
   "execution_count": null,
   "metadata": {},
   "outputs": [],
   "source": [
    "literacy_rate.mean()"
   ]
  },
  {
   "cell_type": "markdown",
   "metadata": {},
   "source": [
    "13. Sort the series in ascending order"
   ]
  },
  {
   "cell_type": "code",
   "execution_count": null,
   "metadata": {},
   "outputs": [],
   "source": [
    "country_name_sorted = country_name.sort_values(ascending=True)"
   ]
  },
  {
   "cell_type": "markdown",
   "metadata": {},
   "source": [
    "14. Sort multiple series at once\n",
    "\n",
    "    Both the series ``country_name`` and ``literacy_rate`` have the same number of elements and the elements are in the same order with respect to index number. Arrange the country name as per ascending order of literacy rate. Assign the result of country name to new variable called ``country_name_sorted_by_literacy_rate`` and the result of literacy rate to new variable called ``literacy_rate_sorted``.\n",
    "\n",
    "    Example: If the country name is ``['India', 'China', 'Japan']`` and literacy rate is ``[80, 90, 70]``, then the result should be ``['Japan', 'India', 'China']`` and ``[70, 80, 90]``."
   ]
  },
  {
   "cell_type": "code",
   "execution_count": null,
   "metadata": {},
   "outputs": [],
   "source": [
    "literacy_rate_sorted = literacy_rate.sort_values(ascending=True)\n",
    "country_name_sorted_by_literacy_rate = country_name.loc[literacy_rate_sorted.index]"
   ]
  },
  {
   "cell_type": "markdown",
   "metadata": {},
   "source": [
    "# Intro to Pandas Series"
   ]
  },
  {
   "cell_type": "markdown",
   "metadata": {},
   "source": [
    "## Intro"
   ]
  },
  {
   "cell_type": "markdown",
   "metadata": {},
   "source": [
    "That is a lot to unpack. Let's better use an example. Take a look at the following \"table\" that contains a list of Top Companies (in technology) and their revenue (in millions of dollars):\n",
    "\n",
    "\n",
    "Preview\n",
    "A pandas Series will help us represent that data. Now it's time to turn on the lab and head to the Notebook, where we'll see how Series work.\n",
    "\n",
    "The syntax to create a series is:\n",
    "\n",
    "```python\n",
    "import pandas as pd\n",
    "pd.Series(data, index, name=\"A name\")\n",
    "```\n",
    "\n",
    "``Series``s main components are:\n",
    "\n",
    "- **data**: this is the data that we want to represent, and obviously, we could say the \"most important\" component of the series. In our example, the data is the revenue of the companies.\n",
    "\n",
    "- **index**: the index indicates the \"labels\" of the data we're storing. We'll use the index to \"reference\" the data later. Indices are not required; pandas will assign a default sequential index if we don't provide one.\n",
    "\n",
    "- **name**: a series can contain a \"name\"; this will make more sense when we start using DataFrames. For now, just think about it as extra \"documentation\"; more clarity when working with your code. *Names are optional*.\n",
    "\n",
    "Finally, it's important to note that Series are \"strongly typed\": this means they have an associated (**an enforced object type**). It's not like in Python dictionaries, where we can mix types. In this case, you'll see that the series is of type int64 (it says dtype: int64 after the name, at the bottom of the representation). Don't worry too much about it for now, it's basically a Series containing \"integers\"."
   ]
  },
  {
   "cell_type": "markdown",
   "metadata": {},
   "source": [
    "We'll represent them using a Series in the following way:"
   ]
  },
  {
   "cell_type": "code",
   "execution_count": null,
   "metadata": {},
   "outputs": [],
   "source": [
    "companies = [\n",
    "    'Apple', 'Samsung', 'Alphabet', 'Foxconn',\n",
    "    'Microsoft', 'Huawei', 'Dell Technologies',\n",
    "    'Meta', 'Sony', 'Hitachi', 'Intel',\n",
    "    'IBM', 'Tencent', 'Panasonic'\n",
    "]\n",
    "\n",
    "s = pd.Series([\n",
    "    274515, 200734, 182527, 181945, 143015,\n",
    "    129184, 92224, 85965, 84893, 82345,\n",
    "    77867, 73620, 69864, 63191],\n",
    "    index=companies,\n",
    "    name=\"Top Technology Companies by Revenue\")\n",
    "\n",
    "s"
   ]
  },
  {
   "cell_type": "markdown",
   "metadata": {},
   "source": [
    "1. **Check your knowledge: create a series**\n",
    "\n",
    "    Create a series under the variable ``my_series`` that contains three elements ``9``, ``11`` and -``5``. The index of the series should be ``['a', 'b', 'c']`` and the name should be ``\"My First Series\"``.\n"
   ]
  },
  {
   "cell_type": "code",
   "execution_count": null,
   "metadata": {},
   "outputs": [],
   "source": [
    "import pandas as pd"
   ]
  },
  {
   "cell_type": "code",
   "execution_count": null,
   "metadata": {},
   "outputs": [],
   "source": [
    "elements = [9,11,-5]\n",
    "index = ['a', 'b', 'c']\n",
    "name = 'My First Series'\n",
    "my_series = pd.Series(elements, index=index, name= name)"
   ]
  },
  {
   "cell_type": "code",
   "execution_count": null,
   "metadata": {},
   "outputs": [],
   "source": [
    "my_series"
   ]
  },
  {
   "cell_type": "markdown",
   "metadata": {},
   "source": [
    "## Basic selection and location"
   ]
  },
  {
   "cell_type": "markdown",
   "metadata": {},
   "source": [
    "Series are very flexible about querying/selecting data. You can get data by the index (get the revenue of Apple), by position (get the 5th element) and also by multiple of those."
   ]
  },
  {
   "cell_type": "markdown",
   "metadata": {},
   "source": [
    "### Selecting by index"
   ]
  },
  {
   "cell_type": "markdown",
   "metadata": {},
   "source": [
    "We use the Series' index to reference and locate the data associated with a given label.\n",
    "\n",
    "For example, to get the revenue of *Apple*, we can do: ``s[\"Apple\"]``. That works, as you can see in the notebook. But you'll also see that we use a ``.loc`` attribute, making it: ``s.loc[\"Apple\"]``. This is the preferred method to reference values. It might make little sense for now, but it will once we start dealing with DataFrames."
   ]
  },
  {
   "cell_type": "code",
   "execution_count": null,
   "metadata": {},
   "outputs": [],
   "source": [
    "s['Apple']"
   ]
  },
  {
   "cell_type": "markdown",
   "metadata": {},
   "source": [
    "``.loc`` is the preferred way:"
   ]
  },
  {
   "cell_type": "code",
   "execution_count": null,
   "metadata": {},
   "outputs": [],
   "source": [
    "s.loc['Apple']"
   ]
  },
  {
   "cell_type": "markdown",
   "metadata": {},
   "source": [
    "### Selecting by position"
   ]
  },
  {
   "cell_type": "markdown",
   "metadata": {},
   "source": [
    "We can also select elements by their \"order\". After all, as we mentioned in the previous section, **Series are ordered data structures**. So we can select an element by its position: for example, the 'first\", \"last\", \"third\", or \"253rd\" element. To select an element by its position, we use the ``.iloc`` attribute. The beauty of ``.iloc`` is that, as selection in Python lists, it accepts negative numbers to reference elements from the end of the series. That means that ``.iloc[-1]`` returns the **LAST** element in the series."
   ]
  },
  {
   "cell_type": "code",
   "execution_count": null,
   "metadata": {},
   "outputs": [],
   "source": [
    "s.iloc[0]"
   ]
  },
  {
   "cell_type": "code",
   "execution_count": null,
   "metadata": {},
   "outputs": [],
   "source": [
    "s.iloc[-1]"
   ]
  },
  {
   "cell_type": "markdown",
   "metadata": {},
   "source": [
    "### Errors in selection"
   ]
  },
  {
   "cell_type": "markdown",
   "metadata": {},
   "source": [
    "\n",
    "As expected, if you try to retrieve an element that doesn't exist, it'll cause an error. This works pretty similarly as in Python dictionaries and lists. Selecting by index (.loc) fails with a ``KeyError`` (like dictionaries) and selecting by position fails with an ``IndexError`` as with lists.\n",
    "\n",
    "Most of the time, you can prevent these errors using the membership operator ``in``, which checks if a given element is part of the index."
   ]
  },
  {
   "cell_type": "code",
   "execution_count": null,
   "metadata": {},
   "outputs": [],
   "source": [
    "# this code will fail\n",
    "s.loc[\"Non existent company\"]"
   ]
  },
  {
   "cell_type": "code",
   "execution_count": null,
   "metadata": {},
   "outputs": [],
   "source": [
    "# This code also fails, 132 it's out of boundaries\n",
    "# (there are not so many elements in the Series)\n",
    "s.iloc[132]"
   ]
  },
  {
   "cell_type": "markdown",
   "metadata": {},
   "source": [
    "We could prevent these errors using the membership check ``in``:"
   ]
  },
  {
   "cell_type": "code",
   "execution_count": null,
   "metadata": {},
   "outputs": [],
   "source": [
    "'Apple' in s"
   ]
  },
  {
   "cell_type": "code",
   "execution_count": null,
   "metadata": {},
   "outputs": [],
   "source": [
    "'Snapchat' in s"
   ]
  },
  {
   "cell_type": "markdown",
   "metadata": {},
   "source": [
    "### Multiple selection"
   ]
  },
  {
   "cell_type": "markdown",
   "metadata": {},
   "source": [
    "So far, Series look like glorified dictionaries. But this single feature will set them apart.\n",
    "\n",
    "> **With both, index selection and positional selection, you can pass multiple elements to be returned. This is extremely convenient.**\n",
    "\n",
    "Pay attention to the value returned: another Series, a \"sub-series,\" we could say, only with the values requested. In Pandas you'll see this pattern everywhere: Series selection returns other series, DataFrames selection (in future lessons) returns other DataFrames or other Series, etc.\n",
    "\n",
    "Let's see it in action. To select several elements (by index/label), we just pass a list of the labels:\n",
    "\n",
    "```py\n",
    "s.loc[[\"Apple\", \"Intel\", \"Sony\"]]\n",
    "```\n",
    "\n",
    "To select multiple values by position, we also pass a list with the positions:\n",
    "\n",
    "```py\n",
    "s.iloc[[0, 5, -1]]\n",
    "```"
   ]
  },
  {
   "cell_type": "code",
   "execution_count": null,
   "metadata": {},
   "outputs": [],
   "source": [
    "s.loc[['Apple', 'Intel', 'Sony']]"
   ]
  },
  {
   "cell_type": "code",
   "execution_count": null,
   "metadata": {},
   "outputs": [],
   "source": [
    "s.iloc[[0, 5, -1]]"
   ]
  },
  {
   "cell_type": "markdown",
   "metadata": {},
   "source": [
    "## Activities"
   ]
  },
  {
   "cell_type": "markdown",
   "metadata": {},
   "source": [
    "2. **Check your knowledge: location by index**\n",
    "\n",
    "    Select the revenue of ``Intel`` and store it in a variable named ``intel_revenue``:"
   ]
  },
  {
   "cell_type": "code",
   "execution_count": null,
   "metadata": {},
   "outputs": [],
   "source": [
    "intel_revenue = s.loc['Intel']"
   ]
  },
  {
   "cell_type": "markdown",
   "metadata": {},
   "source": [
    "3. **Check your knowledge: location by position**\n",
    "\n",
    "    Select the revenue of the \"second to last\" element in our series ``s`` and store it in a variable named ``second_to_last``:"
   ]
  },
  {
   "cell_type": "code",
   "execution_count": null,
   "metadata": {},
   "outputs": [],
   "source": [
    "second_to_last = s.iloc[-2]"
   ]
  },
  {
   "cell_type": "markdown",
   "metadata": {},
   "source": [
    "4. **Check your knowledge: multiple selection**\n",
    "\n",
    "    Use multiple label selection to retrieve the revenues of the companies:\n",
    "\n",
    "    - Samsung\n",
    "    - Dell Technologies\n",
    "    - Panasonic\n",
    "    - Microsoft"
   ]
  },
  {
   "cell_type": "code",
   "execution_count": null,
   "metadata": {},
   "outputs": [],
   "source": [
    "sub_series = s.loc[[\"Samsung\", 'Dell Technologies', \"Panasonic\", 'Microsoft']]\n",
    "sub_series"
   ]
  },
  {
   "cell_type": "markdown",
   "metadata": {},
   "source": [
    "## Series Attributes and Methods"
   ]
  },
  {
   "cell_type": "markdown",
   "metadata": {},
   "source": [
    "Series contain a lot of useful attributes and methods to interact with them. Probably the two most common ones you'll see all the time are ``.head()`` and ``.tail()``. This just returns 5 elements either from the beginning of the series (``.head()``) or from the end of it (``.tail()``). This is useful when you're working with real data (possibly MILLIONS of values). You can also pass a number of elements to return: ``.head(3)`` and ``.tail(2)``."
   ]
  },
  {
   "cell_type": "code",
   "execution_count": null,
   "metadata": {},
   "outputs": [],
   "source": [
    "s.head()"
   ]
  },
  {
   "cell_type": "code",
   "execution_count": null,
   "metadata": {},
   "outputs": [],
   "source": [
    "s.tail()"
   ]
  },
  {
   "cell_type": "markdown",
   "metadata": {},
   "source": [
    "### Main attributes"
   ]
  },
  {
   "cell_type": "markdown",
   "metadata": {},
   "source": [
    "Once a series is constructed (somehow), we can access all the attributes separately. Namely:\n",
    "\n",
    "- The data of the series: using the ``.values`` attribute\n",
    "- The index: using ``.index``\n",
    "- The name: using ``.name``\n",
    "- The type assigned: using ``.dtype``\n",
    "- The number of elements: using ``.size``"
   ]
  },
  {
   "cell_type": "code",
   "execution_count": null,
   "metadata": {},
   "outputs": [],
   "source": [
    "s.values"
   ]
  },
  {
   "cell_type": "code",
   "execution_count": null,
   "metadata": {},
   "outputs": [],
   "source": [
    "s.index"
   ]
  },
  {
   "cell_type": "code",
   "execution_count": null,
   "metadata": {},
   "outputs": [],
   "source": [
    "s.name"
   ]
  },
  {
   "cell_type": "code",
   "execution_count": null,
   "metadata": {},
   "outputs": [],
   "source": [
    "s.dtype"
   ]
  },
  {
   "cell_type": "code",
   "execution_count": null,
   "metadata": {},
   "outputs": [],
   "source": [
    "s.size"
   ]
  },
  {
   "cell_type": "markdown",
   "metadata": {},
   "source": [
    "``len`` also works"
   ]
  },
  {
   "cell_type": "code",
   "execution_count": null,
   "metadata": {},
   "outputs": [],
   "source": [
    "len(s)"
   ]
  },
  {
   "cell_type": "markdown",
   "metadata": {},
   "source": [
    "### Statistical methods"
   ]
  },
  {
   "cell_type": "markdown",
   "metadata": {},
   "source": [
    "But that's not all about attributes and Series. As you might already know, we use Pandas for data processing. And a significant component of data processing is understanding its statistical implications.\n",
    "\n",
    "The ``.describe()`` method gives you quick summary statistics of your series.\n",
    "\n",
    "There are also individual methods for each of the values returned by ``.describe()``: ``.max()``, ``.min()``, ``.mean()``, ``.median()``, etc.\n",
    "\n",
    "There's also a ``quantile()`` method to check for specific quantiles (or percentiles). For example, to get the 75th percentile, you can use: ``s.quantile(.75)``."
   ]
  },
  {
   "cell_type": "markdown",
   "metadata": {},
   "source": [
    "## Activities"
   ]
  },
  {
   "cell_type": "code",
   "execution_count": null,
   "metadata": {},
   "outputs": [],
   "source": [
    "# Run this cell to complete the activity\n",
    "american_companies = s[[\n",
    "    'Meta', 'IBM', 'Microsoft',\n",
    "    'Dell Technologies', 'Apple', 'Intel', 'Alphabet'\n",
    "]]\n",
    "american_companies"
   ]
  },
  {
   "cell_type": "markdown",
   "metadata": {},
   "source": [
    "We have selected a \"sub-series\" of only american companies in the variable ``american_companies``. Using that Series, complete the following activities."
   ]
  },
  {
   "cell_type": "markdown",
   "metadata": {},
   "source": [
    "5. **What's the average revenue of American Companies?**\n",
    "\n",
    "    What's the average revenue of the companies contained in the variable ``american_companies``? Enter the whole number (that is, without decimals)."
   ]
  },
  {
   "cell_type": "code",
   "execution_count": null,
   "metadata": {},
   "outputs": [],
   "source": [
    "american_companies.mean()"
   ]
  },
  {
   "cell_type": "markdown",
   "metadata": {},
   "source": [
    "6. **What's the median revenue of American Companies?**"
   ]
  },
  {
   "cell_type": "code",
   "execution_count": null,
   "metadata": {},
   "outputs": [],
   "source": [
    "american_companies.median()"
   ]
  },
  {
   "cell_type": "markdown",
   "metadata": {},
   "source": [
    "## Sorting Series"
   ]
  },
  {
   "cell_type": "markdown",
   "metadata": {},
   "source": [
    "Sorting series is extremely simple. This is another great feature of pandas in general.\n",
    "\n",
    "But with Sorting, we'll introduce two important concepts:"
   ]
  },
  {
   "cell_type": "markdown",
   "metadata": {},
   "source": [
    "### Sorting by values or Index"
   ]
  },
  {
   "cell_type": "markdown",
   "metadata": {},
   "source": [
    "First, what are we sorting by? The values? Or the index? Well, we'll be able to sort by both attributes: using the ``.sort_values()`` and ``.sort_index()`` methods.\n",
    "\n",
    "Check the examples in the notebook. To sort the values of the series (that is, the revenue), we use the ``.sort_values()`` method. To sort the series by its index (in this case, lexicographically by the company's name, we use the ``.sort_index()`` method). The default sorting method is in \"ascending\" order. To sort in descending order, you must pass the ``ascending=False`` parameter (to either method)."
   ]
  },
  {
   "cell_type": "markdown",
   "metadata": {},
   "source": [
    "7. **What company has the largest revenue?**\n",
    "\n",
    "    Using all the companies (stored in the Series in ``s``), which company has the largest revenue?"
   ]
  },
  {
   "cell_type": "code",
   "execution_count": null,
   "metadata": {},
   "outputs": [],
   "source": [
    "s.sort_values(ascending=False)[:1]"
   ]
  },
  {
   "cell_type": "markdown",
   "metadata": {},
   "source": [
    "8. **Sort company names lexicographically. Which one comes first?**\n",
    "\n",
    "    Using all the companies (stored in the Series in ``s``), which name is the \"first\" one in lexicographic (*or alphabetical*) order. That is, ``aa`` comes before than ``ab``."
   ]
  },
  {
   "cell_type": "code",
   "execution_count": null,
   "metadata": {},
   "outputs": [],
   "source": [
    "s.sort_index(ascending=True)[:1]"
   ]
  },
  {
   "cell_type": "markdown",
   "metadata": {},
   "source": [
    "## Inmutability"
   ]
  },
  {
   "cell_type": "markdown",
   "metadata": {},
   "source": [
    "The second important concept is **immutability**, and this is NOT just a Series concept; it's a widespread concept in pandas and Data Science in general. In this case, you'll see that when we \"sort a series\", **we don't ACTUALLY sort the series itself**. There's a NEW series returned. The underlying series has NOT changed; it has NOT been mutated.\n",
    "\n",
    "This is a CRUCIAL concept in Data Science in general. We don't want to change/mutate things, as it's harder to keep track of these changes.\n",
    "\n",
    "If by any chance, you DO want to mutate your series, in this case, you want to sort it and alter the underlying series (in ``s`` in this case), you must pass the ``inplace=True`` attribute. When doing so, you'll see that this time the method doesn't return anything, but the underlying series (in s has changed) to contain the data in the order required.\n",
    "\n",
    "Again, immutability is both preferred and encouraged, so try to use immutable methods as much as possible. For example, it is fine to create a second variable with the values sorted (``s_sorted_values``) and without changing ``s``."
   ]
  },
  {
   "cell_type": "code",
   "execution_count": null,
   "metadata": {},
   "outputs": [],
   "source": [
    "s.head()"
   ]
  },
  {
   "cell_type": "markdown",
   "metadata": {},
   "source": [
    "We will sort the series by revenue, ascending, and we'll mutate the original one. Notice how the method doesn't return anything:"
   ]
  },
  {
   "cell_type": "code",
   "execution_count": null,
   "metadata": {},
   "outputs": [],
   "source": [
    "s.sort_values(inplace=True)"
   ]
  },
  {
   "cell_type": "markdown",
   "metadata": {},
   "source": [
    "But now the series is sorted by revenue in ascending order:"
   ]
  },
  {
   "cell_type": "code",
   "execution_count": null,
   "metadata": {},
   "outputs": [],
   "source": [
    "s.head()"
   ]
  },
  {
   "cell_type": "markdown",
   "metadata": {},
   "source": [
    "We'll now sort the series by index, mutating it again:"
   ]
  },
  {
   "cell_type": "code",
   "execution_count": null,
   "metadata": {},
   "outputs": [],
   "source": [
    "s.sort_index(inplace=True)"
   ]
  },
  {
   "cell_type": "code",
   "execution_count": null,
   "metadata": {},
   "outputs": [],
   "source": [
    "s.head()"
   ]
  },
  {
   "cell_type": "markdown",
   "metadata": {},
   "source": [
    "## Activities"
   ]
  },
  {
   "cell_type": "markdown",
   "metadata": {},
   "source": [
    "9. **Sort American Companies by Revenue**\n",
    "\n",
    "    Create a new variable ``american_companies_desc`` that contains the results of sorting ``american_companies`` by revenue (this is, by value) in descending order."
   ]
  },
  {
   "cell_type": "code",
   "execution_count": null,
   "metadata": {},
   "outputs": [],
   "source": [
    "# Run this cell to complete the activity\n",
    "american_companies = s[[\n",
    "    'Meta', 'IBM', 'Microsoft',\n",
    "    'Dell Technologies', 'Apple', 'Intel', 'Alphabet'\n",
    "]]"
   ]
  },
  {
   "cell_type": "code",
   "execution_count": null,
   "metadata": {},
   "outputs": [],
   "source": [
    "american_companies_desc = american_companies.sort_values(ascending=False)\n",
    "american_companies_desc"
   ]
  },
  {
   "cell_type": "markdown",
   "metadata": {},
   "source": [
    "10. **Sort (and mutate) international companies**\n",
    "    \n",
    "    Now it's time to do what we told you NOT to do, but we need practice it. There's a new series defined named international_companies. Your task is to sort them by Revenue in **descending order** (larger to smaller) but doing it in place, that is, modifying the series.\n",
    "\n",
    "    If you make a mistake, you can always re-run the cell that generates the Series."
   ]
  },
  {
   "cell_type": "code",
   "execution_count": null,
   "metadata": {},
   "outputs": [],
   "source": [
    "# Run this cell to complete the activity\n",
    "international_companies = s[[\n",
    "    \"Sony\", \"Tencent\", \"Panasonic\",\n",
    "    \"Samsung\", \"Hitachi\", \"Foxconn\", \"Huawei\"\n",
    "]]\n",
    "international_companies"
   ]
  },
  {
   "cell_type": "code",
   "execution_count": null,
   "metadata": {},
   "outputs": [],
   "source": [
    "international_companies.sort_values(ascending=False, inplace=True)\n",
    "international_companies.head()"
   ]
  },
  {
   "cell_type": "markdown",
   "metadata": {},
   "source": [
    "## Modifying Series"
   ]
  },
  {
   "cell_type": "markdown",
   "metadata": {},
   "source": [
    "Modifying series is something we hardly want to do. As mentioned in the previous section, we try to be \"immutable\". So changing series is usually not recommended.\n",
    "\n",
    "But still, it's possible to modify series by changing values, adding or removing elements. This works in the same way as with Python dictionaries.\n",
    "\n",
    "For example, to modify an existing value, we can just \"step over it\", let's say we want to set IBM's revenue to $0. We can just do:\n",
    "\n",
    "```py\n",
    "s['IBM'] = 0\n",
    "```\n",
    "To add elements (or change the value of an element), you can just use the index of the new element: ``s['Tesla'] = 21450``.\n",
    "\n",
    "To remove an element, we use the del keyword and the index: ``del s[\"Apple\"]``.\n",
    "\n",
    "Again, these are the same ways we use to add/remove elements from dictionaries."
   ]
  },
  {
   "cell_type": "markdown",
   "metadata": {},
   "source": [
    "Modifying values:"
   ]
  },
  {
   "cell_type": "code",
   "execution_count": null,
   "metadata": {},
   "outputs": [],
   "source": [
    "s['IBM']  = 0"
   ]
  },
  {
   "cell_type": "code",
   "execution_count": null,
   "metadata": {},
   "outputs": [],
   "source": [
    "s.sort_values().head()"
   ]
  },
  {
   "cell_type": "markdown",
   "metadata": {},
   "source": [
    "Adding elements:"
   ]
  },
  {
   "cell_type": "code",
   "execution_count": null,
   "metadata": {},
   "outputs": [],
   "source": [
    "s['Tesla'] = 21450"
   ]
  },
  {
   "cell_type": "code",
   "execution_count": null,
   "metadata": {},
   "outputs": [],
   "source": [
    "s.sort_values().head()"
   ]
  },
  {
   "cell_type": "markdown",
   "metadata": {},
   "source": [
    "11. **Insert Amazon's Revenue**\n",
    "\n",
    "    Insert a new element in our series ``s``, Amazon with a total revenue of: ``$469,822`` (million dollars)."
   ]
  },
  {
   "cell_type": "code",
   "execution_count": null,
   "metadata": {},
   "outputs": [],
   "source": [
    "s['Amazon'] = 469822"
   ]
  },
  {
   "cell_type": "markdown",
   "metadata": {},
   "source": [
    "12. **Delete the revenue of Meta**\n",
    "\n",
    "    Remove the entry for Meta from the series ``s``."
   ]
  },
  {
   "cell_type": "code",
   "execution_count": null,
   "metadata": {},
   "outputs": [],
   "source": [
    "del s['Meta']"
   ]
  },
  {
   "cell_type": "markdown",
   "metadata": {},
   "source": [
    "## Concatenating Series (immutable)"
   ]
  },
  {
   "cell_type": "markdown",
   "metadata": {},
   "source": [
    "Finally, if you want to \"concatenate\" two series, you can use the ``concat()`` method ``s.concat(dataframe1 or series1, dataframe2 or series2)`` as shown in the example in the notebook. In this case, the method returns a new series or dataframe with the values of the two series/dataframe concatenated."
   ]
  },
  {
   "cell_type": "code",
   "execution_count": null,
   "metadata": {},
   "outputs": [],
   "source": [
    "another_s = pd.Series([21_450, 4_120], index=['Tesla', 'Snapchat'])"
   ]
  },
  {
   "cell_type": "code",
   "execution_count": null,
   "metadata": {},
   "outputs": [],
   "source": [
    "another_s"
   ]
  },
  {
   "cell_type": "code",
   "execution_count": null,
   "metadata": {},
   "outputs": [],
   "source": [
    "s_new = pd.concat([s, another_s])"
   ]
  },
  {
   "cell_type": "code",
   "execution_count": null,
   "metadata": {},
   "outputs": [],
   "source": [
    "s"
   ]
  },
  {
   "cell_type": "code",
   "execution_count": null,
   "metadata": {},
   "outputs": [],
   "source": [
    "s_new"
   ]
  },
  {
   "cell_type": "markdown",
   "metadata": {},
   "source": [
    "# Series Practice with S&P Companies Market Cap"
   ]
  },
  {
   "cell_type": "markdown",
   "metadata": {},
   "source": [
    "## Introduction"
   ]
  },
  {
   "cell_type": "markdown",
   "metadata": {},
   "source": [
    "Now it's time to put all you've learned about series to a test. Let's start by introducing the data we'll be working with. Make sure you've started your lab, and the Notebook is on the right panel.\n",
    "\n",
    "For this project, we'll be working with the \"market capitalization\" of S&P500 (short for \"Standard and Poor's 500\") companies. The S&P 500 is a free-float, capitalization-weighted index of the top 500 publicly listed stocks in the US (top 500 by market cap). To put it simply: a list of the \"most valuable companies in US Markets\".\n",
    "\n",
    "> **Disclaimer: the data is outdated. As you might know, markets change very rapidly.**\n",
    "\n",
    "But this project has a twist. We will be using two series instead of one that we'll read from two different datasets. The first one is the stock symbols of companies. For example, Apple, Inc. stock symbol is ``AAPL`` (usually styled $AAPL). Facebook's symbol is ``FB`` ($FB).\n",
    "\n",
    "The second dataset contains the market cap of each company by its symbol. For example, the market cap of ``AAPL`` (Apple Inc.) is ``$809,508,034,020``.\n",
    "\n",
    "The first thing you'll see in the Notebook is a preview of the underlying datasets we're using: ``sp500-symbols.csv`` and ``sp500-marketcap.csv``. Next, we use the ``head`` Linux command to peek at each file's first five lines.\n",
    "\n",
    "We then import pandas (``import pandas as pd``) and load the data into series using the ``read_csv`` method. Don't worry about it yet! We'll use A LOT of ``read_csv`` during this track, so you'll get pretty used to it soon.\n",
    "\n",
    "At the end of those operations, you'll have two series containing the data we'll be working with. One is ``market_cap`` (that includes market cap by symbol), and the other is ``symbols`` that contain the names of the companies and their stock symbol.\n",
    "\n",
    "Take a few minutes to familiarize yourself with both Series, and then let's get started!\n"
   ]
  },
  {
   "cell_type": "code",
   "execution_count": null,
   "metadata": {},
   "outputs": [],
   "source": [
    "import pandas as pd"
   ]
  },
  {
   "cell_type": "code",
   "execution_count": null,
   "metadata": {},
   "outputs": [],
   "source": [
    "market_cap = pd.read_csv(\"sp500-marketcap.csv\", index_col=\"Symbol\")['Market Cap']\n",
    "market_cap.head()"
   ]
  },
  {
   "cell_type": "code",
   "execution_count": null,
   "metadata": {},
   "outputs": [],
   "source": [
    "symbols = pd.read_csv(\"sp500-symbols.csv\", index_col=\"Name\")['Symbol']\n",
    "symbols.head()"
   ]
  },
  {
   "cell_type": "markdown",
   "metadata": {},
   "source": [
    "## Basic Series Attributes"
   ]
  },
  {
   "cell_type": "markdown",
   "metadata": {},
   "source": [
    "We'll start by doing a simple *reconnaissance* of the series we're working with."
   ]
  },
  {
   "cell_type": "markdown",
   "metadata": {},
   "source": [
    "1. **Name of the market_cap Series**\n",
    "\n",
    "    What's the name of the series contained in the ``market_cap`` variable?"
   ]
  },
  {
   "cell_type": "code",
   "execution_count": null,
   "metadata": {},
   "outputs": [],
   "source": [
    "market_cap.name"
   ]
  },
  {
   "cell_type": "markdown",
   "metadata": {},
   "source": [
    "2. **Name of the symbols Series**\n",
    "\n",
    "    What's the name of the series contained in the ``symbols`` variable?"
   ]
  },
  {
   "cell_type": "code",
   "execution_count": null,
   "metadata": {},
   "outputs": [],
   "source": [
    "symbols.name"
   ]
  },
  {
   "cell_type": "markdown",
   "metadata": {},
   "source": [
    "3. **What's the dtype of ``market_cap``**\n",
    "    \n",
    "    What's the dtype of the series contained in the ``market_cap`` variable?"
   ]
  },
  {
   "cell_type": "code",
   "execution_count": null,
   "metadata": {},
   "outputs": [],
   "source": [
    "market_cap.dtype"
   ]
  },
  {
   "cell_type": "markdown",
   "metadata": {},
   "source": [
    "4. **What's the dtype of ``symbols``**\n",
    "\n",
    "    What's the dtype of the series contained in the symbols variable?"
   ]
  },
  {
   "cell_type": "code",
   "execution_count": null,
   "metadata": {},
   "outputs": [],
   "source": [
    "symbols.dtype"
   ]
  },
  {
   "cell_type": "markdown",
   "metadata": {},
   "source": [
    "5. **How many elements do the series have?**\n",
    "\n",
    "    How many elements ``market_cap`` series contains?"
   ]
  },
  {
   "cell_type": "code",
   "execution_count": null,
   "metadata": {},
   "outputs": [],
   "source": [
    "len(market_cap)"
   ]
  },
  {
   "cell_type": "markdown",
   "metadata": {},
   "source": [
    "6. **What's the minimum value for Market Cap?**"
   ]
  },
  {
   "cell_type": "code",
   "execution_count": null,
   "metadata": {},
   "outputs": [],
   "source": [
    "market_cap.min()"
   ]
  },
  {
   "cell_type": "markdown",
   "metadata": {},
   "source": [
    "7. **What's the maximum value for Market Cap?**"
   ]
  },
  {
   "cell_type": "code",
   "execution_count": null,
   "metadata": {},
   "outputs": [],
   "source": [
    "market_cap.max()"
   ]
  },
  {
   "cell_type": "markdown",
   "metadata": {},
   "source": [
    "\n",
    "8. **What's the average Market Cap?**\n",
    "\n",
    "    Find the average value for Market Cap, and enter it WITHOUT decimals. Just the integer number (if you find the average is 1948.88, just enter 1948)."
   ]
  },
  {
   "cell_type": "code",
   "execution_count": null,
   "metadata": {},
   "outputs": [],
   "source": [
    "market_cap.mean()"
   ]
  },
  {
   "cell_type": "markdown",
   "metadata": {},
   "source": [
    "9. **What's the median Market Cap?**\n",
    "\n",
    "    Find the median value for Market Cap, and enter it WITHOUT decimals. Just the integer number (if you find the median is 1948.0, just enter 1948)."
   ]
  },
  {
   "cell_type": "code",
   "execution_count": null,
   "metadata": {},
   "outputs": [],
   "source": [
    "market_cap.median()"
   ]
  },
  {
   "cell_type": "markdown",
   "metadata": {},
   "source": [
    "## Selection and Indexing"
   ]
  },
  {
   "cell_type": "markdown",
   "metadata": {},
   "source": [
    "Now it's time to do practice some selection and indexing using Series. We'll start with some basic activities with each series, and by the end we'll be using both of them."
   ]
  },
  {
   "cell_type": "markdown",
   "metadata": {},
   "source": [
    "10. **What's the symbol of ``Oracle Corp``.?**"
   ]
  },
  {
   "cell_type": "code",
   "execution_count": null,
   "metadata": {},
   "outputs": [],
   "source": [
    "symbols.loc['Oracle Corp.']"
   ]
  },
  {
   "cell_type": "markdown",
   "metadata": {},
   "source": [
    "11. **What's the Market Cap of ``Oracle Corp.``?**"
   ]
  },
  {
   "cell_type": "code",
   "execution_count": null,
   "metadata": {},
   "outputs": [],
   "source": [
    "market_cap.loc['ORCL']"
   ]
  },
  {
   "cell_type": "markdown",
   "metadata": {},
   "source": [
    "12. **What's the Market Cap of ``Wal-Mart Stores``?**"
   ]
  },
  {
   "cell_type": "code",
   "execution_count": null,
   "metadata": {},
   "outputs": [],
   "source": [
    "market_cap.loc[symbols.loc['Wal-Mart Stores']]"
   ]
  },
  {
   "cell_type": "markdown",
   "metadata": {},
   "source": [
    "13. **What's the symbol of the 129th company?**"
   ]
  },
  {
   "cell_type": "code",
   "execution_count": null,
   "metadata": {},
   "outputs": [],
   "source": [
    "symbols.iloc[128]"
   ]
  },
  {
   "cell_type": "markdown",
   "metadata": {},
   "source": [
    "14. **What's the Market Cap of the 88th company in ``symbols``?**"
   ]
  },
  {
   "cell_type": "markdown",
   "metadata": {},
   "source": [
    "Warning! The companies might be out of order... so the 88th company in ``symbols`` might not be the same as the 88th one in ``market_cap``. We need you to find the 88th company in ``symbols`` first, and then the the Market Cap from ``market_cap`` for that particular symbol."
   ]
  },
  {
   "cell_type": "code",
   "execution_count": null,
   "metadata": {},
   "outputs": [],
   "source": [
    "market_cap.loc[symbols.iloc[87]]"
   ]
  },
  {
   "cell_type": "markdown",
   "metadata": {},
   "source": [
    "15. **Create a new series only with FAANG Stocks**\n",
    "\n",
    "    There's a common term in investing (and in tech) which is FAANG companies. This refers to \"big tech\" companies by their acronyms. For example, ``FAANG`` means the following companies: Facebook Apple Amazon Netflix and Google (read more about FAANG and Big Tech in Wikipedia).\n",
    "\n",
    "    > Here FAANG refers to acronym of few companies but there are other big tech companies like Microsoft. So, the term FAANG is not a strict definition of big tech companies.\n",
    "\n",
    "    Your task is to create a new series, under the variable ``faang_market_cap``, containing the market cap of the following companies:\n",
    "\n",
    "    - ``Amazon.com Inc``\n",
    "    - ``Apple Inc.``\n",
    "    - ``Microsoft Corp.``\n",
    "    - ``Alphabet Inc Class A`` (this is Google's main stock)\n",
    "    - ``Facebook, Inc.``\n",
    "    - ``Netflix Inc.``\n",
    "\n",
    "    **Important**! The stocks must be in THIS order. You will need to find the Symbols of the companies first.\n",
    "\n",
    "    Also important, as stated above, you MUST create a variable containing your new series. Your code should look something like:\n",
    "\n",
    "    ``faang_market_cap = ... # your code``\n",
    "    \n",
    "    There's a way to combine everything in a one-liner. Try to solve this task without looking at the solution; but after you've finished it, take a peak at it because there's a neat trick explained at the end of the solution."
   ]
  },
  {
   "cell_type": "code",
   "execution_count": null,
   "metadata": {},
   "outputs": [],
   "source": [
    "market_cap.sort_values(ascending=False).head(8)"
   ]
  },
  {
   "cell_type": "code",
   "execution_count": null,
   "metadata": {},
   "outputs": [],
   "source": [
    "faang_market_cap = pd.Series([market_cap.loc[symbols['Amazon.com Inc']],\n",
    "                              market_cap.loc[symbols['Apple Inc.']],\n",
    "                              market_cap.loc[symbols['Microsoft Corp.']],\n",
    "                              market_cap.loc[symbols['Alphabet Inc Class A']],\n",
    "                              market_cap.loc[symbols['Facebook, Inc.']],\n",
    "                              market_cap.loc[symbols['Netflix Inc.']]\n",
    "                              ], index= [symbols['Amazon.com Inc'],\n",
    "                                         symbols['Apple Inc.'],\n",
    "                                         symbols['Microsoft Corp.'],\n",
    "                                         symbols['Alphabet Inc Class A'],\n",
    "                                         symbols['Facebook, Inc.'],\n",
    "                                         symbols['Netflix Inc.']])"
   ]
  },
  {
   "cell_type": "code",
   "execution_count": null,
   "metadata": {},
   "outputs": [],
   "source": [
    "faang_market_cap"
   ]
  },
  {
   "cell_type": "markdown",
   "metadata": {},
   "source": [
    "One neat trick with Pandas is that we can use the values of one series to select elements from another series. So we could have just done:"
   ]
  },
  {
   "cell_type": "code",
   "execution_count": null,
   "metadata": {},
   "outputs": [],
   "source": [
    "faang_market_cap2 = market_cap[symbols[[\"Amazon.com Inc\", \"Apple Inc.\", \"Microsoft Corp.\", \"Alphabet Inc Class A\", \"Facebook, Inc.\", \"Netflix Inc.\", ]]]"
   ]
  },
  {
   "cell_type": "code",
   "execution_count": null,
   "metadata": {},
   "outputs": [],
   "source": [
    "faang_market_cap2"
   ]
  },
  {
   "cell_type": "markdown",
   "metadata": {},
   "source": [
    "16. **Select the market cap of companies in position 1st, 100th, 200th, etc.**\n",
    "\n",
    "    The S&P500 index contains 500 companies. Create a variable ``position_companies`` that contains the market cap of the companies in the positions:\n",
    "\n",
    "    - 1st\n",
    "    - 100th\n",
    "    - 200th\n",
    "    - 300th\n",
    "    - 400th\n",
    "    - 500th\n",
    "    \n",
    "    **Important!** This selection should be done under ``market_cap``. Don't use ``symbols`` for this particular activity."
   ]
  },
  {
   "cell_type": "code",
   "execution_count": null,
   "metadata": {},
   "outputs": [],
   "source": [
    "position_companies = market_cap.iloc[[0,99,199,299,399,499]]\n",
    "position_companies"
   ]
  },
  {
   "cell_type": "markdown",
   "metadata": {},
   "source": [
    "## Sorting Series"
   ]
  },
  {
   "cell_type": "markdown",
   "metadata": {},
   "source": [
    "17. **What's the 4th company sorted lexicographically by their symbol?**\n",
    "\n",
    "    Use the ``symbols`` series to sort **the symbols** in lexicographical order (ascending). Which company (the name, the index value) appears in the 4th position? Note: the answer is the full company name. For example, the full name of ``MSFT`` (Microsoft) is ``Microsoft Corp.``, as it appears in the index. The correct answer would be Microsoft Corp.. By the way, Microsoft is definitively NOT the correct answer."
   ]
  },
  {
   "cell_type": "code",
   "execution_count": null,
   "metadata": {},
   "outputs": [],
   "source": [
    "symbols.sort_values(ascending=True).head()"
   ]
  },
  {
   "cell_type": "markdown",
   "metadata": {},
   "source": [
    "18. **What's the Market Cap of the 7th company (in descending order)?**"
   ]
  },
  {
   "cell_type": "markdown",
   "metadata": {},
   "source": [
    "Using the ``market_cap`` series, sort the companies by their symbol in lexicographical order in **descending mode** and enter the revenue of the 7th company."
   ]
  },
  {
   "cell_type": "code",
   "execution_count": null,
   "metadata": {},
   "outputs": [],
   "source": [
    "market_cap.sort_index(ascending=False)[:7]"
   ]
  },
  {
   "cell_type": "markdown",
   "metadata": {},
   "source": [
    "# Practice Series Filtering"
   ]
  },
  {
   "cell_type": "markdown",
   "metadata": {},
   "source": [
    "## Introduction"
   ]
  },
  {
   "cell_type": "markdown",
   "metadata": {},
   "source": [
    "In this lab, we will practice filtering with conditionals and sorting on pandas series using dataset that contains information about international cricket players who have played since 2002. The data includes the player's name, number of innings they have played, number of runs they have scored, number of balls they have faced, number of times they have been dismissed, their batting average, their strike rate, their highest score, number of fours they have hit, number of sixes they have hit, number of times they have scored a half-century, and number of times they have scored a century.\n",
    "\n",
    "Below are the columns of the dataset:\n",
    "\n",
    "- Player: Name of the player\n",
    "- I: Number of innings played\n",
    "- R: Number of runs scored\n",
    "- B: Number of balls faced\n",
    "- Outs: Number of times dismissed\n",
    "- Avg: Batting average\n",
    "- SR: Strike rate\n",
    "- HS: Highest score\n",
    "- 4s: Number of fours hit\n",
    "- 6s: Number of sixes hit\n",
    "- 50: Number of times scored a half-century\n",
    "- 100: Number of times scored a century\n",
    "\n",
    "Let's get started with the lab now!"
   ]
  },
  {
   "cell_type": "code",
   "execution_count": null,
   "metadata": {},
   "outputs": [],
   "source": [
    "import pandas as pd"
   ]
  },
  {
   "cell_type": "code",
   "execution_count": null,
   "metadata": {},
   "outputs": [],
   "source": [
    "data = pd.read_csv(\"leadersdata.csv\")\n",
    "data"
   ]
  },
  {
   "cell_type": "code",
   "execution_count": null,
   "metadata": {},
   "outputs": [],
   "source": [
    "data.columns"
   ]
  },
  {
   "cell_type": "code",
   "execution_count": null,
   "metadata": {},
   "outputs": [],
   "source": [
    "data.set_index('Player', inplace=True)"
   ]
  },
  {
   "cell_type": "code",
   "execution_count": null,
   "metadata": {},
   "outputs": [],
   "source": [
    "# Creating pandas series for each column\n",
    "innings = data['I']\n",
    "runs = data['R']\n",
    "balls = data['B']\n",
    "outs = data['Outs']\n",
    "batting_average = data['Avg']\n",
    "strike_rate = data['SR']\n",
    "highest_score = data['HS']\n",
    "number_of_fours = data['4s']\n",
    "number_of_sixes = data['6s']\n",
    "number_of_fifties = data['50']\n",
    "number_of_hundreds = data['100']"
   ]
  },
  {
   "cell_type": "code",
   "execution_count": null,
   "metadata": {},
   "outputs": [],
   "source": [
    "# Printing the first 5 rows of each series\n",
    "print(\"Innings:\\n\", innings.head())\n",
    "print(\"Runs:\\n\", runs.head())\n",
    "print(\"Balls:\\n\", balls.head())\n",
    "print(\"Outs:\\n\", outs.head())\n",
    "print(\"Batting Average:\\n\", batting_average.head())\n",
    "print(\"Strike Rate:\\n\", strike_rate.head())\n",
    "print(\"Highest Score:\\n\", highest_score.head())\n",
    "print(\"Number of Fours:\\n\", number_of_fours.head())\n",
    "print(\"Number of Sixes:\\n\", number_of_sixes.head())\n",
    "print(\"Number of Fifties:\\n\", number_of_fifties.head())\n",
    "print(\"Number of Hundreds:\\n\", number_of_hundreds.head())"
   ]
  },
  {
   "cell_type": "markdown",
   "metadata": {},
   "source": [
    "## Activities"
   ]
  },
  {
   "cell_type": "markdown",
   "metadata": {},
   "source": [
    "1. **How many players have a batting average greater than 30 in the ``batting_average`` series**"
   ]
  },
  {
   "cell_type": "code",
   "execution_count": null,
   "metadata": {},
   "outputs": [],
   "source": [
    "batting_average.loc[lambda x : x > 30].shape"
   ]
  },
  {
   "cell_type": "code",
   "execution_count": null,
   "metadata": {},
   "outputs": [],
   "source": [
    "len(batting_average[batting_average > 30])"
   ]
  },
  {
   "cell_type": "markdown",
   "metadata": {},
   "source": [
    "2. **What is the maximum number of runs scored by a player in the ``runs`` series**"
   ]
  },
  {
   "cell_type": "code",
   "execution_count": null,
   "metadata": {},
   "outputs": [],
   "source": [
    "runs.max()"
   ]
  },
  {
   "cell_type": "markdown",
   "metadata": {},
   "source": [
    "3. **Name the player with maximum runs**\n",
    "\n",
    "    Write the name of the player who has scored the maximum number of runs."
   ]
  },
  {
   "cell_type": "code",
   "execution_count": null,
   "metadata": {},
   "outputs": [],
   "source": [
    "runs.sort_values(ascending=False)[:1]"
   ]
  },
  {
   "cell_type": "code",
   "execution_count": null,
   "metadata": {},
   "outputs": [],
   "source": [
    "runs[runs == runs.max()]"
   ]
  },
  {
   "cell_type": "markdown",
   "metadata": {},
   "source": [
    "4. **Name the player who played least number of balls**\n",
    "\n",
    "    There is a possibility that more than one player has played the least number of balls. In that case, write the names of first and last players names separated by a comma. For example, write ``A, B``."
   ]
  },
  {
   "cell_type": "code",
   "execution_count": null,
   "metadata": {},
   "outputs": [],
   "source": [
    "balls[balls == balls.min()]"
   ]
  },
  {
   "cell_type": "markdown",
   "metadata": {},
   "source": [
    "5. **How many players have played more than 500 balls in the ``balls`` series**"
   ]
  },
  {
   "cell_type": "code",
   "execution_count": null,
   "metadata": {},
   "outputs": [],
   "source": [
    "len(balls[balls > 500])"
   ]
  },
  {
   "cell_type": "markdown",
   "metadata": {},
   "source": [
    "6. **What is the mean value of the batting_average series**\n",
    "\n",
    "    Write your answer in the form of a number with 2 decimal places. For example, if the answer is 1.234567, write 1.23."
   ]
  },
  {
   "cell_type": "code",
   "execution_count": null,
   "metadata": {},
   "outputs": [],
   "source": [
    "batting_average.mean()"
   ]
  },
  {
   "cell_type": "markdown",
   "metadata": {},
   "source": [
    "7. **How many players have a strike rate not equal to 70 in the ``strike_rate`` series**"
   ]
  },
  {
   "cell_type": "code",
   "execution_count": null,
   "metadata": {},
   "outputs": [],
   "source": [
    "len(strike_rate[strike_rate != 70])"
   ]
  },
  {
   "cell_type": "markdown",
   "metadata": {},
   "source": [
    "8. **What is the minimum number of innings played by a player in the ``innings`` series**"
   ]
  },
  {
   "cell_type": "code",
   "execution_count": null,
   "metadata": {},
   "outputs": [],
   "source": [
    "innings.min()"
   ]
  },
  {
   "cell_type": "markdown",
   "metadata": {},
   "source": [
    "9. **How many players have a batting average greater than 50 in the ``batting_average`` series**"
   ]
  },
  {
   "cell_type": "code",
   "execution_count": null,
   "metadata": {},
   "outputs": [],
   "source": [
    "len(batting_average[batting_average > 50])"
   ]
  },
  {
   "cell_type": "markdown",
   "metadata": {},
   "source": [
    "10. **How many players have a batting average between 20 and 30 (inclusive) in the ``batting_average`` series**"
   ]
  },
  {
   "cell_type": "code",
   "execution_count": null,
   "metadata": {},
   "outputs": [],
   "source": [
    "len(batting_average.loc[lambda x : (x >= 20) & (x <= 30)])"
   ]
  },
  {
   "cell_type": "markdown",
   "metadata": {},
   "source": [
    "11. **Calculating the Average Balls Faced by a Player**\n",
    "\n",
    "    The ``balls`` series contains information about the number of balls faced by different players in a cricket match. The task is to calculate the average number of balls faced by a player.\n",
    "\n",
    "    Round off the result to two decimal places. For example, if the answer is 123.456789, write 123.46."
   ]
  },
  {
   "cell_type": "code",
   "execution_count": null,
   "metadata": {},
   "outputs": [],
   "source": [
    "balls.mean()"
   ]
  },
  {
   "cell_type": "markdown",
   "metadata": {},
   "source": [
    "12. **How many players have a strike rate greater than 120 in the ``strike_rate`` series**"
   ]
  },
  {
   "cell_type": "code",
   "execution_count": null,
   "metadata": {},
   "outputs": [],
   "source": [
    "len(strike_rate[strike_rate > 120])"
   ]
  },
  {
   "cell_type": "markdown",
   "metadata": {},
   "source": [
    "13. **Provide the names of the top three players from the ``strike_rate`` series**\n",
    "\n",
    "    Write the names of the players in the decreasing order of their strike rate separated by a comma. For example, write ``A, B, C``."
   ]
  },
  {
   "cell_type": "code",
   "execution_count": null,
   "metadata": {},
   "outputs": [],
   "source": [
    "strike_rate.sort_values(ascending=False).head(3)"
   ]
  },
  {
   "cell_type": "markdown",
   "metadata": {},
   "source": [
    "14. **Sum of Maximums from ``number_of_fours`` and ``number_of_sixes`` Series**\n",
    "\n",
    "    The goal is to calculate the sum of the maximum values from both series combined. For example, if the maximum value in ``number_of_fours`` is ``10`` and the maximum value in ``number_of_sixes`` is ``20``, then the answer is ``30``."
   ]
  },
  {
   "cell_type": "code",
   "execution_count": null,
   "metadata": {},
   "outputs": [],
   "source": [
    "number_of_fours.max() + number_of_sixes.max()"
   ]
  },
  {
   "cell_type": "markdown",
   "metadata": {},
   "source": [
    "15. **How many players have a batting average below ``10`` in the ``batting_average`` series**"
   ]
  },
  {
   "cell_type": "code",
   "execution_count": null,
   "metadata": {},
   "outputs": [],
   "source": [
    "len(batting_average[batting_average < 10])"
   ]
  },
  {
   "cell_type": "markdown",
   "metadata": {},
   "source": [
    "16. **Name the player who hit maximum sixes**\n",
    "\n",
    "    Write the player name along with the number of sixes hit by the player separated by a comma. For example, write ``A, 10``."
   ]
  },
  {
   "cell_type": "code",
   "execution_count": null,
   "metadata": {},
   "outputs": [],
   "source": [
    "number_of_sixes[number_of_sixes == number_of_sixes.max()]"
   ]
  },
  {
   "cell_type": "markdown",
   "metadata": {},
   "source": [
    "17. **How many players have a strike rate between 80 and 90 (inclusive) in the ``strike_rate`` series**"
   ]
  },
  {
   "cell_type": "code",
   "execution_count": null,
   "metadata": {},
   "outputs": [],
   "source": [
    "len(strike_rate[(strike_rate >= 80) & (strike_rate <= 90)])"
   ]
  },
  {
   "cell_type": "markdown",
   "metadata": {},
   "source": [
    "18. **What is the total number of runs scored by all players in the ``runs`` series**"
   ]
  },
  {
   "cell_type": "code",
   "execution_count": null,
   "metadata": {},
   "outputs": [],
   "source": [
    "runs.sum()"
   ]
  },
  {
   "cell_type": "markdown",
   "metadata": {},
   "source": [
    "19. **What is the range (difference between the maximum and minimum values) of the ``number_of_fifties`` series**"
   ]
  },
  {
   "cell_type": "code",
   "execution_count": null,
   "metadata": {},
   "outputs": [],
   "source": [
    "number_of_fifties.max() - number_of_fifties.min()"
   ]
  },
  {
   "cell_type": "markdown",
   "metadata": {},
   "source": [
    "20. **How many players have a strike rate below 60 in the ``strike_rate`` series**"
   ]
  },
  {
   "cell_type": "code",
   "execution_count": null,
   "metadata": {},
   "outputs": [],
   "source": [
    "len(strike_rate[strike_rate < 60])"
   ]
  },
  {
   "cell_type": "markdown",
   "metadata": {},
   "source": [
    "21. **Calculating the Mean Number of Boundaries (Fours + Sixes) Hit by a Player**\n",
    "\n",
    "    In this activity, you will be calculating the mean number of boundaries hit by a player. Boundaries include both fours and sixes. You will be given two series: ``number_of_fours`` and ``number_of_sixes``. Your task is to find the mean number of boundaries hit by combining the values from both series.\n",
    "\n",
    "    > Remember to round your answer to two decimal places. For example, if the mean number of boundaries is 1.453, write 1.45."
   ]
  },
  {
   "cell_type": "code",
   "execution_count": null,
   "metadata": {},
   "outputs": [],
   "source": [
    "(number_of_fours + number_of_sixes).mean()"
   ]
  },
  {
   "cell_type": "markdown",
   "metadata": {},
   "source": [
    "22. Players with highest score in ``highest_score`` series\n",
    "\n",
    "    Create a new series named ``top_five_scores`` that contains the top five players names with the highest score in the ``highest_score`` series. The series should be sorted in descending order based on the scores."
   ]
  },
  {
   "cell_type": "code",
   "execution_count": null,
   "metadata": {},
   "outputs": [],
   "source": [
    "top_five_scores = highest_score.sort_values(ascending=False)[:5]"
   ]
  },
  {
   "cell_type": "code",
   "execution_count": null,
   "metadata": {},
   "outputs": [],
   "source": [
    "top_five_scores"
   ]
  },
  {
   "cell_type": "markdown",
   "metadata": {},
   "source": [
    "## Filtering and Conditional Selection with Series"
   ]
  },
  {
   "cell_type": "markdown",
   "metadata": {},
   "source": [
    "### Introdution"
   ]
  },
  {
   "cell_type": "markdown",
   "metadata": {},
   "source": [
    "Now it's time to practice conditional selection with Series. We're going to use the same data as before with Companies' revenues.\n",
    "\n",
    "Conditional Selection is like \"filtering\" or \"querying\" (if you're familiar with SQL). It'll allow us to answer the following types of questions:\n",
    "\n",
    "- what companies made more than ``$X``?\n",
    "- what companies made less than ``$X``?\n",
    "- what companies made between ``$X`` and ``$Y``?\n",
    "\n",
    "Turn on your lab, and let's get started!"
   ]
  },
  {
   "cell_type": "markdown",
   "metadata": {},
   "source": [
    "### Boolean arrays"
   ]
  },
  {
   "cell_type": "markdown",
   "metadata": {},
   "source": [
    "We're going to start introducing the concept of Boolean Arrays (which in turn, is a concept from NumPy, but you're not required to know NumPy to complete this).\n",
    "\n",
    "This concept might sound a little bit strange at the beginning, but trust us, it'll all make sense in the next section.\n",
    "\n",
    "Boolean Arrays is a way of selecting in which we pass the **full index** of the series, and we indicate what elements we want to select and which ones we want to skip. We indicate this by passing *Boolean* values: ``True`` and ``False``.\n",
    "\n",
    "Let's see an example to make it more clear. We're going to use Boolean Arrays to select only American companies. That is: Apple, Alphabet, Microsoft, Dell, Meta, Intel and IBM.\n",
    "\n",
    "Using Boolean Arrays, we need to pass the value ``True`` for each one of those companies, and ``False`` to all the remaining ones."
   ]
  },
  {
   "cell_type": "markdown",
   "metadata": {},
   "source": [
    "Check the example in the notebook to see it in action, but the syntax is basically:\n",
    "\n",
    "```py\n",
    "s.loc[[\n",
    "    True,      # Apple\n",
    "    False,     # Samsung\n",
    "    True,      # Alphabet\n",
    "    False,     # Foxconn\n",
    "    True,      # Microsoft\n",
    "    False,     # Huawei\n",
    "    True,      # Dell\n",
    "    True,      # Meta\n",
    "    False,     # Sony\n",
    "    False,     # Hitachi\n",
    "    True,      # Intel\n",
    "    True,      # IBM\n",
    "    False,     # Tencent\n",
    "    False,     # Panasonic\n",
    "]]\n",
    "```\n",
    "\n",
    "Please note that the list (or array) of boolean values passed must be of EQUAL length as the series index. We must pass a value, either ``True`` or ``False`` for ALL the values in the index. If we are not interested in selecting an element, we just pass ``False``.\n",
    "\n",
    "Now, this might feel like an \"inefficient\" way of selecting data. What happens if you have 1 million records? Are you supposed to type ``True`` or ``False`` for each one of those records? Of course not! In the next section it'll become more clear why Boolean Arrays are important.\n",
    "\n",
    "But first, it's your turn to practice Boolean Arrays and selection:"
   ]
  },
  {
   "cell_type": "code",
   "execution_count": null,
   "metadata": {},
   "outputs": [],
   "source": [
    "import pandas as pd"
   ]
  },
  {
   "cell_type": "code",
   "execution_count": null,
   "metadata": {},
   "outputs": [],
   "source": [
    "companies = [\n",
    "    'Apple', 'Samsung', 'Alphabet', 'Foxconn',\n",
    "    'Microsoft', 'Huawei', 'Dell Technologies',\n",
    "    'Meta', 'Sony', 'Hitachi', 'Intel',\n",
    "    'IBM', 'Tencent', 'Panasonic'\n",
    "]"
   ]
  },
  {
   "cell_type": "code",
   "execution_count": null,
   "metadata": {},
   "outputs": [],
   "source": [
    "s = pd.Series([\n",
    "    274515, 200734, 182527, 181945, 143015,\n",
    "    129184, 92224, 85965, 84893, 82345,\n",
    "    77867, 73620, 69864, 63191],\n",
    "    index=companies,\n",
    "    name=\"Top Technology Companies by Revenue\")"
   ]
  },
  {
   "cell_type": "code",
   "execution_count": null,
   "metadata": {},
   "outputs": [],
   "source": [
    "s"
   ]
  },
  {
   "cell_type": "markdown",
   "metadata": {},
   "source": [
    "### Boolean Arrays"
   ]
  },
  {
   "cell_type": "code",
   "execution_count": null,
   "metadata": {},
   "outputs": [],
   "source": [
    "s.loc[[\n",
    "    True,      # Apple\n",
    "    False,     # Samsung\n",
    "    True,      # Alphabet\n",
    "    False,     # Foxconn\n",
    "    True,      # Microsoft\n",
    "    False,     # Huawei\n",
    "    True,      # Dell\n",
    "    True,      # Meta\n",
    "    False,     # Sony\n",
    "    False,     # Hitachi\n",
    "    True,      # Intel\n",
    "    True,      # IBM\n",
    "    False,     # Tencent\n",
    "    False,     # Panasonic\n",
    "]]"
   ]
  },
  {
   "cell_type": "markdown",
   "metadata": {},
   "source": [
    "1. Select only the Japanese companies\n",
    "\n",
    "    Create a Boolean Array that will select only the Japanese companies in our Series:\n",
    "\n",
    "    - Sony\n",
    "    - Hitachi\n",
    "    - Panasonic\n",
    "    \n",
    "    Store the array in the variable ``japanese_boolean_array``.\n",
    "\n",
    "    Using that same array, select the companies from the Series and store them in a different variable named ``japanese_companies``."
   ]
  },
  {
   "cell_type": "code",
   "execution_count": null,
   "metadata": {},
   "outputs": [],
   "source": [
    "japanese_boolean_array = [\n",
    "    False,      # Apple\n",
    "    False,     # Samsung\n",
    "    False,      # Alphabet\n",
    "    False,     # Foxconn\n",
    "    False,      # Microsoft\n",
    "    False,     # Huawei\n",
    "    False,      # Dell\n",
    "    False,      # Meta\n",
    "    True,     # Sony\n",
    "    True,     # Hitachi\n",
    "    False,      # Intel\n",
    "    False,      # IBM\n",
    "    False,     # Tencent\n",
    "    True,     # Panasonic\n",
    "]"
   ]
  },
  {
   "cell_type": "code",
   "execution_count": null,
   "metadata": {},
   "outputs": [],
   "source": [
    "japanese_companies = s.loc[japanese_boolean_array]\n",
    "japanese_companies"
   ]
  },
  {
   "cell_type": "markdown",
   "metadata": {},
   "source": [
    "### Conditional Selection"
   ]
  },
  {
   "cell_type": "markdown",
   "metadata": {},
   "source": [
    "Now it's when those Boolean Arrays will be really useful (and hopefully, finally click).\n",
    "\n",
    "Turns out that Series accept comparison operators (or boolean operators), like \"greater than\" (``>``), \"less than\" (``<``), etc. The interesting feature is that, the result of applying any of these operators to a Series, is a boolean array!.\n",
    "\n",
    "Let's see an example: in the notebook, you have an example of the expression ``s > 100_000``. This basically asks which values of the series are \"greater than\" 100,000 (which in turns means how many companies's revenue are greater than $100 billion).\n",
    "\n",
    "The result of that expression is the boolean *series*:\n",
    "\n",
    "```py\n",
    "Apple                 True\n",
    "Samsung               True\n",
    "Alphabet              True\n",
    "Foxconn               True\n",
    "Microsoft             True\n",
    "Huawei                True\n",
    "Dell Technologies    False\n",
    "Meta                 False\n",
    "Sony                 False\n",
    "Hitachi              False\n",
    "Intel                False\n",
    "IBM                  False\n",
    "Tencent              False\n",
    "Panasonic            False\n",
    "```\n",
    "\n",
    "We can combine this \"conditional\" expression, with the selection method seen before to put together a very powerful filtering and querying system.\n",
    "\n",
    "Example, let's ask:\n",
    "\n",
    "> **What are the companies which revenues exceed the $100 billion dollars?**\n",
    "\n",
    "We just need to combine the ``.loc`` expression with our boolean array:\n",
    "\n",
    "```py\n",
    "s.loc[s > 100_000]\n",
    "Apple        274515\n",
    "Samsung      200734\n",
    "Alphabet     182527\n",
    "Foxconn      181945\n",
    "Microsoft    143015\n",
    "Huawei       129184\n",
    "Name: Top Technology Companies by Revenue, dtype: int64\n",
    "```\n",
    "\n",
    "We can use any operator that we want: equals (``==``), different from (or not equals to ``!=``), greater than (``>``), greater than or equals to (``>=``), etc.\n",
    "\n",
    "Give it a try, complete the following activities:"
   ]
  },
  {
   "cell_type": "markdown",
   "metadata": {},
   "source": [
    "2. **Select companies with less than $90,000M in Revenue**\n",
    "\n",
    "    Select those companies that have a revenue value less than ``90,000``, select them in a new variable named ``less_90_rev``."
   ]
  },
  {
   "cell_type": "code",
   "execution_count": null,
   "metadata": {},
   "outputs": [],
   "source": [
    "less_90_rev = s.loc[s < 90000]\n",
    "less_90_rev"
   ]
  },
  {
   "cell_type": "markdown",
   "metadata": {},
   "source": [
    "3. Select companies with revenue of more than $150,000M\n",
    "\n",
    "    Select those companies that have a revenue value greater than ``150,000``, select them in a new variable named ``more_150_rev``."
   ]
  },
  {
   "cell_type": "code",
   "execution_count": null,
   "metadata": {},
   "outputs": [],
   "source": [
    "more_150_rev = s.loc[s > 150000]\n",
    "more_150_rev"
   ]
  },
  {
   "cell_type": "markdown",
   "metadata": {},
   "source": [
    "### Combining Series methods with comparison operators"
   ]
  },
  {
   "cell_type": "markdown",
   "metadata": {},
   "source": [
    "This should feel natural based on what we saw in the previous section, but it's still worth mentioning. You can combine comparison operators with Series methods to obtain more generic expressions. For example, let's select the company with the MOST revenue:\n",
    "\n",
    "``s.loc[s == s.max()]``\n",
    "\n",
    "Or we could find those companies with revenue above the average:\n",
    "\n",
    "``s.loc[s >= s.mean()]``\n",
    "\n",
    "Or, a more complex expression could be finding those companies who's revenue is greater than the average + one standard deviation (these concepts are covered in our Descriptive Statistics track; don't worry about the technical details now):\n",
    "\n",
    "``s.loc[s > (s.mean() + s.std())]``"
   ]
  },
  {
   "cell_type": "markdown",
   "metadata": {},
   "source": [
    "#### Company with the most revenue"
   ]
  },
  {
   "cell_type": "code",
   "execution_count": null,
   "metadata": {},
   "outputs": [],
   "source": [
    "s.max()"
   ]
  },
  {
   "cell_type": "code",
   "execution_count": null,
   "metadata": {},
   "outputs": [],
   "source": [
    "s.loc[s == s.max()]"
   ]
  },
  {
   "cell_type": "markdown",
   "metadata": {},
   "source": [
    "#### Company with revenue above average"
   ]
  },
  {
   "cell_type": "code",
   "execution_count": null,
   "metadata": {},
   "outputs": [],
   "source": [
    "s.mean()"
   ]
  },
  {
   "cell_type": "code",
   "execution_count": null,
   "metadata": {},
   "outputs": [],
   "source": [
    "s.loc[s >= s.mean()]"
   ]
  },
  {
   "cell_type": "markdown",
   "metadata": {},
   "source": [
    "#### Companies who's revenue is greater than the average +1 standard deviation"
   ]
  },
  {
   "cell_type": "code",
   "execution_count": null,
   "metadata": {},
   "outputs": [],
   "source": [
    "s.loc[s > (s.mean() + s.std())]"
   ]
  },
  {
   "cell_type": "markdown",
   "metadata": {},
   "source": [
    "### Boolean operators"
   ]
  },
  {
   "cell_type": "markdown",
   "metadata": {},
   "source": [
    "Boolean operators are the and, or, not expressions used to \"concatenate\" conditions. They should be familiar from your Python background. In Pandas, we also have boolean operators that we can use to create more \"complex\" selection expressions, but they're not ``and``, ``or``, ``not`` as in Python, they are:\n",
    "\n",
    "- ``&`` for AND\n",
    "- ``|`` for OR\n",
    "- ``~`` for NOT\n",
    "\n",
    "Let's see them in action using the *OR* operator (``|``). We will compute the expression that selects the companies that have revenue greater than ``$150,000M`` **OR** less than ``$80,000``. Graphically, we want to select the following companies:\n",
    "\n",
    "Let's treat each expression separately; first, let's focus on those companies with revenue greater than $150,000:\n",
    "\n",
    "```py\n",
    ">>> s > 150_000\n",
    "```\n",
    "(see the result in the notebook)\n",
    "\n",
    "Then, those companies with revenue less than $80,000M:\n",
    "\n",
    "```py\n",
    ">>> s < 80_000\n",
    "```\n",
    "(see the result in the notebook)\n",
    "\n",
    "Now, let's put it altogether, using the | (OR) operator. IMPORTANT! When we combine comparison expressions using boolean operators, we must surround each expression in parentheses:\n",
    "\n",
    "```py\n",
    ">>> (s > 150_000) | (s < 80_000)\n",
    "Apple                 True\n",
    "Samsung               True\n",
    "Alphabet              True\n",
    "Foxconn               True\n",
    "Microsoft            False\n",
    "Huawei               False\n",
    "Dell Technologies    False\n",
    "Meta                 False\n",
    "Sony                 False\n",
    "Hitachi              False\n",
    "Intel                 True\n",
    "IBM                   True\n",
    "Tencent               True\n",
    "Panasonic             True\n",
    "```\n",
    "\n",
    "You can see the True values matching the same desired values as the image above."
   ]
  },
  {
   "cell_type": "markdown",
   "metadata": {},
   "source": [
    "#### Companies with revenue greater than $150,000M or less than $80,000M"
   ]
  },
  {
   "cell_type": "markdown",
   "metadata": {},
   "source": [
    "##### Revenue greater than $150,000M"
   ]
  },
  {
   "cell_type": "code",
   "execution_count": null,
   "metadata": {},
   "outputs": [],
   "source": [
    "s > 150_000"
   ]
  },
  {
   "cell_type": "markdown",
   "metadata": {},
   "source": [
    "##### Revenue less than $80,000M"
   ]
  },
  {
   "cell_type": "code",
   "execution_count": null,
   "metadata": {},
   "outputs": [],
   "source": [
    "s < 80_000"
   ]
  },
  {
   "cell_type": "markdown",
   "metadata": {},
   "source": [
    "##### Putting all together"
   ]
  },
  {
   "cell_type": "code",
   "execution_count": null,
   "metadata": {},
   "outputs": [],
   "source": [
    "(s > 150_000) | (s < 80_000)"
   ]
  },
  {
   "cell_type": "markdown",
   "metadata": {},
   "source": [
    "##### Selecting the companies matching the expression:"
   ]
  },
  {
   "cell_type": "code",
   "execution_count": null,
   "metadata": {},
   "outputs": [],
   "source": [
    "s.loc[(s  > 150_000)|(s < 80_000)]"
   ]
  },
  {
   "cell_type": "markdown",
   "metadata": {},
   "source": [
    "##### The NOT (~) operator"
   ]
  },
  {
   "cell_type": "code",
   "execution_count": null,
   "metadata": {},
   "outputs": [],
   "source": [
    "s.loc[s >= 150_000]"
   ]
  },
  {
   "cell_type": "code",
   "execution_count": null,
   "metadata": {},
   "outputs": [],
   "source": [
    "s.loc[~ (s >= 150_000 )]"
   ]
  },
  {
   "cell_type": "markdown",
   "metadata": {},
   "source": [
    "4. **Select companies the companies with the MOST and LESS revenue**"
   ]
  },
  {
   "cell_type": "code",
   "execution_count": null,
   "metadata": {},
   "outputs": [],
   "source": [
    "s.loc[ (s == s.max()) | (s == s.min()) ]"
   ]
  },
  {
   "cell_type": "markdown",
   "metadata": {},
   "source": [
    "5. **Select companies with revenue between ``$80,000M`` and ``$150,000M``**"
   ]
  },
  {
   "cell_type": "code",
   "execution_count": null,
   "metadata": {},
   "outputs": [],
   "source": [
    "s.loc[(s < 150_000) & (s > 80_000)]"
   ]
  },
  {
   "cell_type": "markdown",
   "metadata": {},
   "source": [
    "# Practicing Series Filtering with S&P500 and Census Data"
   ]
  },
  {
   "cell_type": "markdown",
   "metadata": {},
   "source": [
    "In this project you'll practice your Series filtering skills.\n",
    "\n",
    "Before we get started, let's introduce the datasets used. Make sure your lab is running!"
   ]
  },
  {
   "cell_type": "markdown",
   "metadata": {},
   "source": [
    "## Datasets"
   ]
  },
  {
   "cell_type": "markdown",
   "metadata": {},
   "source": [
    "Both datasets used for this project were taken from the publicly available and Open Source RDatasets repository."
   ]
  },
  {
   "cell_type": "markdown",
   "metadata": {},
   "source": [
    "### Age of First Marriage\n",
    "\n",
    "The first one is titled **Age at first marriage of 5,534 US women** ([source](https://vincentarelbundock.github.io/Rdatasets/doc/openintro/age_at_mar.html)). It reads:\n",
    "\n",
    "> **Age at first marriage of 5,534 US women who responded to the National Survey of Family Growth (NSFG) conducted by the CDC in the 2006 and 2010 cycle.**\n",
    "\n",
    "There are a total of 5,534 observations.\n",
    "\n",
    "### S&P500 Returns (1990's)\n",
    "\n",
    "The second one is titled **Returns of the Standard and Poors 500** ([source](https://vincentarelbundock.github.io/Rdatasets/doc/MASS/SP500.html)) contains daily returns for S&P500 in the 1990's (1991-1999). It contains 2,780 values."
   ]
  },
  {
   "cell_type": "markdown",
   "metadata": {},
   "source": [
    "## Reading the data"
   ]
  },
  {
   "cell_type": "markdown",
   "metadata": {},
   "source": [
    "We can use the pandas built-in ``read_csv`` method to read the data that is stored in CSV format. Most commonly, ``read_csv`` is used to read data into DataFrames, but as this project deals with ``Series``, we pass the parameter ``squeeze=True`` to make it a series. Bottom line is: don't worry about it for now, both datasets should be available for you in the variables ``age_marriage`` and ``sp500``.\n",
    "\n",
    "We can also display a quick histogram about our data to understand how it is distributed. This is completely optional."
   ]
  },
  {
   "cell_type": "code",
   "execution_count": null,
   "metadata": {},
   "outputs": [],
   "source": [
    "import pandas as pd\n",
    "# for visualizations, don't worry about these for now\n",
    "import seaborn as sns\n",
    "import matplotlib.pyplot as plt\n",
    "from matplotlib.patches import Rectangle"
   ]
  },
  {
   "cell_type": "code",
   "execution_count": null,
   "metadata": {},
   "outputs": [],
   "source": [
    "age_marriage = pd.read_csv(\"age_at_mar.csv\", index_col=0).squeeze('columns')\n",
    "age_marriage.head() "
   ]
  },
  {
   "cell_type": "code",
   "execution_count": null,
   "metadata": {},
   "outputs": [],
   "source": [
    "age_marriage.shape"
   ]
  },
  {
   "cell_type": "code",
   "execution_count": null,
   "metadata": {},
   "outputs": [],
   "source": [
    "fig, ax = plt.subplots(figsize=(14,7))\n",
    "sns.histplot(age_marriage, ax=ax);"
   ]
  },
  {
   "cell_type": "markdown",
   "metadata": {},
   "source": [
    "### S&P Returns 1990's"
   ]
  },
  {
   "cell_type": "code",
   "execution_count": null,
   "metadata": {},
   "outputs": [],
   "source": [
    "sp500 = pd.read_csv('SP500.csv', index_col=0).squeeze('columns')\n",
    "sp500.head()"
   ]
  },
  {
   "cell_type": "code",
   "execution_count": null,
   "metadata": {},
   "outputs": [],
   "source": [
    "sp500.shape"
   ]
  },
  {
   "cell_type": "code",
   "execution_count": null,
   "metadata": {},
   "outputs": [],
   "source": [
    "fig, ax = plt.subplots(figsize=(14,7))\n",
    "sns.histplot(sp500, ax=ax);"
   ]
  },
  {
   "cell_type": "markdown",
   "metadata": {},
   "source": [
    "## Activities"
   ]
  },
  {
   "cell_type": "markdown",
   "metadata": {},
   "source": [
    "1. Rename the series accordingly\n",
    "\n",
    "    Rename both series with the names specified below, given their variables:\n",
    "\n",
    "    - ``age_marriage``: should be named \"Age of First Marriage\"\n",
    "    - ``sp500``: should be named \"S&P500 Returns 90s\""
   ]
  },
  {
   "cell_type": "code",
   "execution_count": null,
   "metadata": {},
   "outputs": [],
   "source": [
    "age_marriage.name = \"Age of First Marriage\"\n",
    "sp500.name = \"S&P500 Returns 90s\""
   ]
  },
  {
   "cell_type": "markdown",
   "metadata": {},
   "source": [
    "2. What's the maximum Age of marriage?"
   ]
  },
  {
   "cell_type": "code",
   "execution_count": null,
   "metadata": {},
   "outputs": [],
   "source": [
    "age_marriage.max()"
   ]
  },
  {
   "cell_type": "markdown",
   "metadata": {},
   "source": [
    "3. What's the median Age of Marriage?"
   ]
  },
  {
   "cell_type": "code",
   "execution_count": null,
   "metadata": {},
   "outputs": [],
   "source": [
    "age_marriage.median()"
   ]
  },
  {
   "cell_type": "markdown",
   "metadata": {},
   "source": [
    "4. What's the minimum return from S&P500?\n",
    "\n",
    "    Enter the value with up 2 decimals of precision. Example, if the value is ``-11.8718``, enter only ``-11.87``."
   ]
  },
  {
   "cell_type": "code",
   "execution_count": null,
   "metadata": {},
   "outputs": [],
   "source": [
    "sp500.min()"
   ]
  },
  {
   "cell_type": "markdown",
   "metadata": {},
   "source": [
    "5. How many Women marry at age 21?\n",
    "\n",
    "    21 is the most common age for marriage (you can check that using the .mode() method). How many women married at that age?"
   ]
  },
  {
   "cell_type": "code",
   "execution_count": null,
   "metadata": {},
   "outputs": [],
   "source": [
    "len(age_marriage.loc[age_marriage == age_marriage.mode().iloc[0]])"
   ]
  },
  {
   "cell_type": "markdown",
   "metadata": {},
   "source": [
    "6. How many Women marry at 39y/o or older?"
   ]
  },
  {
   "cell_type": "code",
   "execution_count": null,
   "metadata": {},
   "outputs": [],
   "source": [
    "len(age_marriage.loc[age_marriage >= 39])"
   ]
  },
  {
   "cell_type": "markdown",
   "metadata": {},
   "source": [
    "7. How many positive S&P500 returns are there?\n",
    "\n",
    "    That is, a return greater than 0."
   ]
  },
  {
   "cell_type": "code",
   "execution_count": null,
   "metadata": {},
   "outputs": [],
   "source": [
    "len(sp500.loc[sp500 > 0])"
   ]
  },
  {
   "cell_type": "code",
   "execution_count": null,
   "metadata": {},
   "outputs": [],
   "source": [
    "ax = sns.histplot(sp500)\n",
    "ax.axvline(0, color='red')"
   ]
  },
  {
   "cell_type": "markdown",
   "metadata": {},
   "source": [
    "8. How many returns are less or equals than -2?"
   ]
  },
  {
   "cell_type": "code",
   "execution_count": null,
   "metadata": {},
   "outputs": [],
   "source": [
    "len(sp500.loc[sp500 <= -2])"
   ]
  },
  {
   "cell_type": "code",
   "execution_count": null,
   "metadata": {},
   "outputs": [],
   "source": [
    "ax = sns.histplot(sp500)\n",
    "ax.axvline(-2, color='red')"
   ]
  },
  {
   "cell_type": "markdown",
   "metadata": {},
   "source": [
    "### Advanced Selection with Boolean Operators"
   ]
  },
  {
   "cell_type": "markdown",
   "metadata": {},
   "source": [
    "Now it's time to combine conditionals using boolean operators to create more advanced filters. This time, we'll ask you to define new variables that will be checked dynamically."
   ]
  },
  {
   "cell_type": "markdown",
   "metadata": {},
   "source": [
    "9. Select all women below 20 or above 39\n",
    "\n",
    "    Perform a selection of all the values in ``age_marriage`` that are below ``20`` or above ``39``. Store your results in the variable ``age_20_39``."
   ]
  },
  {
   "cell_type": "code",
   "execution_count": null,
   "metadata": {},
   "outputs": [],
   "source": [
    "ig, ax = plt.subplots(figsize=(14, 7))\n",
    "sns.histplot(age_marriage, ax=ax)\n",
    "ax.add_patch(Rectangle((10, 0), 9, 450, alpha=.3, color='red'))\n",
    "ax.add_patch(Rectangle((39, 0), 5, 450, alpha=.3, color='red'))"
   ]
  },
  {
   "cell_type": "code",
   "execution_count": null,
   "metadata": {},
   "outputs": [],
   "source": [
    "age_20_39 = age_marriage.loc[(age_marriage < 20) | (age_marriage > 39)]"
   ]
  },
  {
   "cell_type": "markdown",
   "metadata": {},
   "source": [
    "10. Select all women whose ages are even, and are older than 30 y/o\n",
    "\n",
    "    Perform a selection of all the values that are greater than ``30`` and even. Store your result in the variable ``age_30_even``."
   ]
  },
  {
   "cell_type": "code",
   "execution_count": null,
   "metadata": {},
   "outputs": [],
   "source": [
    "age_30_even = age_marriage.loc[~(age_marriage % 2) & (age_marriage > 30)]\n",
    "age_30_even.head()"
   ]
  },
  {
   "cell_type": "markdown",
   "metadata": {},
   "source": [
    "10. Select the S&P500 returns between 1.5 and 3\n",
    "    The ones depicted below:"
   ]
  },
  {
   "cell_type": "code",
   "execution_count": null,
   "metadata": {},
   "outputs": [],
   "source": [
    "fig, ax = plt.subplots(figsize=(14, 7))\n",
    "sns.histplot(sp500, ax=ax)\n",
    "ax.add_patch(Rectangle((1, 0), 1.5, 250, alpha=.3, color='red'))"
   ]
  },
  {
   "cell_type": "code",
   "execution_count": null,
   "metadata": {},
   "outputs": [],
   "source": [
    "sp_15_to_3 = sp500.loc[(sp500 > 1.5) & (sp500 < 3)]"
   ]
  },
  {
   "cell_type": "code",
   "execution_count": null,
   "metadata": {},
   "outputs": [],
   "source": [
    "sp_15_to_3.head()"
   ]
  },
  {
   "cell_type": "markdown",
   "metadata": {},
   "source": [
    "# Vectorized Operations with Series"
   ]
  },
  {
   "cell_type": "markdown",
   "metadata": {},
   "source": [
    "## Introduction"
   ]
  },
  {
   "cell_type": "markdown",
   "metadata": {},
   "source": [
    "In this brief project, we'll learn about \"Vectorized Operations\". In particular, we'll learn about Vectorized Operations applied to Pandas Series; but in reality, they're a concept original from NumPy, and we'll use it A LOT with DataFrames.\n",
    "\n",
    "So, the examples we'll see here might look trivial, but trust us that they'll be very useful throughout all your Pandas journey.\n",
    "\n",
    "Let's get started!"
   ]
  },
  {
   "cell_type": "markdown",
   "metadata": {},
   "source": [
    "## Understanding Vectorized Operations"
   ]
  },
  {
   "cell_type": "markdown",
   "metadata": {},
   "source": [
    "Vectorized Operations means just applying a \"global\" function to an entire Series. Let's derive an example from a Spreadsheet, in which we create a new column by applying an operation to ANOTHER column:\n",
    "\n",
    "With Series, it's going to be pretty much the same, it might look even simpler. Start the lab if you haven't already and take a look at the first operations.\n",
    "\n",
    "First, we initialize the Series we've been using, this time we name it ``revenue_in_millions``. That's the same series we've used so far, and it captures the revenue of the companies (listed in the Index) in Millions of dollars.\n",
    "\n",
    "We then create **A NEW** Series named ``revenue_in_billions`` just by dividing the whole Series by ``1000``:\n",
    "\n",
    "\n",
    "```py\n",
    ">>> revenue_in_billions = revenue_in_millions / 1000\n",
    "\n",
    "Apple                274.515\n",
    "Samsung              200.734\n",
    "Alphabet             182.527\n",
    "Foxconn              181.945\n",
    "Microsoft            143.015\n",
    "Huawei               129.184\n",
    "Dell Technologies     92.224\n",
    "Meta                  85.965\n",
    "Sony                  84.893\n",
    "Hitachi               82.345\n",
    "Intel                 77.867\n",
    "IBM                   73.620\n",
    "Tencent               69.864\n",
    "Panasonic             63.191\n",
    "```\n",
    "\n",
    "That's it! That's a vectorized operation. We say it's \"vectorized\" because it doesn't act on just 1 value, but in the whole *vector* of values contained in the Series.\n",
    "\n",
    "### Available Operators\n",
    "\n",
    "For now, we'll mostly focus on the regular arithmetic operators: ``+``, ``-``, ``*``, ``/``, ``**``, etc. But you'll see in further labs that we can create vectorized operations with String operations or even our own custom functions.\n",
    "\n",
    "### Practice time\n",
    "\n",
    "Now it's your turn to practice some vectorized operations before we advance to the following section."
   ]
  },
  {
   "cell_type": "code",
   "execution_count": null,
   "metadata": {},
   "outputs": [],
   "source": [
    "import pandas as pd\n",
    "\n",
    "companies = [\n",
    "    'Apple', 'Samsung', 'Alphabet', 'Foxconn',\n",
    "    'Microsoft', 'Huawei', 'Dell Technologies',\n",
    "    'Meta', 'Sony', 'Hitachi', 'Intel',\n",
    "    'IBM', 'Tencent', 'Panasonic'\n",
    "]\n",
    "\n",
    "revenue_in_millions = pd.Series([\n",
    "    274515, 200734, 182527, 181945, 143015,\n",
    "    129184, 92224, 85965, 84893, 82345,\n",
    "    77867, 73620, 69864, 63191],\n",
    "    index=companies,\n",
    "    name=\"Top Technology Companies by Revenue\")"
   ]
  },
  {
   "cell_type": "markdown",
   "metadata": {},
   "source": [
    "#### Understanding Vectorized Operations"
   ]
  },
  {
   "cell_type": "code",
   "execution_count": null,
   "metadata": {},
   "outputs": [],
   "source": [
    "revenue_in_billions = revenue_in_millions / 1000\n",
    "revenue_in_billions"
   ]
  },
  {
   "cell_type": "markdown",
   "metadata": {},
   "source": [
    "### Activities"
   ]
  },
  {
   "cell_type": "markdown",
   "metadata": {},
   "source": [
    "1. Subtract $50B from all companies in ``revenue_in_billions``\n",
    "\n",
    "    The recession just hit! Let's say you need to subtract *$50B* from all the companies in ``revenue_in_billions``. Store the new series in the variable ``revenue_recession``"
   ]
  },
  {
   "cell_type": "code",
   "execution_count": null,
   "metadata": {},
   "outputs": [],
   "source": [
    "revenue_recession = revenue_in_billions - 50"
   ]
  },
  {
   "cell_type": "markdown",
   "metadata": {},
   "source": [
    "2. Create a new series expressing revenue in dollars (units)\n",
    "\n",
    "    The accounting team needs more detail when calculating EBITDA. They need revenue expressed in dollar units (instead of millions or billions). Use either series ``revenue_in_millions`` or revenue_in_billions to create a new series ``revenue_in_dollars``."
   ]
  },
  {
   "cell_type": "code",
   "execution_count": null,
   "metadata": {},
   "outputs": [],
   "source": [
    "revenue_in_dollars = revenue_in_millions * 1000000"
   ]
  },
  {
   "cell_type": "markdown",
   "metadata": {},
   "source": [
    "### Operations between Series"
   ]
  },
  {
   "cell_type": "markdown",
   "metadata": {},
   "source": [
    "If we keep the analogy of spreadsheets, you'll see that it's also possible to create operations between different Series. For example, let's say recession hits again and the revenue of all companies is affected; but not equally. We want to reduce the revenue of each company by a given percentage. For example, Apple's new revenue will be 91% of the original one, Samsung's 93%, etc.\n",
    "\n",
    "Expressing that with Series, we first create the series ``recession_impact``, and apply the operation directly on the ``revenue_in_millions`` original series:\n",
    "\n",
    "```py\n",
    ">>> revenue_in_millions * recession_impact\n",
    "Apple                249808.65\n",
    "Samsung              186682.62\n",
    "Alphabet             178876.46\n",
    "Foxconn              176486.65\n",
    "Microsoft            141584.85\n",
    "Huawei               114973.76\n",
    "Dell Technologies     80234.88\n",
    "Meta                  70491.30\n",
    "Sony                  78950.49\n",
    "Hitachi               76580.85\n",
    "Intel                 69301.63\n",
    "IBM                   71411.40\n",
    "Tencent               67768.08\n",
    "Panasonic             59399.54\n",
    "```\n",
    "\n",
    "Now it's your turn to practice with Operations with Series"
   ]
  },
  {
   "cell_type": "code",
   "execution_count": null,
   "metadata": {},
   "outputs": [],
   "source": [
    "recession_impact = pd.Series([\n",
    "    0.91, 0.93, 0.98, 0.97, 0.99, 0.89, 0.87,\n",
    "    0.82, 0.93, 0.93, 0.89, 0.97, 0.97, 0.94], index=companies)\n",
    "recession_impact"
   ]
  },
  {
   "cell_type": "markdown",
   "metadata": {},
   "source": [
    "The result of applying the recession impact:"
   ]
  },
  {
   "cell_type": "code",
   "execution_count": null,
   "metadata": {},
   "outputs": [],
   "source": [
    "revenue_in_millions * recession_impact"
   ]
  },
  {
   "cell_type": "markdown",
   "metadata": {},
   "source": [
    "We can calculate the dollar amount of the impact by combining multiple operations:"
   ]
  },
  {
   "cell_type": "code",
   "execution_count": null,
   "metadata": {},
   "outputs": [],
   "source": [
    "# Absolute impact in Millions\n",
    "revenue_in_millions - (revenue_in_millions * recession_impact)"
   ]
  },
  {
   "cell_type": "code",
   "execution_count": null,
   "metadata": {},
   "outputs": [],
   "source": [
    "# Absolute impact in Billions\n",
    "(revenue_in_millions - (revenue_in_millions * recession_impact)) / 1_000"
   ]
  },
  {
   "cell_type": "markdown",
   "metadata": {},
   "source": [
    "3. Calculate revenue per employee, in dollars\n",
    "\n",
    "    Using the series ``number_of_employees`` (given in the notebook), your job is to calculate revenue ``per`` employee, expressed in dollars (units). Store it in the variable ``revenue_per_employee``."
   ]
  },
  {
   "cell_type": "code",
   "execution_count": null,
   "metadata": {},
   "outputs": [],
   "source": [
    "number_of_employees = pd.Series([\n",
    "    164000, 266673, 150028, 1290000, 221000, 195000,\n",
    "    165000, 71970, 109700, 368250, 121100, 282100, 112771, 240198\n",
    "], index=companies)"
   ]
  },
  {
   "cell_type": "code",
   "execution_count": null,
   "metadata": {},
   "outputs": [],
   "source": [
    "revenue_per_employee = revenue_in_dollars / number_of_employees"
   ]
  },
  {
   "cell_type": "markdown",
   "metadata": {},
   "source": [
    "# Practicing Series Vectorized Operations with Penguins Data"
   ]
  },
  {
   "cell_type": "markdown",
   "metadata": {},
   "source": [
    "## Introduction"
   ]
  },
  {
   "cell_type": "markdown",
   "metadata": {},
   "source": [
    "Now it's time to put your knowledge of vectorized operations on Pandas series to the test. In this lab, we will be working with a dataset that contains information about penguins. Each penguin is described by various attributes such as species, island, culmen length, culmen depth, flipper length, body mass, and gender.\n",
    "\n",
    "In this lab we will practice vectorized operations on Pandas series. We will learn how to perform arithmetic operations on series and apply mathematical functions to series.\n",
    "\n",
    "Throughout the lab, you will be presented with coding activities that require you to write code snippets to perform specific operations on the series. Each activity will be followed by a solution, allowing you to verify your code and understand the correct approach.\n",
    "\n",
    "In addition to individual topic-based activities, there will also be mixed-topic activities that require you to combine different operations to achieve a specific outcome. These activities will test your ability to apply multiple concepts simultaneously.\n",
    "\n",
    "By the end of this lab, you will have gained a solid understanding of vectorized operations on Pandas series and be able to manipulate and analyze data efficiently using these techniques.\n",
    "\n",
    "Let's dive into the activities and explore the power of vectorized operations on Pandas series!"
   ]
  },
  {
   "cell_type": "markdown",
   "metadata": {},
   "source": [
    "## Activities"
   ]
  },
  {
   "cell_type": "code",
   "execution_count": null,
   "metadata": {},
   "outputs": [],
   "source": [
    "import pandas as pd"
   ]
  },
  {
   "cell_type": "code",
   "execution_count": null,
   "metadata": {},
   "outputs": [],
   "source": [
    "# Read the dataset into a DataFrame\n",
    "df = pd.read_csv('penguins_cleaned.csv')\n",
    "df"
   ]
  },
  {
   "cell_type": "code",
   "execution_count": null,
   "metadata": {},
   "outputs": [],
   "source": [
    "# Convert all columns to pandas Series\n",
    "species = df['species']\n",
    "island = df['island']\n",
    "culmen_length_mm = df['culmen_length_mm']\n",
    "culmen_depth_mm = df['culmen_depth_mm']\n",
    "flipper_length_mm = df['flipper_length_mm']\n",
    "body_mass_g = df['body_mass_g']\n",
    "gender = df['sex']"
   ]
  },
  {
   "cell_type": "markdown",
   "metadata": {},
   "source": [
    "1. **Add a constant value of 100 to the ``body_mass_g`` series**\n",
    "\n",
    "    Create a new series called ``body_mass_g_plus_100`` by adding a constant value of 100 to the ``body_mass_g`` series."
   ]
  },
  {
   "cell_type": "code",
   "execution_count": null,
   "metadata": {},
   "outputs": [],
   "source": [
    "body_mass_g_plus_100 = body_mass_g + 100\n",
    "body_mass_g_plus_100"
   ]
  },
  {
   "cell_type": "markdown",
   "metadata": {},
   "source": [
    "2. **Subtract the ``culmen_length_mm`` series from the ``flipper_length_mm`` series**\n",
    "\n",
    "    Subtract the ``culmen_length_mm`` series from the ``flipper_length_mm`` series and assign the result to a new series called ``length_difference``."
   ]
  },
  {
   "cell_type": "code",
   "execution_count": null,
   "metadata": {},
   "outputs": [],
   "source": [
    "length_difference = flipper_length_mm - culmen_length_mm\n",
    "length_difference"
   ]
  },
  {
   "cell_type": "markdown",
   "metadata": {},
   "source": [
    "3. **Multiply the ``culmen_depth_mm`` series by 2**\n",
    "\n",
    "    Multiply the ``culmen_depth_mm`` series by 2 and assign the result to a new series called ``double_culmen_depth_mm``."
   ]
  },
  {
   "cell_type": "code",
   "execution_count": null,
   "metadata": {},
   "outputs": [],
   "source": [
    "double_culmen_depth_mm = culmen_depth_mm * 2"
   ]
  },
  {
   "cell_type": "markdown",
   "metadata": {},
   "source": [
    "4. **Raise the ``flipper_length_mm`` series to the power of 2**\n",
    "    \n",
    "    Create a new series called ``flipper_length_mm_squared`` by raising the ``flipper_length_mm`` series to the power of 2."
   ]
  },
  {
   "cell_type": "code",
   "execution_count": null,
   "metadata": {},
   "outputs": [],
   "source": [
    "flipper_length_mm_squared = flipper_length_mm ** 2\n",
    "flipper_length_mm_squared"
   ]
  },
  {
   "cell_type": "markdown",
   "metadata": {},
   "source": [
    "5. **Calculate the mean of the ``culmen_length_mm`` series and subtract it from each value in the series**\n",
    "\n",
    "    Find the mean of the ``culmen_length_mm`` series and subtract it from each value in the series. Assign the result to a new series called ``culmen_length_mm_mean_centered``."
   ]
  },
  {
   "cell_type": "code",
   "execution_count": null,
   "metadata": {},
   "outputs": [],
   "source": [
    "culmen_length_mm_mean_centered = culmen_length_mm - culmen_length_mm.mean()\n",
    "culmen_length_mm_mean_centered"
   ]
  },
  {
   "cell_type": "markdown",
   "metadata": {},
   "source": [
    "6. **Concatenate the ``species`` and ``gender`` series, separated by a hyphen ``-``**\n",
    "\n",
    "    Create a new series called ``species_and_gender`` by concatenating the ``species`` and ``gender`` series, separated by a hyphen (``-``)."
   ]
  },
  {
   "cell_type": "code",
   "execution_count": null,
   "metadata": {},
   "outputs": [],
   "source": [
    "species_and_gender = species.str.cat(gender, sep='-')\n",
    "species_and_gender"
   ]
  },
  {
   "cell_type": "markdown",
   "metadata": {},
   "source": [
    "7. **Perform element-wise addition of ``culmen_length_mm`` and ``culmen_depth_mm``**\n",
    "\n",
    "    Add ``culmen_length_mm`` and ``culmen_depth_mm`` together and assign the result to a new variable called ``culmen_length_plus_depth_mm``."
   ]
  },
  {
   "cell_type": "code",
   "execution_count": null,
   "metadata": {},
   "outputs": [],
   "source": [
    "culmen_length_plus_depth_mm = culmen_depth_mm + culmen_length_mm\n",
    "culmen_length_plus_depth_mm"
   ]
  },
  {
   "cell_type": "markdown",
   "metadata": {},
   "source": [
    "8. **Sort ``culmen_length_mm`` in descending order**\n",
    "\n",
    "    Create a new series called ``culmen_length_mm_sorted`` by sorting ``culmen_length_mm`` in descending order."
   ]
  },
  {
   "cell_type": "code",
   "execution_count": null,
   "metadata": {},
   "outputs": [],
   "source": [
    "culmen_length_mm_sorted = culmen_length_mm.sort_values(ascending=False)\n",
    "culmen_length_mm_sorted"
   ]
  },
  {
   "cell_type": "markdown",
   "metadata": {},
   "source": [
    "9. **Divide ``flipper_length_mm`` by ``culmen_length_mm``**\n",
    "\n",
    "    Find the ratio of each penguin's flipper length to its culmen length and assign the result to a new variable called ``length_ratio``."
   ]
  },
  {
   "cell_type": "code",
   "execution_count": null,
   "metadata": {},
   "outputs": [],
   "source": [
    "length_ratio = flipper_length_mm / culmen_length_mm\n",
    "length_ratio"
   ]
  },
  {
   "cell_type": "markdown",
   "metadata": {},
   "source": [
    "# Series Practice: Vectorized operations using NBA data"
   ]
  },
  {
   "cell_type": "markdown",
   "metadata": {},
   "source": [
    "It's time to put to practice our Vectorized Operations with Series.\n",
    "\n",
    "The data we'll use is related to statistics of Players from the NBA since the year 1985. Although this practice is about Series, we'll start reading our data as a DataFrame. If you don't know what a DataFrame is yet, don't worry... this will actually be useful for the future. The only thing you need to know now is that each column of a DataFrame is a Series. And we're extracting several Series from the df:\n",
    "\n",
    "```py\n",
    "# Game info\n",
    "games_played = df['G']\n",
    "minutes_played = df['MP']\n",
    "\n",
    "# Field Goals info\n",
    "field_goals = df['FG']\n",
    "field_goals_attempts = df['FGA']\n",
    "\n",
    "# Free Throws info\n",
    "free_throws = df['FT']\n",
    "free_throws_attempts = df['FTA']\n",
    "```\n",
    "\n",
    "The index of the Series is the Player's name. So, for example, we can find the total field goals of Michael Jordan:\n",
    "\n",
    "```py\n",
    "field_goals.loc[field_goals.index == 'Michael Jordan*']\n",
    "```\n",
    "\n",
    "> ***The star (*) next to the player's name is because that player was selected for the \"Hall of Fame\" of the NBA.***\n",
    "\n",
    "Now, let's get started with our practice!"
   ]
  },
  {
   "cell_type": "code",
   "execution_count": null,
   "metadata": {},
   "outputs": [],
   "source": [
    "import pandas as pd"
   ]
  },
  {
   "cell_type": "code",
   "execution_count": null,
   "metadata": {},
   "outputs": [],
   "source": [
    "df = pd.read_csv('nba_player_stats_1985.csv', index_col='Player')"
   ]
  },
  {
   "cell_type": "code",
   "execution_count": null,
   "metadata": {},
   "outputs": [],
   "source": [
    "df.head()"
   ]
  },
  {
   "cell_type": "code",
   "execution_count": null,
   "metadata": {},
   "outputs": [],
   "source": [
    "# Game info\n",
    "games_played = df['G']\n",
    "minutes_played = df['MP']\n",
    "\n",
    "# Field Goals info\n",
    "field_goals = df['FG']\n",
    "field_goals_attempts = df['FGA']\n",
    "\n",
    "# Free Throws info\n",
    "free_throws = df['FT']\n",
    "free_throws_attempts = df['FTA']"
   ]
  },
  {
   "cell_type": "code",
   "execution_count": null,
   "metadata": {},
   "outputs": [],
   "source": [
    "games_played.head()"
   ]
  },
  {
   "cell_type": "code",
   "execution_count": null,
   "metadata": {},
   "outputs": [],
   "source": [
    "field_goals.head()"
   ]
  },
  {
   "cell_type": "code",
   "execution_count": null,
   "metadata": {},
   "outputs": [],
   "source": [
    "field_goals_attempts.head()"
   ]
  },
  {
   "cell_type": "markdown",
   "metadata": {},
   "source": [
    "Michael Jordan Field Goals:"
   ]
  },
  {
   "cell_type": "code",
   "execution_count": null,
   "metadata": {},
   "outputs": [],
   "source": [
    "field_goals.loc['Michael Jordan*']"
   ]
  },
  {
   "cell_type": "markdown",
   "metadata": {},
   "source": [
    "## Arithmetic Operations"
   ]
  },
  {
   "cell_type": "markdown",
   "metadata": {},
   "source": [
    "1. **Calculate field goal accuracy**\n",
    "\n",
    "    Calculate the \"Field Goal accuracy\" of a player by dividing their field goals by their total attempts then multiply by 100. Store the result in the variable ``field_goal_perc``."
   ]
  },
  {
   "cell_type": "code",
   "execution_count": null,
   "metadata": {},
   "outputs": [],
   "source": [
    "field_goal_perc = field_goals / field_goals_attempts * 100"
   ]
  },
  {
   "cell_type": "markdown",
   "metadata": {},
   "source": [
    "2. **What's the FG% of Michael Jordan**\n",
    "\n",
    "    Use the series created in the previous activity, field_goal_perc, to answer: what's the FG% of ``Michael Jordan``?\n",
    "\n",
    "    > *Remember, MJ's name in this dataset is ``Michael Jordan*`` because he was (obviously) inducted in the HoF.*\n",
    "\n",
    "    Enter your result with up to three decimal points(don't round-off). That is, if the value is ``0.618324``, enter ``0.618`` (including the ``0`` and the dot `.`)."
   ]
  },
  {
   "cell_type": "code",
   "execution_count": null,
   "metadata": {},
   "outputs": [],
   "source": [
    "field_goal_perc.loc['Michael Jordan*']"
   ]
  },
  {
   "cell_type": "markdown",
   "metadata": {},
   "source": [
    "3. **Field goals per Game**\n",
    "\n",
    "    Calculate \"Field Goals per Game\" using the series ``field_goals`` and games_played. Store your results in the variable ``field_goals_per_game``"
   ]
  },
  {
   "cell_type": "code",
   "execution_count": null,
   "metadata": {},
   "outputs": [],
   "source": [
    "games_played.head()"
   ]
  },
  {
   "cell_type": "code",
   "execution_count": null,
   "metadata": {},
   "outputs": [],
   "source": [
    "field_goals_per_game = field_goals / games_played "
   ]
  },
  {
   "cell_type": "code",
   "execution_count": null,
   "metadata": {},
   "outputs": [],
   "source": [
    "field_goals_per_game.head()"
   ]
  },
  {
   "cell_type": "markdown",
   "metadata": {},
   "source": [
    "4. **Which player has the highest 'Field Goal per Game' value?**\n",
    "\n",
    "    All stars here..."
   ]
  },
  {
   "cell_type": "code",
   "execution_count": null,
   "metadata": {},
   "outputs": [],
   "source": [
    "field_goals_per_game.sort_values(ascending=False).head()"
   ]
  },
  {
   "cell_type": "markdown",
   "metadata": {},
   "source": [
    "5. **Calculate 'Total Points'**\n",
    "\n",
    "    In the NBA lingo, field goals account for all the \"goals\" scored by a player, **EXCEPT** free throws. So, if we want to calculate the total number of points scored by a player, we must add field goals and free throws. Field goals are a combination of 2-point and 3-point goals. For this exercise, you can safely assume that all \"field goals\" have a value of 2.\n",
    "\n",
    "    Calculate Total Points scored by a player, by adding the series containing field goals and free throws. Store your results in the variable ``total_points``."
   ]
  },
  {
   "cell_type": "code",
   "execution_count": null,
   "metadata": {},
   "outputs": [],
   "source": [
    "field_goals.head()"
   ]
  },
  {
   "cell_type": "code",
   "execution_count": null,
   "metadata": {},
   "outputs": [],
   "source": [
    "free_throws.head()"
   ]
  },
  {
   "cell_type": "code",
   "execution_count": null,
   "metadata": {},
   "outputs": [],
   "source": [
    "total_points = (field_goals * 2) + free_throws\n",
    "total_points.head()"
   ]
  },
  {
   "cell_type": "markdown",
   "metadata": {},
   "source": [
    "6. Who's the player with the most Total Points?\n",
    "\n",
    "    Who's the player that, according to our dataset, has scored the most points in the NBA history?"
   ]
  },
  {
   "cell_type": "code",
   "execution_count": null,
   "metadata": {},
   "outputs": [],
   "source": [
    "total_points.sort_values(ascending=False).head()"
   ]
  },
  {
   "cell_type": "markdown",
   "metadata": {},
   "source": [
    "7. Total Points per Minute\n",
    "\n",
    "    Using the series that you previously calculated, ``total_points``, calculate \"Total points per minute\". Store your results in the variable ``points_per_minute``.\n",
    "\n",
    "    > *Important. This activity relies on ``total_points``. Make sure you have completed that one correctly.*"
   ]
  },
  {
   "cell_type": "code",
   "execution_count": null,
   "metadata": {},
   "outputs": [],
   "source": [
    "points_per_minute = total_points / minutes_played"
   ]
  },
  {
   "cell_type": "markdown",
   "metadata": {},
   "source": [
    "8. **Who has a better Points per Minute score; MJ or Kevin Durant?**"
   ]
  },
  {
   "cell_type": "code",
   "execution_count": null,
   "metadata": {},
   "outputs": [],
   "source": [
    "idxmax, valmax = points_per_minute.agg(['idxmax', 'max'])\n",
    "print(idxmax, valmax)"
   ]
  },
  {
   "cell_type": "code",
   "execution_count": null,
   "metadata": {},
   "outputs": [],
   "source": [
    "points_per_minute.loc['Michael Jordan*'] > points_per_minute.loc['Kevin Durant']"
   ]
  },
  {
   "cell_type": "markdown",
   "metadata": {},
   "source": [
    "9. **Calculate FT**\n",
    "\n",
    "    FT is the proportion of scored Free Throws divided by the total attempts. Basically, the accuracy of Free Throws. Store your results in ``ft_perc``."
   ]
  },
  {
   "cell_type": "code",
   "execution_count": null,
   "metadata": {},
   "outputs": [],
   "source": [
    "ft_perc = free_throws / free_throws_attempts\n",
    "ft_perc"
   ]
  },
  {
   "cell_type": "markdown",
   "metadata": {},
   "source": [
    "10. Who's the player with best FT% record: MJ or Larry Bird?\n",
    "\n",
    "    A battle of titans. Who had a better FT% record?"
   ]
  },
  {
   "cell_type": "code",
   "execution_count": null,
   "metadata": {},
   "outputs": [],
   "source": [
    "ft_perc.loc['Michael Jordan*'] > ft_perc.loc['Larry Bird*']"
   ]
  },
  {
   "cell_type": "markdown",
   "metadata": {},
   "source": [
    "## Boolean Operations"
   ]
  },
  {
   "cell_type": "markdown",
   "metadata": {},
   "source": [
    "11. **Find the top 25% players by 'free throw accuracy'**\n",
    "\n",
    "    Create a boolean series that contains ``True`` values for those players that are in the top 25% by free throw efficiency (using the preivously calculated) ``ft_perc`` series. Store your results in the variable ``ft_top_25``.\n",
    "\n",
    "    Your result should look something like:"
   ]
  },
  {
   "cell_type": "code",
   "execution_count": null,
   "metadata": {},
   "outputs": [],
   "source": [
    "ft_perc.quantile(.75)"
   ]
  },
  {
   "cell_type": "code",
   "execution_count": null,
   "metadata": {},
   "outputs": [],
   "source": [
    "ft_perc.head()"
   ]
  },
  {
   "cell_type": "code",
   "execution_count": null,
   "metadata": {},
   "outputs": [],
   "source": [
    "ft_top_25 = ft_perc >= ft_perc.quantile(.75)\n",
    "ft_top_25.head(10)"
   ]
  },
  {
   "cell_type": "code",
   "execution_count": null,
   "metadata": {},
   "outputs": [],
   "source": [
    "ft_top_25 = ft_perc.where(ft_perc > ft_perc.quantile(.75)) == ft_perc\n",
    "ft_top_25.head(10)"
   ]
  },
  {
   "cell_type": "markdown",
   "metadata": {},
   "source": [
    "12. How many players are in the top 25% by free throw accuracy?\n",
    "\n",
    "    Answer using the previously calcualted series ``ft_top_25``."
   ]
  },
  {
   "cell_type": "code",
   "execution_count": null,
   "metadata": {},
   "outputs": [],
   "source": [
    "ft_top_25.value_counts()"
   ]
  },
  {
   "cell_type": "code",
   "execution_count": null,
   "metadata": {},
   "outputs": [],
   "source": [
    "ft_top_25.sum()"
   ]
  },
  {
   "cell_type": "markdown",
   "metadata": {},
   "source": [
    "13. Find those players that scored 0 points in their history\n",
    "\n",
    "    Create a boolean series that contains ``True`` values for those players that have scored 0 total points. Store your results in the variable ``players_0_points``."
   ]
  },
  {
   "cell_type": "code",
   "execution_count": null,
   "metadata": {},
   "outputs": [],
   "source": [
    "players_0_points = total_points == 0\n",
    "players_0_points.sum()"
   ]
  }
 ],
 "metadata": {
  "language_info": {
   "name": "python"
  }
 },
 "nbformat": 4,
 "nbformat_minor": 2
}
