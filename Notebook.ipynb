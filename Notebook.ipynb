{
 "cells": [
  {
   "cell_type": "code",
   "execution_count": 22,
   "metadata": {},
   "outputs": [],
   "source": [
    "import pandas as pd\n",
    "import numpy as np\n",
    "import glob\n",
    "import os\n",
    "import matplotlib.pyplot as plt\n",
    "import seaborn as sns"
   ]
  },
  {
   "cell_type": "code",
   "execution_count": 3,
   "metadata": {},
   "outputs": [],
   "source": [
    "def load_df():\n",
    "    df_paths = [name for name in glob.glob('Sources/*')]\n",
    "    lst = []\n",
    "    for df in df_paths:\n",
    "        data = pd.read_csv(df)\n",
    "        lst.append(data)\n",
    "    return pd.concat(lst)"
   ]
  },
  {
   "cell_type": "code",
   "execution_count": 4,
   "metadata": {},
   "outputs": [
    {
     "data": {
      "text/html": [
       "<div>\n",
       "<style scoped>\n",
       "    .dataframe tbody tr th:only-of-type {\n",
       "        vertical-align: middle;\n",
       "    }\n",
       "\n",
       "    .dataframe tbody tr th {\n",
       "        vertical-align: top;\n",
       "    }\n",
       "\n",
       "    .dataframe thead th {\n",
       "        text-align: right;\n",
       "    }\n",
       "</style>\n",
       "<table border=\"1\" class=\"dataframe\">\n",
       "  <thead>\n",
       "    <tr style=\"text-align: right;\">\n",
       "      <th></th>\n",
       "      <th>Date/Time</th>\n",
       "      <th>Lat</th>\n",
       "      <th>Lon</th>\n",
       "      <th>Base</th>\n",
       "    </tr>\n",
       "  </thead>\n",
       "  <tbody>\n",
       "    <tr>\n",
       "      <th>0</th>\n",
       "      <td>4/1/2014 0:11:00</td>\n",
       "      <td>40.7690</td>\n",
       "      <td>-73.9549</td>\n",
       "      <td>B02512</td>\n",
       "    </tr>\n",
       "    <tr>\n",
       "      <th>1</th>\n",
       "      <td>4/1/2014 0:17:00</td>\n",
       "      <td>40.7267</td>\n",
       "      <td>-74.0345</td>\n",
       "      <td>B02512</td>\n",
       "    </tr>\n",
       "    <tr>\n",
       "      <th>2</th>\n",
       "      <td>4/1/2014 0:21:00</td>\n",
       "      <td>40.7316</td>\n",
       "      <td>-73.9873</td>\n",
       "      <td>B02512</td>\n",
       "    </tr>\n",
       "    <tr>\n",
       "      <th>3</th>\n",
       "      <td>4/1/2014 0:28:00</td>\n",
       "      <td>40.7588</td>\n",
       "      <td>-73.9776</td>\n",
       "      <td>B02512</td>\n",
       "    </tr>\n",
       "    <tr>\n",
       "      <th>4</th>\n",
       "      <td>4/1/2014 0:33:00</td>\n",
       "      <td>40.7594</td>\n",
       "      <td>-73.9722</td>\n",
       "      <td>B02512</td>\n",
       "    </tr>\n",
       "  </tbody>\n",
       "</table>\n",
       "</div>"
      ],
      "text/plain": [
       "          Date/Time      Lat      Lon    Base\n",
       "0  4/1/2014 0:11:00  40.7690 -73.9549  B02512\n",
       "1  4/1/2014 0:17:00  40.7267 -74.0345  B02512\n",
       "2  4/1/2014 0:21:00  40.7316 -73.9873  B02512\n",
       "3  4/1/2014 0:28:00  40.7588 -73.9776  B02512\n",
       "4  4/1/2014 0:33:00  40.7594 -73.9722  B02512"
      ]
     },
     "execution_count": 4,
     "metadata": {},
     "output_type": "execute_result"
    }
   ],
   "source": [
    "df = load_df()\n",
    "df.head()"
   ]
  },
  {
   "cell_type": "code",
   "execution_count": 5,
   "metadata": {},
   "outputs": [
    {
     "name": "stdout",
     "output_type": "stream",
     "text": [
      "18137308\n"
     ]
    }
   ],
   "source": [
    "df_size = df.size\n",
    "print(df_size)"
   ]
  },
  {
   "cell_type": "code",
   "execution_count": 6,
   "metadata": {},
   "outputs": [
    {
     "data": {
      "text/plain": [
       "Date/Time     object\n",
       "Lat          float64\n",
       "Lon          float64\n",
       "Base          object\n",
       "dtype: object"
      ]
     },
     "execution_count": 6,
     "metadata": {},
     "output_type": "execute_result"
    }
   ],
   "source": [
    "df.dtypes"
   ]
  },
  {
   "cell_type": "code",
   "execution_count": 7,
   "metadata": {},
   "outputs": [],
   "source": [
    "df['Date/Time'] = pd.to_datetime(df['Date/Time'])"
   ]
  },
  {
   "cell_type": "code",
   "execution_count": 8,
   "metadata": {},
   "outputs": [
    {
     "data": {
      "text/plain": [
       "Date/Time    datetime64[ns]\n",
       "Lat                 float64\n",
       "Lon                 float64\n",
       "Base                 object\n",
       "dtype: object"
      ]
     },
     "execution_count": 8,
     "metadata": {},
     "output_type": "execute_result"
    }
   ],
   "source": [
    "df.dtypes"
   ]
  },
  {
   "cell_type": "code",
   "execution_count": 9,
   "metadata": {},
   "outputs": [
    {
     "name": "stdout",
     "output_type": "stream",
     "text": [
      "<class 'pandas.core.frame.DataFrame'>\n",
      "Index: 4534327 entries, 0 to 1028135\n",
      "Columns: 4 entries, Date/Time to Base\n",
      "dtypes: datetime64[ns](1), float64(2), object(1)\n",
      "memory usage: 173.0+ MB\n"
     ]
    }
   ],
   "source": [
    "df.info(verbose=False)"
   ]
  },
  {
   "cell_type": "code",
   "execution_count": 10,
   "metadata": {},
   "outputs": [
    {
     "data": {
      "text/plain": [
       "(4534327, 4)"
      ]
     },
     "execution_count": 10,
     "metadata": {},
     "output_type": "execute_result"
    }
   ],
   "source": [
    "df.shape"
   ]
  },
  {
   "cell_type": "code",
   "execution_count": 11,
   "metadata": {},
   "outputs": [],
   "source": [
    "uber_df = df"
   ]
  },
  {
   "cell_type": "code",
   "execution_count": 12,
   "metadata": {},
   "outputs": [],
   "source": [
    "uber_df['BinnedHour'] = uber_df['Date/Time'].dt.floor('10min')"
   ]
  },
  {
   "cell_type": "code",
   "execution_count": 13,
   "metadata": {},
   "outputs": [
    {
     "data": {
      "text/plain": [
       "0         2014-04-01 00:10:00\n",
       "1         2014-04-01 00:10:00\n",
       "2         2014-04-01 00:20:00\n",
       "3         2014-04-01 00:20:00\n",
       "4         2014-04-01 00:30:00\n",
       "                  ...        \n",
       "1028131   2014-09-30 22:50:00\n",
       "1028132   2014-09-30 22:50:00\n",
       "1028133   2014-09-30 22:50:00\n",
       "1028134   2014-09-30 22:50:00\n",
       "1028135   2014-09-30 22:50:00\n",
       "Name: BinnedHour, Length: 4534327, dtype: datetime64[ns]"
      ]
     },
     "execution_count": 13,
     "metadata": {},
     "output_type": "execute_result"
    }
   ],
   "source": [
    "uber_df['BinnedHour']"
   ]
  },
  {
   "cell_type": "code",
   "execution_count": 14,
   "metadata": {},
   "outputs": [],
   "source": [
    "uber_df['day']=uber_df['Date/Time'].dt.day\n",
    "uber_df['month']=uber_df['Date/Time'].dt.month\n",
    "uber_df['hour']=uber_df['Date/Time'].dt.hour"
   ]
  },
  {
   "cell_type": "code",
   "execution_count": 15,
   "metadata": {},
   "outputs": [
    {
     "data": {
      "text/html": [
       "<div>\n",
       "<style scoped>\n",
       "    .dataframe tbody tr th:only-of-type {\n",
       "        vertical-align: middle;\n",
       "    }\n",
       "\n",
       "    .dataframe tbody tr th {\n",
       "        vertical-align: top;\n",
       "    }\n",
       "\n",
       "    .dataframe thead th {\n",
       "        text-align: right;\n",
       "    }\n",
       "</style>\n",
       "<table border=\"1\" class=\"dataframe\">\n",
       "  <thead>\n",
       "    <tr style=\"text-align: right;\">\n",
       "      <th></th>\n",
       "      <th>Date/Time</th>\n",
       "      <th>Lat</th>\n",
       "      <th>Lon</th>\n",
       "      <th>Base</th>\n",
       "      <th>BinnedHour</th>\n",
       "      <th>day</th>\n",
       "      <th>month</th>\n",
       "      <th>hour</th>\n",
       "    </tr>\n",
       "  </thead>\n",
       "  <tbody>\n",
       "    <tr>\n",
       "      <th>0</th>\n",
       "      <td>2014-04-01 00:11:00</td>\n",
       "      <td>40.7690</td>\n",
       "      <td>-73.9549</td>\n",
       "      <td>B02512</td>\n",
       "      <td>2014-04-01 00:10:00</td>\n",
       "      <td>1</td>\n",
       "      <td>4</td>\n",
       "      <td>0</td>\n",
       "    </tr>\n",
       "    <tr>\n",
       "      <th>1</th>\n",
       "      <td>2014-04-01 00:17:00</td>\n",
       "      <td>40.7267</td>\n",
       "      <td>-74.0345</td>\n",
       "      <td>B02512</td>\n",
       "      <td>2014-04-01 00:10:00</td>\n",
       "      <td>1</td>\n",
       "      <td>4</td>\n",
       "      <td>0</td>\n",
       "    </tr>\n",
       "    <tr>\n",
       "      <th>2</th>\n",
       "      <td>2014-04-01 00:21:00</td>\n",
       "      <td>40.7316</td>\n",
       "      <td>-73.9873</td>\n",
       "      <td>B02512</td>\n",
       "      <td>2014-04-01 00:20:00</td>\n",
       "      <td>1</td>\n",
       "      <td>4</td>\n",
       "      <td>0</td>\n",
       "    </tr>\n",
       "    <tr>\n",
       "      <th>3</th>\n",
       "      <td>2014-04-01 00:28:00</td>\n",
       "      <td>40.7588</td>\n",
       "      <td>-73.9776</td>\n",
       "      <td>B02512</td>\n",
       "      <td>2014-04-01 00:20:00</td>\n",
       "      <td>1</td>\n",
       "      <td>4</td>\n",
       "      <td>0</td>\n",
       "    </tr>\n",
       "    <tr>\n",
       "      <th>4</th>\n",
       "      <td>2014-04-01 00:33:00</td>\n",
       "      <td>40.7594</td>\n",
       "      <td>-73.9722</td>\n",
       "      <td>B02512</td>\n",
       "      <td>2014-04-01 00:30:00</td>\n",
       "      <td>1</td>\n",
       "      <td>4</td>\n",
       "      <td>0</td>\n",
       "    </tr>\n",
       "    <tr>\n",
       "      <th>...</th>\n",
       "      <td>...</td>\n",
       "      <td>...</td>\n",
       "      <td>...</td>\n",
       "      <td>...</td>\n",
       "      <td>...</td>\n",
       "      <td>...</td>\n",
       "      <td>...</td>\n",
       "      <td>...</td>\n",
       "    </tr>\n",
       "    <tr>\n",
       "      <th>195</th>\n",
       "      <td>2014-04-01 08:39:00</td>\n",
       "      <td>40.7889</td>\n",
       "      <td>-73.9542</td>\n",
       "      <td>B02512</td>\n",
       "      <td>2014-04-01 08:30:00</td>\n",
       "      <td>1</td>\n",
       "      <td>4</td>\n",
       "      <td>8</td>\n",
       "    </tr>\n",
       "    <tr>\n",
       "      <th>196</th>\n",
       "      <td>2014-04-01 08:42:00</td>\n",
       "      <td>40.7835</td>\n",
       "      <td>-73.9513</td>\n",
       "      <td>B02512</td>\n",
       "      <td>2014-04-01 08:40:00</td>\n",
       "      <td>1</td>\n",
       "      <td>4</td>\n",
       "      <td>8</td>\n",
       "    </tr>\n",
       "    <tr>\n",
       "      <th>197</th>\n",
       "      <td>2014-04-01 08:43:00</td>\n",
       "      <td>40.7651</td>\n",
       "      <td>-73.9617</td>\n",
       "      <td>B02512</td>\n",
       "      <td>2014-04-01 08:40:00</td>\n",
       "      <td>1</td>\n",
       "      <td>4</td>\n",
       "      <td>8</td>\n",
       "    </tr>\n",
       "    <tr>\n",
       "      <th>198</th>\n",
       "      <td>2014-04-01 08:43:00</td>\n",
       "      <td>40.7261</td>\n",
       "      <td>-73.9918</td>\n",
       "      <td>B02512</td>\n",
       "      <td>2014-04-01 08:40:00</td>\n",
       "      <td>1</td>\n",
       "      <td>4</td>\n",
       "      <td>8</td>\n",
       "    </tr>\n",
       "    <tr>\n",
       "      <th>199</th>\n",
       "      <td>2014-04-01 08:44:00</td>\n",
       "      <td>40.7303</td>\n",
       "      <td>-73.9937</td>\n",
       "      <td>B02512</td>\n",
       "      <td>2014-04-01 08:40:00</td>\n",
       "      <td>1</td>\n",
       "      <td>4</td>\n",
       "      <td>8</td>\n",
       "    </tr>\n",
       "  </tbody>\n",
       "</table>\n",
       "<p>200 rows × 8 columns</p>\n",
       "</div>"
      ],
      "text/plain": [
       "              Date/Time      Lat      Lon    Base          BinnedHour  day  \\\n",
       "0   2014-04-01 00:11:00  40.7690 -73.9549  B02512 2014-04-01 00:10:00    1   \n",
       "1   2014-04-01 00:17:00  40.7267 -74.0345  B02512 2014-04-01 00:10:00    1   \n",
       "2   2014-04-01 00:21:00  40.7316 -73.9873  B02512 2014-04-01 00:20:00    1   \n",
       "3   2014-04-01 00:28:00  40.7588 -73.9776  B02512 2014-04-01 00:20:00    1   \n",
       "4   2014-04-01 00:33:00  40.7594 -73.9722  B02512 2014-04-01 00:30:00    1   \n",
       "..                  ...      ...      ...     ...                 ...  ...   \n",
       "195 2014-04-01 08:39:00  40.7889 -73.9542  B02512 2014-04-01 08:30:00    1   \n",
       "196 2014-04-01 08:42:00  40.7835 -73.9513  B02512 2014-04-01 08:40:00    1   \n",
       "197 2014-04-01 08:43:00  40.7651 -73.9617  B02512 2014-04-01 08:40:00    1   \n",
       "198 2014-04-01 08:43:00  40.7261 -73.9918  B02512 2014-04-01 08:40:00    1   \n",
       "199 2014-04-01 08:44:00  40.7303 -73.9937  B02512 2014-04-01 08:40:00    1   \n",
       "\n",
       "     month  hour  \n",
       "0        4     0  \n",
       "1        4     0  \n",
       "2        4     0  \n",
       "3        4     0  \n",
       "4        4     0  \n",
       "..     ...   ...  \n",
       "195      4     8  \n",
       "196      4     8  \n",
       "197      4     8  \n",
       "198      4     8  \n",
       "199      4     8  \n",
       "\n",
       "[200 rows x 8 columns]"
      ]
     },
     "execution_count": 15,
     "metadata": {},
     "output_type": "execute_result"
    }
   ],
   "source": [
    "uber_df.head(200) "
   ]
  },
  {
   "cell_type": "code",
   "execution_count": 20,
   "metadata": {},
   "outputs": [
    {
     "data": {
      "image/png": "[encoded data removed]",
      "text/plain": [
       "<Figure size 1500x800 with 1 Axes>"
      ]
     },
     "metadata": {},
     "output_type": "display_data"
    }
   ],
   "source": [
    "plt.figure(figsize=(15,8))\n",
    "uber_df_abr = uber_df[uber_df['month']==4]\n",
    "uber_df_abr['day'].value_counts().sort_index().plot(kind='bar',color='blue')\n",
    "\n",
    "index = uber_df.loc[:,'day'].unique()\n",
    "\n",
    "plt.title('Uber Rides per day at April 2014')\n",
    "plt.xlabel('Days')\n",
    "plt.ylabel('Rides')\n",
    "plt.grid(True)\n",
    "plt.show()"
   ]
  },
  {
   "cell_type": "code",
   "execution_count": 56,
   "metadata": {},
   "outputs": [
    {
     "data": {
      "image/png": "[encoded data removed]",
      "text/plain": [
       "<Figure size 2000x2000 with 1 Axes>"
      ]
     },
     "metadata": {},
     "output_type": "display_data"
    }
   ],
   "source": [
    "uber_df_abr = uber_df[uber_df['month']==4]\n",
    "uber_df_may = uber_df[uber_df['month']==5]\n",
    "uber_df_jun = uber_df[uber_df['month']==6]\n",
    "uber_df_jul = uber_df[uber_df['month']==7]\n",
    "uber_df_aug = uber_df[uber_df['month']==8]\n",
    "uber_df_sep = uber_df[uber_df['month']==9]\n",
    "\n",
    "bar_width = 0.5\n",
    "\n",
    "# Find common dates between the two months\n",
    "index = np.arange(1,31)\n",
    "\n",
    "# Filter dataframes to include only common dates\n",
    "uber_df_abr_filtered = uber_df_abr[uber_df_abr['day'].isin(index)]\n",
    "uber_df_may_filtered = uber_df_may[uber_df_may['day'].isin(index)]\n",
    "\n",
    "fig, ax = plt.subplots(layout='constrained')\n",
    "\n",
    "abr = ax.bar(index, uber_df_abr_filtered[\"day\"].value_counts().sort_index(), bar_width,\n",
    "                label=\"April\")\n",
    "\n",
    "may = ax.bar(index+bar_width, uber_df_may_filtered[\"day\"].value_counts().sort_index(),\n",
    "                bar_width, label=\"May\")\n",
    "\n",
    "plt.title('Uber Rides per day at April 2014')\n",
    "plt.xlabel('Days')\n",
    "plt.ylabel('Rides')\n",
    "plt.grid(True)\n",
    "plt.legend()\n",
    "plt.xticks(rotation=45)\n",
    "plt.tight_layout()\n",
    "plt.show()\n",
    "plt.show()"
   ]
  },
  {
   "cell_type": "code",
   "execution_count": 60,
   "metadata": {},
   "outputs": [
    {
     "data": {
      "text/plain": [
       "array([[ 7.26205313e-01, -9.87280047e-02, -6.58945809e-01],\n",
       "       [ 4.71088156e-02, -5.20002018e-01, -2.73280514e-01],\n",
       "       [-1.21826957e-01, -6.90126427e-03,  7.51661580e-01],\n",
       "       [ 1.44345647e-03, -2.03086225e+00,  7.36933807e-02],\n",
       "       [-1.23137983e+00, -1.65991652e+00, -9.65454464e-01],\n",
       "       [ 1.35830555e-01, -1.00572658e+00,  7.08456789e-01],\n",
       "       [ 7.13378572e-02,  9.41185177e-01,  1.80950221e+00],\n",
       "       [ 6.04803367e-01,  1.19089891e+00,  5.96098562e-01],\n",
       "       [ 7.47023460e-01, -2.11540863e+00,  1.94907341e+00],\n",
       "       [-1.60153945e+00, -2.97335708e-01, -3.34691663e-01],\n",
       "       [ 1.37085091e+00, -3.70696153e-01,  8.45816058e-01],\n",
       "       [-4.83972156e-01, -1.47306967e+00,  7.27864991e-01],\n",
       "       [-1.01588894e+00, -4.77742009e-01,  7.79695415e-01],\n",
       "       [-8.40611640e-01, -4.47247076e-01,  1.35392533e+00],\n",
       "       [ 1.72685734e+00, -1.31213393e+00,  2.46476437e+00],\n",
       "       [ 8.92003083e-01,  2.21457109e+00,  6.10747962e-01],\n",
       "       [-7.04541679e-01,  5.25015873e-01, -8.44274149e-01],\n",
       "       [-1.52137627e+00, -3.63625186e-01,  4.41065803e-01],\n",
       "       [-7.66902919e-01,  3.43771786e-01,  5.23821740e-01],\n",
       "       [ 1.25384812e+00,  1.02179447e+00,  1.03810291e+00],\n",
       "       [-9.88253795e-01,  2.34751161e-01, -3.73961249e-01],\n",
       "       [ 9.30366186e-01, -1.17028728e+00, -3.70940017e-01],\n",
       "       [ 3.16787026e-01, -7.03570359e-01,  3.16130371e-02],\n",
       "       [-5.06684238e-01,  2.54038480e-01,  9.28242785e-01],\n",
       "       [ 1.21923659e+00,  6.20685833e-01, -6.98525267e-01],\n",
       "       [ 1.73116470e-01, -1.68014775e-01,  1.34496682e+00],\n",
       "       [ 2.92689116e-01, -1.92783350e+00, -3.09438395e-01],\n",
       "       [-2.89391024e-02,  2.34309170e-01,  1.46739804e+00],\n",
       "       [ 1.34477857e+00, -2.63480080e-01,  1.90735121e+00],\n",
       "       [-1.00937899e+00,  1.25040386e+00,  1.26031418e+00],\n",
       "       [ 3.78064637e-01,  5.87516591e-01,  1.63243921e+00],\n",
       "       [ 4.82601315e-02, -1.11665363e+00, -5.11575396e-02],\n",
       "       [ 2.11083260e-01, -1.02168443e+00, -1.10456778e+00],\n",
       "       [-3.45136227e-01, -1.18595487e+00, -1.44851336e+00],\n",
       "       [-1.36488045e+00, -1.24199263e+00, -1.78303271e+00],\n",
       "       [ 9.17687680e-01,  1.21263534e+00,  1.33665172e+00],\n",
       "       [-2.00309660e-01,  8.72930989e-01,  1.05564116e+00],\n",
       "       [ 9.96375652e-01,  7.77006340e-03,  7.59468192e-01],\n",
       "       [-1.78680009e+00,  1.32319663e-01,  1.59358173e+00],\n",
       "       [-7.75964877e-01, -9.75792290e-01, -6.05814690e-01],\n",
       "       [ 1.66000737e+00,  5.26457825e-01,  4.80892959e-01],\n",
       "       [-6.77810946e-01, -7.72066588e-01, -4.92470313e-01],\n",
       "       [ 1.29758980e+00, -2.36890958e-01,  1.49227000e-01],\n",
       "       [-2.08645129e+00, -9.15821084e-01, -6.41273196e-01],\n",
       "       [ 1.20214795e-01,  1.90618394e+00,  2.32090590e+00],\n",
       "       [-1.09988961e-01, -2.16768572e-01, -1.30938434e+00],\n",
       "       [-6.24330390e-01, -1.78860624e+00, -1.59716404e+00],\n",
       "       [ 5.25514670e-01, -8.79426935e-01,  1.21025846e-01],\n",
       "       [-4.36035178e-01, -1.19393803e+00, -3.71883801e-01],\n",
       "       [-5.14906591e-01, -3.02545123e-01, -1.67510607e+00],\n",
       "       [-7.83758919e-02,  1.11524628e+00, -2.02340582e-02],\n",
       "       [ 1.51577291e+00, -1.26659842e+00, -3.63345722e-01],\n",
       "       [-5.33415028e-02,  1.72532578e+00, -1.44096860e+00],\n",
       "       [-1.42365319e+00,  2.89181305e-01,  1.23514507e+00],\n",
       "       [-1.12182938e-01,  2.20839983e-01,  7.19086581e-01],\n",
       "       [ 1.24541374e+00, -1.33910577e-01,  3.88598441e-01],\n",
       "       [ 5.75935316e-01,  1.03969507e-01,  2.38701582e+00],\n",
       "       [-1.37431578e+00, -5.77665575e-01,  1.09772392e+00],\n",
       "       [ 6.48619498e-01,  1.25252596e+00,  1.43219603e+00],\n",
       "       [-5.15272776e-01,  2.18439471e+00,  2.47585558e-01],\n",
       "       [ 1.28022425e+00, -1.33295213e-01,  3.73053234e-01],\n",
       "       [ 1.22883794e+00,  2.56538388e-01,  7.60044692e-01],\n",
       "       [-9.41707140e-01,  1.95462144e+00,  2.09945845e+00],\n",
       "       [ 1.07348073e-01,  8.40757959e-01,  2.84094141e-01],\n",
       "       [ 7.58199050e-01, -4.63482702e-01, -1.42981204e-01],\n",
       "       [ 1.23252592e-01,  9.42317097e-01,  5.43370881e-01],\n",
       "       [-1.37333589e-01, -5.09512818e-01, -1.08176967e-01],\n",
       "       [ 7.98336976e-01,  3.15842027e-01, -9.56535050e-01],\n",
       "       [ 1.52726843e+00,  1.13409031e+00, -7.86649337e-01],\n",
       "       [-5.57530958e-02, -6.74741970e-01,  1.24073998e+00],\n",
       "       [ 2.01414181e-01,  3.75245246e-01, -5.75740328e-01],\n",
       "       [ 2.97132945e-01, -1.30061174e+00,  7.08878363e-01],\n",
       "       [-1.45937143e+00,  6.22989330e-01, -5.39183956e-01],\n",
       "       [-5.40384431e-01, -6.53458767e-01,  4.92041374e-01],\n",
       "       [-1.16327254e+00, -3.44813138e-01,  9.60191186e-02],\n",
       "       [ 9.85597927e-01,  1.42458686e+00, -5.57854176e-01],\n",
       "       [ 9.18982111e-01, -3.44910172e-01, -1.16960109e+00],\n",
       "       [ 8.63626197e-01, -7.12897921e-01,  2.07893001e-01],\n",
       "       [ 7.91155454e-01, -7.78207531e-01, -2.48348700e-03],\n",
       "       [ 5.45245477e-02, -5.06828338e-01,  3.31192371e-02],\n",
       "       [ 2.07558124e-01, -8.16566893e-01, -4.99993019e-01],\n",
       "       [ 1.22474093e+00, -3.38877173e-01,  8.67030420e-01],\n",
       "       [ 1.63377942e+00,  3.72282420e-01,  4.63412746e-01],\n",
       "       [-1.15724383e+00, -3.10107892e-02,  9.66094623e-01],\n",
       "       [-1.64942484e+00,  8.85340733e-01, -8.26465876e-01],\n",
       "       [-1.49170879e+00, -5.18682968e-01, -9.35869443e-01],\n",
       "       [-3.68809390e-01, -4.87959276e-02,  8.39592738e-01],\n",
       "       [-3.86579276e-01,  5.10491622e-01,  5.68889941e-01],\n",
       "       [-7.56665453e-01, -1.13076396e+00,  4.57659958e-01],\n",
       "       [ 2.54585202e-01, -1.74820668e+00, -1.07360104e+00],\n",
       "       [ 1.60642297e-01,  1.02813795e+00, -5.73748327e-03],\n",
       "       [-1.94910327e+00, -3.75240198e-02, -3.08211144e-01],\n",
       "       [-2.15957266e-01, -7.68290732e-01, -9.27348180e-01],\n",
       "       [-3.77156736e-01,  4.74086394e-01, -5.14657790e-01],\n",
       "       [-9.00470845e-01,  1.92755329e+00,  9.96448466e-01],\n",
       "       [-1.64477908e+00,  9.10755778e-01, -8.20581855e-02],\n",
       "       [ 4.08420143e-01, -6.89265840e-02, -1.92387942e+00],\n",
       "       [-1.81469344e+00,  7.67072434e-01,  8.99135503e-01],\n",
       "       [-4.97583123e-01, -3.66994572e-01, -2.83409035e-01],\n",
       "       [ 7.41085403e-01,  9.11937642e-01,  8.77362890e-01],\n",
       "       [ 1.07094401e+00, -1.19095158e+00,  1.77100316e-01],\n",
       "       [ 7.00843717e-01,  1.95471131e+00,  1.93371257e+00],\n",
       "       [-2.20014248e-01, -1.16791408e+00, -6.94253968e-02],\n",
       "       [-5.09755732e-01,  5.92211384e-01, -4.11234330e-01],\n",
       "       [-1.01385829e+00,  3.03407498e-01, -1.64879665e+00],\n",
       "       [ 2.31197745e+00,  1.03318410e+00, -5.24969386e-01],\n",
       "       [ 1.01695227e+00,  1.11938465e+00,  9.94641981e-01],\n",
       "       [-1.71787126e-01, -3.04956171e+00, -7.75988165e-01],\n",
       "       [-1.12455381e+00,  4.23999389e-01, -1.38100424e+00],\n",
       "       [-1.13316742e+00,  1.52849519e-01,  3.88156280e-03],\n",
       "       [-1.80861256e-01, -2.33209645e-01, -8.70491020e-03],\n",
       "       [-6.22237335e-01, -3.51455301e-01,  1.06964977e+00],\n",
       "       [ 1.36469854e+00, -6.14860956e-01,  1.31238045e+00],\n",
       "       [ 1.13738841e+00,  1.10194049e+00, -1.04125450e+00],\n",
       "       [-1.11178394e+00,  1.70255312e+00,  1.71797023e+00],\n",
       "       [-2.68158071e-01,  1.26780476e-01,  1.44488946e+00],\n",
       "       [ 8.53634438e-02,  1.13420349e+00, -8.71466943e-01],\n",
       "       [ 1.88003327e+00, -4.97698980e-01,  6.59412252e-01],\n",
       "       [-1.64936298e+00, -1.45722051e+00,  1.38833992e+00],\n",
       "       [-4.44465721e-01, -8.24783842e-01,  2.61491614e+00],\n",
       "       [ 1.14646743e+00,  1.71557833e+00, -4.76475564e-01],\n",
       "       [-3.05518570e-01,  4.42934277e-01, -1.83803544e+00],\n",
       "       [ 9.13690268e-01, -6.11057323e-01,  4.10564733e-01],\n",
       "       [-7.38763238e-01,  2.33004627e+00, -9.07352546e-02],\n",
       "       [-9.51380052e-01, -9.48363863e-01,  2.22902773e+00],\n",
       "       [ 6.69985912e-01, -1.49191872e+00,  7.42117692e-01],\n",
       "       [-2.13082886e-01,  2.37002110e-01, -7.29556671e-01],\n",
       "       [ 1.69382078e-02, -1.53425444e+00,  9.54512019e-02],\n",
       "       [ 4.76971637e-01,  1.17149423e+00,  7.41130583e-01],\n",
       "       [-4.99938781e-02, -1.72452192e-01, -9.72584764e-01],\n",
       "       [ 3.98456748e-01,  2.56324570e+00,  4.92851583e-01],\n",
       "       [-6.44962582e-01, -5.17624948e-01, -4.01751419e-01],\n",
       "       [ 1.40339810e+00,  5.47846478e-01, -5.40313433e-01],\n",
       "       [ 2.50825337e-01, -2.55124531e-02, -6.65087937e-01],\n",
       "       [-1.04386920e-01,  1.04960565e+00,  6.55708324e-01],\n",
       "       [ 2.01391728e-01, -1.43405719e+00,  3.24360329e-01],\n",
       "       [ 1.11550595e+00, -6.39701226e-01,  1.31097054e+00],\n",
       "       [ 1.91293837e+00,  1.88027915e+00, -4.16153682e-01],\n",
       "       [ 1.42559975e-01, -6.71973231e-01,  1.34997667e-01],\n",
       "       [ 4.88165018e-01, -9.22485905e-01,  4.07766056e-01],\n",
       "       [-1.66197950e-01, -1.80668975e+00,  1.62010981e+00],\n",
       "       [-1.45643159e-01,  4.57635227e-01, -1.11016481e+00],\n",
       "       [ 3.99470159e-01, -2.68912338e-01,  2.93552851e-01],\n",
       "       [-3.95776573e-01,  8.43911340e-01, -3.62031947e-01],\n",
       "       [-1.27496929e+00,  1.79262046e+00, -4.22047398e-01],\n",
       "       [-5.90473872e-01,  9.71282815e-01,  1.49240309e-01],\n",
       "       [ 1.20316762e-01, -5.80749959e-01, -8.16169544e-01],\n",
       "       [ 7.63728814e-01,  7.50974770e-01, -1.81407342e-02],\n",
       "       [-1.47569456e+00, -1.65737147e-01,  1.63845596e+00],\n",
       "       [-1.35010497e+00,  1.38963009e-01, -3.59675014e-01],\n",
       "       [-1.28102810e+00, -8.29154077e-01,  7.83251176e-02],\n",
       "       [-1.02560463e+00,  1.13117094e+00,  6.25682692e-02],\n",
       "       [-1.61850012e+00, -1.59385808e-01, -9.31948211e-01],\n",
       "       [ 6.62703959e-02, -7.18357168e-01,  8.52517097e-02],\n",
       "       [-2.55127631e-01,  4.79437239e-01,  4.71659215e-01],\n",
       "       [ 1.92929398e+00,  1.59612824e+00,  2.32485142e+00],\n",
       "       [-5.77818637e-01,  6.30969953e-01, -5.33876892e-01],\n",
       "       [ 5.50421775e-01, -1.14984265e+00, -2.07783086e+00],\n",
       "       [-7.69796134e-01, -1.54204447e+00, -4.55378592e-01],\n",
       "       [-1.86305920e+00,  1.18952445e+00,  4.82537603e-01],\n",
       "       [-7.85178748e-01, -1.05215323e+00,  6.05970121e-01],\n",
       "       [-1.84048199e+00,  3.00849433e-01, -1.89065215e-01],\n",
       "       [ 7.23559263e-01,  3.98464132e-01, -1.25671471e+00],\n",
       "       [ 1.07125849e+00,  8.23866449e-01, -9.30519878e-01],\n",
       "       [ 6.30045145e-01, -2.90596109e+00,  9.38600017e-01],\n",
       "       [-5.63706723e-01,  4.69628811e-01, -6.85768319e-01],\n",
       "       [ 9.57283951e-01,  1.84888417e+00, -3.02881545e-01],\n",
       "       [ 1.02376389e+00,  7.74438702e-01,  9.23996473e-01],\n",
       "       [-6.53337458e-01,  1.21692660e-01,  1.88315214e+00],\n",
       "       [ 7.48021652e-01, -4.39000292e-01,  3.00389622e-01],\n",
       "       [-1.01793892e+00,  6.56262814e-01,  7.70579234e-01],\n",
       "       [-1.62461912e+00, -4.98294191e-01,  1.17921992e+00],\n",
       "       [-5.94755450e-01,  4.94369286e-01, -2.91678375e-01],\n",
       "       [ 1.56710756e-02, -1.35609407e+00, -1.55655949e-01],\n",
       "       [ 7.01169814e-01,  2.62067178e-01,  9.17243533e-01],\n",
       "       [-8.09683131e-01,  1.50857770e+00, -3.75964646e-01],\n",
       "       [ 5.29035492e-01,  2.12201266e-01,  2.13575050e+00],\n",
       "       [-1.83542528e+00,  4.98242744e-01, -2.28232440e-01],\n",
       "       [-6.56132385e-01,  1.56641685e+00, -1.23545843e-01],\n",
       "       [-1.15652827e+00, -6.38459546e-01,  2.67812173e-01],\n",
       "       [ 1.41895427e+00, -3.48342905e-01, -6.22553868e-01],\n",
       "       [ 1.65263552e-01, -8.43789172e-01,  1.65143720e+00],\n",
       "       [-4.30672087e+00, -1.88953386e+00,  2.14653930e+00],\n",
       "       [-2.73649253e+00,  3.69496698e-01,  7.42382959e-01],\n",
       "       [ 2.42513447e-01, -1.52381079e-01, -1.44870016e+00],\n",
       "       [ 1.16838840e+00,  6.04882168e-01, -7.65749992e-01],\n",
       "       [-1.32492148e+00, -7.10238146e-01,  3.90537978e-02],\n",
       "       [ 9.00322012e-01, -5.35859110e-02,  1.13872715e+00],\n",
       "       [-1.26868880e-01, -5.43084387e-01, -1.11050095e+00],\n",
       "       [ 5.54516356e-02,  5.54885430e-01,  5.61829314e-01],\n",
       "       [ 5.48623426e-01,  3.32240821e-01, -4.16197589e-01],\n",
       "       [ 7.78401275e-01,  1.19046400e+00, -5.03958675e-01],\n",
       "       [ 1.63373568e-02,  1.27154912e+00, -1.72512231e+00],\n",
       "       [ 2.76635235e-01,  1.22625306e+00, -1.19994553e+00],\n",
       "       [-3.30846249e-01, -8.00026280e-01,  1.16681023e+00],\n",
       "       [ 1.63114069e+00,  1.45016896e+00, -1.57474087e+00],\n",
       "       [ 7.07152522e-02, -4.95223488e-01, -1.42717751e+00],\n",
       "       [-1.98436983e-01, -1.35163931e-01, -6.62376951e-01],\n",
       "       [ 2.69878182e-01,  2.46165997e-01, -6.24330039e-01],\n",
       "       [ 9.72483171e-01, -9.13875117e-01,  8.53203447e-01]])"
      ]
     },
     "execution_count": 60,
     "metadata": {},
     "output_type": "execute_result"
    }
   ],
   "source": [
    "np.random.randn(200, 3)"
   ]
  },
  {
   "cell_type": "code",
   "execution_count": null,
   "metadata": {},
   "outputs": [],
   "source": []
  }
 ],
 "metadata": {
  "kernelspec": {
   "display_name": "base",
   "language": "python",
   "name": "python3"
  },
  "language_info": {
   "codemirror_mode": {
    "name": "ipython",
    "version": 3
   },
   "file_extension": ".py",
   "mimetype": "text/x-python",
   "name": "python",
   "nbconvert_exporter": "python",
   "pygments_lexer": "ipython3",
   "version": "3.11.7"
  }
 },
 "nbformat": 4,
 "nbformat_minor": 2
}
