{
 "cells": [
  {
   "cell_type": "markdown",
   "metadata": {},
   "source": [
    "## Download a csv from a jupyter notebook"
   ]
  },
  {
   "cell_type": "markdown",
   "metadata": {},
   "source": [
    "```python\n",
    "from IPython.display import HTML\n",
    "import base64  \n",
    "import pandas as pd  \n",
    "\n",
    "def create_download_link( df, title = \"Download CSV file\", filename = \"data.csv\"):  \n",
    "    csv = df.to_csv(index =False)\n",
    "    b64 = base64.b64encode(csv.encode())\n",
    "    payload = b64.decode()\n",
    "    html = '<a download=\"{filename}\" href=\"data:text/csv;base64,{payload}\" target=\"_blank\">{title}</a>'\n",
    "    html = html.format(payload=payload,title=title,filename=filename)\n",
    "    return HTML(html)\n",
    "\n",
    "create_download_link(df)"
   ]
  },
  {
   "cell_type": "markdown",
   "metadata": {},
   "source": [
    "# Introduction"
   ]
  },
  {
   "cell_type": "markdown",
   "metadata": {},
   "source": [
    "This first project is an introduction to ``pandas``, the most popular data-management tool in Python.\n",
    "\n",
    "Pandas is our swiss knife when it comes to Data Analysis/Science in Python. We use it to:\n",
    "\n",
    "- **Load/dump read/write data**: to and from different formats (CSV, XML, HTML, Excel, JSON, even from the Internet)\n",
    "- **Analyze data**: perform statistical analysis, query the data, find inconsistencies, etc\n",
    "- **Data cleaning**: finding missing values, duplicate data, invalid or broken values, etc\n",
    "- **Visualizations**: with support from ``matplotlib``, we can quickly visualize data\n",
    "- **Data Wrangling/Munging**: a non-so-scientific term that involves data handling: merging multiple data sources, creating derived representations, grouping data, etc.\n",
    "\n",
    "In this project you will not learn much about how to use Pandas, but you'll see it in action. So, don't worry if you don't feel comfortable \"doing\" what's shown here, it'll all be explained in the following projects.\n",
    "\n",
    "Let's get started! Switch to the next page and start your lab!"
   ]
  },
  {
   "cell_type": "markdown",
   "metadata": {},
   "source": [
    "## Loading the data"
   ]
  },
  {
   "cell_type": "markdown",
   "metadata": {},
   "source": [
    "Have you started your lab? If you haven't yet, please go ahead and start the lab. Also, execute the first couple of cells:\n",
    "\n",
    "```python\n",
    "import pandas as pd\n",
    "df = pd.read_csv(\"s&p500.csv\", index_col='Date', parse_dates=True)\n",
    "df.head()\n",
    "df.tail()\n",
    "```\n",
    "\n",
    "We first start importing the ``pandas`` library, and as we use it SO much, we like to create a short alias ``pd``. We then load the sample dataset for this project: the S&P500 index from 2017 to 2022.\n",
    "\n",
    "We load the data using the ``read_csv`` method. Throughout these labs, you'll see that pandas can load data from a lot of different formats, and methods are usually ``read_XXX``; for example: ``read_json``, ``read_excel``, ``read_xml``, etc.\n",
    "\n",
    "We've now loaded the data contained in the CSV into the variable ``df``: a DataFrame. DataFrames are the key data structure used by Pandas and you'll see A LOT of them in the following projects; so, don't worry too much about it for now.\n",
    "\n",
    "Then, we take a few quick peeks at the data with the ``.head()`` and ``.tail()`` methods. This is because pandas is prepared to handle MILLIONS of rows (or even more). So we don't usually \"print\" the whole data, we just take quick peeks at it.\n",
    "\n",
    "The ``.head()`` method shows the first 5 rows, the ``.tail()`` method shows the last 5 rows. You can immediately see that the DataFrame looks pretty much like an Excel table. It contains an index, which is the date of the reading."
   ]
  },
  {
   "cell_type": "code",
   "execution_count": 2,
   "metadata": {},
   "outputs": [],
   "source": [
    "import pandas as pd\n",
    "\n",
    "df = pd.read_csv(\"SP500 index 2017 2022.csv\", index_col='Date', parse_dates=True)"
   ]
  },
  {
   "cell_type": "code",
   "execution_count": 3,
   "metadata": {},
   "outputs": [
    {
     "data": {
      "text/html": [
       "<div>\n",
       "<style scoped>\n",
       "    .dataframe tbody tr th:only-of-type {\n",
       "        vertical-align: middle;\n",
       "    }\n",
       "\n",
       "    .dataframe tbody tr th {\n",
       "        vertical-align: top;\n",
       "    }\n",
       "\n",
       "    .dataframe thead th {\n",
       "        text-align: right;\n",
       "    }\n",
       "</style>\n",
       "<table border=\"1\" class=\"dataframe\">\n",
       "  <thead>\n",
       "    <tr style=\"text-align: right;\">\n",
       "      <th></th>\n",
       "      <th>Open</th>\n",
       "      <th>High</th>\n",
       "      <th>Low</th>\n",
       "      <th>Close</th>\n",
       "      <th>Adj Close</th>\n",
       "      <th>Volume</th>\n",
       "    </tr>\n",
       "    <tr>\n",
       "      <th>Date</th>\n",
       "      <th></th>\n",
       "      <th></th>\n",
       "      <th></th>\n",
       "      <th></th>\n",
       "      <th></th>\n",
       "      <th></th>\n",
       "    </tr>\n",
       "  </thead>\n",
       "  <tbody>\n",
       "    <tr>\n",
       "      <th>2017-01-03</th>\n",
       "      <td>2251.570068</td>\n",
       "      <td>2263.879883</td>\n",
       "      <td>2245.129883</td>\n",
       "      <td>2257.830078</td>\n",
       "      <td>2257.830078</td>\n",
       "      <td>3773010000</td>\n",
       "    </tr>\n",
       "    <tr>\n",
       "      <th>2017-01-04</th>\n",
       "      <td>2261.600098</td>\n",
       "      <td>2272.820068</td>\n",
       "      <td>2261.600098</td>\n",
       "      <td>2270.750000</td>\n",
       "      <td>2270.750000</td>\n",
       "      <td>3768890000</td>\n",
       "    </tr>\n",
       "    <tr>\n",
       "      <th>2017-01-05</th>\n",
       "      <td>2268.179932</td>\n",
       "      <td>2271.500000</td>\n",
       "      <td>2260.449951</td>\n",
       "      <td>2269.000000</td>\n",
       "      <td>2269.000000</td>\n",
       "      <td>3785080000</td>\n",
       "    </tr>\n",
       "    <tr>\n",
       "      <th>2017-01-06</th>\n",
       "      <td>2271.139893</td>\n",
       "      <td>2282.100098</td>\n",
       "      <td>2264.060059</td>\n",
       "      <td>2276.979980</td>\n",
       "      <td>2276.979980</td>\n",
       "      <td>3342080000</td>\n",
       "    </tr>\n",
       "    <tr>\n",
       "      <th>2017-01-09</th>\n",
       "      <td>2273.590088</td>\n",
       "      <td>2275.489990</td>\n",
       "      <td>2268.899902</td>\n",
       "      <td>2268.899902</td>\n",
       "      <td>2268.899902</td>\n",
       "      <td>3219730000</td>\n",
       "    </tr>\n",
       "  </tbody>\n",
       "</table>\n",
       "</div>"
      ],
      "text/plain": [
       "                   Open         High          Low        Close    Adj Close  \\\n",
       "Date                                                                          \n",
       "2017-01-03  2251.570068  2263.879883  2245.129883  2257.830078  2257.830078   \n",
       "2017-01-04  2261.600098  2272.820068  2261.600098  2270.750000  2270.750000   \n",
       "2017-01-05  2268.179932  2271.500000  2260.449951  2269.000000  2269.000000   \n",
       "2017-01-06  2271.139893  2282.100098  2264.060059  2276.979980  2276.979980   \n",
       "2017-01-09  2273.590088  2275.489990  2268.899902  2268.899902  2268.899902   \n",
       "\n",
       "                Volume  \n",
       "Date                    \n",
       "2017-01-03  3773010000  \n",
       "2017-01-04  3768890000  \n",
       "2017-01-05  3785080000  \n",
       "2017-01-06  3342080000  \n",
       "2017-01-09  3219730000  "
      ]
     },
     "execution_count": 3,
     "metadata": {},
     "output_type": "execute_result"
    }
   ],
   "source": [
    "df.head()"
   ]
  },
  {
   "cell_type": "code",
   "execution_count": 4,
   "metadata": {},
   "outputs": [
    {
     "data": {
      "text/html": [
       "<div>\n",
       "<style scoped>\n",
       "    .dataframe tbody tr th:only-of-type {\n",
       "        vertical-align: middle;\n",
       "    }\n",
       "\n",
       "    .dataframe tbody tr th {\n",
       "        vertical-align: top;\n",
       "    }\n",
       "\n",
       "    .dataframe thead th {\n",
       "        text-align: right;\n",
       "    }\n",
       "</style>\n",
       "<table border=\"1\" class=\"dataframe\">\n",
       "  <thead>\n",
       "    <tr style=\"text-align: right;\">\n",
       "      <th></th>\n",
       "      <th>Open</th>\n",
       "      <th>High</th>\n",
       "      <th>Low</th>\n",
       "      <th>Close</th>\n",
       "      <th>Adj Close</th>\n",
       "      <th>Volume</th>\n",
       "    </tr>\n",
       "    <tr>\n",
       "      <th>Date</th>\n",
       "      <th></th>\n",
       "      <th></th>\n",
       "      <th></th>\n",
       "      <th></th>\n",
       "      <th></th>\n",
       "      <th></th>\n",
       "    </tr>\n",
       "  </thead>\n",
       "  <tbody>\n",
       "    <tr>\n",
       "      <th>2022-12-23</th>\n",
       "      <td>3815.110107</td>\n",
       "      <td>3845.800049</td>\n",
       "      <td>3797.010010</td>\n",
       "      <td>3844.820068</td>\n",
       "      <td>3844.820068</td>\n",
       "      <td>2819280000</td>\n",
       "    </tr>\n",
       "    <tr>\n",
       "      <th>2022-12-27</th>\n",
       "      <td>3843.340088</td>\n",
       "      <td>3846.649902</td>\n",
       "      <td>3813.219971</td>\n",
       "      <td>3829.250000</td>\n",
       "      <td>3829.250000</td>\n",
       "      <td>3030300000</td>\n",
       "    </tr>\n",
       "    <tr>\n",
       "      <th>2022-12-28</th>\n",
       "      <td>3829.560059</td>\n",
       "      <td>3848.320068</td>\n",
       "      <td>3780.780029</td>\n",
       "      <td>3783.219971</td>\n",
       "      <td>3783.219971</td>\n",
       "      <td>3083520000</td>\n",
       "    </tr>\n",
       "    <tr>\n",
       "      <th>2022-12-29</th>\n",
       "      <td>3805.449951</td>\n",
       "      <td>3858.189941</td>\n",
       "      <td>3805.449951</td>\n",
       "      <td>3849.280029</td>\n",
       "      <td>3849.280029</td>\n",
       "      <td>3003680000</td>\n",
       "    </tr>\n",
       "    <tr>\n",
       "      <th>2022-12-30</th>\n",
       "      <td>3829.060059</td>\n",
       "      <td>3839.850098</td>\n",
       "      <td>3800.340088</td>\n",
       "      <td>3839.500000</td>\n",
       "      <td>3839.500000</td>\n",
       "      <td>2979870000</td>\n",
       "    </tr>\n",
       "  </tbody>\n",
       "</table>\n",
       "</div>"
      ],
      "text/plain": [
       "                   Open         High          Low        Close    Adj Close  \\\n",
       "Date                                                                          \n",
       "2022-12-23  3815.110107  3845.800049  3797.010010  3844.820068  3844.820068   \n",
       "2022-12-27  3843.340088  3846.649902  3813.219971  3829.250000  3829.250000   \n",
       "2022-12-28  3829.560059  3848.320068  3780.780029  3783.219971  3783.219971   \n",
       "2022-12-29  3805.449951  3858.189941  3805.449951  3849.280029  3849.280029   \n",
       "2022-12-30  3829.060059  3839.850098  3800.340088  3839.500000  3839.500000   \n",
       "\n",
       "                Volume  \n",
       "Date                    \n",
       "2022-12-23  2819280000  \n",
       "2022-12-27  3030300000  \n",
       "2022-12-28  3083520000  \n",
       "2022-12-29  3003680000  \n",
       "2022-12-30  2979870000  "
      ]
     },
     "execution_count": 4,
     "metadata": {},
     "output_type": "execute_result"
    }
   ],
   "source": [
    "df.tail()"
   ]
  },
  {
   "cell_type": "markdown",
   "metadata": {},
   "source": [
    "## Analyzing data"
   ]
  },
  {
   "cell_type": "markdown",
   "metadata": {},
   "source": [
    "The analysis phase is of course dependant of the task at hand, and the data at hand. This is just an example of the capabilities of pandas.\n",
    "\n",
    "We start by using the ``.describe()`` method, that provides quick summary statistics of the whole DataFrame. We have information like the ``mean`` (the average), ``max``, etc.\n",
    "\n",
    "We can also get specific information for a single column: ``df['Close'].min()`` or ``df['Close'].max()``. Oh, by the way, you've just seen how to perform \"single column selection\": ``df['Close'].head()``."
   ]
  },
  {
   "cell_type": "code",
   "execution_count": 5,
   "metadata": {},
   "outputs": [
    {
     "data": {
      "text/html": [
       "<div>\n",
       "<style scoped>\n",
       "    .dataframe tbody tr th:only-of-type {\n",
       "        vertical-align: middle;\n",
       "    }\n",
       "\n",
       "    .dataframe tbody tr th {\n",
       "        vertical-align: top;\n",
       "    }\n",
       "\n",
       "    .dataframe thead th {\n",
       "        text-align: right;\n",
       "    }\n",
       "</style>\n",
       "<table border=\"1\" class=\"dataframe\">\n",
       "  <thead>\n",
       "    <tr style=\"text-align: right;\">\n",
       "      <th></th>\n",
       "      <th>Open</th>\n",
       "      <th>High</th>\n",
       "      <th>Low</th>\n",
       "      <th>Close</th>\n",
       "      <th>Adj Close</th>\n",
       "      <th>Volume</th>\n",
       "    </tr>\n",
       "  </thead>\n",
       "  <tbody>\n",
       "    <tr>\n",
       "      <th>count</th>\n",
       "      <td>1510.000000</td>\n",
       "      <td>1510.000000</td>\n",
       "      <td>1510.000000</td>\n",
       "      <td>1510.000000</td>\n",
       "      <td>1510.000000</td>\n",
       "      <td>1.510000e+03</td>\n",
       "    </tr>\n",
       "    <tr>\n",
       "      <th>mean</th>\n",
       "      <td>3283.215944</td>\n",
       "      <td>3301.894648</td>\n",
       "      <td>3262.660734</td>\n",
       "      <td>3283.391821</td>\n",
       "      <td>3283.391821</td>\n",
       "      <td>4.096083e+09</td>\n",
       "    </tr>\n",
       "    <tr>\n",
       "      <th>std</th>\n",
       "      <td>716.906855</td>\n",
       "      <td>722.545366</td>\n",
       "      <td>710.808656</td>\n",
       "      <td>716.838804</td>\n",
       "      <td>716.838804</td>\n",
       "      <td>1.054008e+09</td>\n",
       "    </tr>\n",
       "    <tr>\n",
       "      <th>min</th>\n",
       "      <td>2251.570068</td>\n",
       "      <td>2263.879883</td>\n",
       "      <td>2191.860107</td>\n",
       "      <td>2237.399902</td>\n",
       "      <td>2237.399902</td>\n",
       "      <td>1.296530e+09</td>\n",
       "    </tr>\n",
       "    <tr>\n",
       "      <th>25%</th>\n",
       "      <td>2713.589966</td>\n",
       "      <td>2729.655090</td>\n",
       "      <td>2697.770020</td>\n",
       "      <td>2712.177429</td>\n",
       "      <td>2712.177429</td>\n",
       "      <td>3.418972e+09</td>\n",
       "    </tr>\n",
       "    <tr>\n",
       "      <th>50%</th>\n",
       "      <td>3006.380005</td>\n",
       "      <td>3016.780029</td>\n",
       "      <td>2991.500000</td>\n",
       "      <td>3005.584961</td>\n",
       "      <td>3005.584961</td>\n",
       "      <td>3.858670e+09</td>\n",
       "    </tr>\n",
       "    <tr>\n",
       "      <th>75%</th>\n",
       "      <td>3919.070007</td>\n",
       "      <td>3945.934998</td>\n",
       "      <td>3892.040039</td>\n",
       "      <td>3916.182434</td>\n",
       "      <td>3916.182434</td>\n",
       "      <td>4.526435e+09</td>\n",
       "    </tr>\n",
       "    <tr>\n",
       "      <th>max</th>\n",
       "      <td>4804.509766</td>\n",
       "      <td>4818.620117</td>\n",
       "      <td>4780.040039</td>\n",
       "      <td>4796.560059</td>\n",
       "      <td>4796.560059</td>\n",
       "      <td>9.976520e+09</td>\n",
       "    </tr>\n",
       "  </tbody>\n",
       "</table>\n",
       "</div>"
      ],
      "text/plain": [
       "              Open         High          Low        Close    Adj Close  \\\n",
       "count  1510.000000  1510.000000  1510.000000  1510.000000  1510.000000   \n",
       "mean   3283.215944  3301.894648  3262.660734  3283.391821  3283.391821   \n",
       "std     716.906855   722.545366   710.808656   716.838804   716.838804   \n",
       "min    2251.570068  2263.879883  2191.860107  2237.399902  2237.399902   \n",
       "25%    2713.589966  2729.655090  2697.770020  2712.177429  2712.177429   \n",
       "50%    3006.380005  3016.780029  2991.500000  3005.584961  3005.584961   \n",
       "75%    3919.070007  3945.934998  3892.040039  3916.182434  3916.182434   \n",
       "max    4804.509766  4818.620117  4780.040039  4796.560059  4796.560059   \n",
       "\n",
       "             Volume  \n",
       "count  1.510000e+03  \n",
       "mean   4.096083e+09  \n",
       "std    1.054008e+09  \n",
       "min    1.296530e+09  \n",
       "25%    3.418972e+09  \n",
       "50%    3.858670e+09  \n",
       "75%    4.526435e+09  \n",
       "max    9.976520e+09  "
      ]
     },
     "execution_count": 5,
     "metadata": {},
     "output_type": "execute_result"
    }
   ],
   "source": [
    "df.describe()"
   ]
  },
  {
   "cell_type": "markdown",
   "metadata": {},
   "source": [
    "Single column statistics"
   ]
  },
  {
   "cell_type": "code",
   "execution_count": 6,
   "metadata": {},
   "outputs": [
    {
     "data": {
      "text/plain": [
       "2237.39990234375"
      ]
     },
     "execution_count": 6,
     "metadata": {},
     "output_type": "execute_result"
    }
   ],
   "source": [
    "df['Close'].min()"
   ]
  },
  {
   "cell_type": "code",
   "execution_count": 7,
   "metadata": {},
   "outputs": [
    {
     "data": {
      "text/plain": [
       "4796.56005859375"
      ]
     },
     "execution_count": 7,
     "metadata": {},
     "output_type": "execute_result"
    }
   ],
   "source": [
    "df['Close'].max()"
   ]
  },
  {
   "cell_type": "markdown",
   "metadata": {},
   "source": [
    "Single column selection:"
   ]
  },
  {
   "cell_type": "code",
   "execution_count": 8,
   "metadata": {},
   "outputs": [
    {
     "data": {
      "text/plain": [
       "Date\n",
       "2017-01-03    2257.830078\n",
       "2017-01-04    2270.750000\n",
       "2017-01-05    2269.000000\n",
       "2017-01-06    2276.979980\n",
       "2017-01-09    2268.899902\n",
       "Name: Close, dtype: float64"
      ]
     },
     "execution_count": 8,
     "metadata": {},
     "output_type": "execute_result"
    }
   ],
   "source": [
    "df['Close'].head()"
   ]
  },
  {
   "cell_type": "markdown",
   "metadata": {},
   "source": [
    "## Visualizations"
   ]
  },
  {
   "cell_type": "markdown",
   "metadata": {},
   "source": [
    "Pandas makes it simple to visualize data with the ``.plot()`` method. In reality, ``.plot()`` is just a wrapper around ``matplotlib``, the de-facto plotting library for Python.\n",
    "\n",
    "As you can see, plotting a column is very easy; just: ``df['Close'].plot()``.\n",
    "\n",
    "You can see that we're creating more advanced visualizations by combining multiple columns or by creating statistical visualizations (box plots, histograms, etc)."
   ]
  },
  {
   "cell_type": "code",
   "execution_count": 9,
   "metadata": {},
   "outputs": [
    {
     "data": {
      "text/plain": [
       "<Axes: title={'center': 'S&P Closing Price | 2017 - 2022'}, xlabel='Date'>"
      ]
     },
     "execution_count": 9,
     "metadata": {},
     "output_type": "execute_result"
    },
    {
     "data": {
      "image/png": "[encoded data removed]",
      "text/plain": [
       "<Figure size 1400x700 with 1 Axes>"
      ]
     },
     "metadata": {},
     "output_type": "display_data"
    }
   ],
   "source": [
    "df['Close'].plot(figsize=(14, 7), title='S&P Closing Price | 2017 - 2022')"
   ]
  },
  {
   "cell_type": "markdown",
   "metadata": {},
   "source": [
    "A more advanced chart combining ``Close Price`` and ``Volume``:"
   ]
  },
  {
   "cell_type": "code",
   "execution_count": 10,
   "metadata": {},
   "outputs": [
    {
     "data": {
      "text/plain": [
       "<matplotlib.legend.Legend at 0x1c3c9a27610>"
      ]
     },
     "execution_count": 10,
     "metadata": {},
     "output_type": "execute_result"
    },
    {
     "data": {
      "image/png": "[encoded data removed]",
      "text/plain": [
       "<Figure size 1400x700 with 2 Axes>"
      ]
     },
     "metadata": {},
     "output_type": "display_data"
    }
   ],
   "source": [
    "ax1 = df['Close'].plot(figsize=(14, 7), title='S&P Closing Price | 2017 - 2022')\n",
    "\n",
    "ax2 = ax1.twinx()\n",
    "df['Volume'].plot(ax=ax2, color='red', ylim=[df['Volume'].min(), df['Volume'].max() * 5])\n",
    "\n",
    "ax1.figure.legend([\"Close\", \"Volume\"])"
   ]
  },
  {
   "cell_type": "markdown",
   "metadata": {},
   "source": [
    "A few statistical visualizations.\n",
    "\n",
    "A histogram:"
   ]
  },
  {
   "cell_type": "code",
   "execution_count": 11,
   "metadata": {},
   "outputs": [
    {
     "data": {
      "text/plain": [
       "<Axes: ylabel='Frequency'>"
      ]
     },
     "execution_count": 11,
     "metadata": {},
     "output_type": "execute_result"
    },
    {
     "data": {
      "image/png": "[encoded data removed]",
      "text/plain": [
       "<Figure size 640x480 with 1 Axes>"
      ]
     },
     "metadata": {},
     "output_type": "display_data"
    }
   ],
   "source": [
    "df['Volume'].plot(kind='hist')"
   ]
  },
  {
   "cell_type": "markdown",
   "metadata": {},
   "source": [
    "A box plot:"
   ]
  },
  {
   "cell_type": "code",
   "execution_count": 12,
   "metadata": {},
   "outputs": [
    {
     "data": {
      "text/plain": [
       "<Axes: >"
      ]
     },
     "execution_count": 12,
     "metadata": {},
     "output_type": "execute_result"
    },
    {
     "data": {
      "image/png": "[encoded data removed]",
      "text/plain": [
       "<Figure size 640x480 with 1 Axes>"
      ]
     },
     "metadata": {},
     "output_type": "display_data"
    }
   ],
   "source": [
    "df['Volume'].plot(kind='box', vert=False)"
   ]
  },
  {
   "cell_type": "markdown",
   "metadata": {},
   "source": [
    "## Data Wrangling"
   ]
  },
  {
   "cell_type": "markdown",
   "metadata": {},
   "source": [
    "Pandas excels at Data Wrangling/handling/munging. We can perform a ton of operations, like combining datasets, grouping, melting, creating pivot tables, etc. We have an entire Skill Track just dedicated to Data Wrangling, so you can guess how powerful it is.\n",
    "\n",
    "For now, we'll focus on just a few simple operations. We'll calculate [Bollinger Bands](https://en.wikipedia.org/wiki/Bollinger_Bands) for our S&P500 data.\n",
    "\n",
    "Bollinger bands are just a simple visualization/analysis technique that creates two bands, one \"roof\" and one \"floor\" of some \"support\" for a given time series. The reasoning is that, if the time series is \"below\" the \"floor\", it's a historic low, and if it's \"above\" the \"roof\", it's a historic high. In terms of stock prices and other financial instruments, when the price crosses a band, it's said to be too cheap or too expensive.\n",
    "\n",
    "> **This is definitively NOT investment advice. Bollinger bands have proved to be INACCURATE, so don't use them in real life. This is just for educational purposes.**\n",
    "\n",
    "A Bollinger band is defined as two standard deviations above/below the Simple Moving Average. Those are a lot of concepts, but basically we can first define the Simple Moving Average, using the ``.rolling(WINDOW).mean()`` method (switch to the lab to follow along).\n",
    "\n",
    "Understanding the SMA is outside of the scope of this project, but it's basically a \"smoothing\" method. You see how the SMA *follows* the Close Price, but without so much volatility.\n",
    "\n",
    "Now, to define the bands we need to calculate 2 standard deviations above/below the price:\n",
    "\n",
    "```python\n",
    "df['Lower Band'] = df['Close SMA'] - (2 * df['Close'].rolling(60).std())\n",
    "df['Upper Band'] = df['Close SMA'] + (2 * df['Close'].rolling(60).std())\n",
    "```\n",
    "\n",
    "The final result should look something like:"
   ]
  },
  {
   "cell_type": "code",
   "execution_count": 13,
   "metadata": {},
   "outputs": [],
   "source": [
    "df['Close SMA'] = df['Close'].rolling(60).mean()"
   ]
  },
  {
   "cell_type": "markdown",
   "metadata": {},
   "source": [
    "Comparamos el nuevo SMA con el valor de cierre de la acción"
   ]
  },
  {
   "cell_type": "code",
   "execution_count": 14,
   "metadata": {},
   "outputs": [
    {
     "data": {
      "text/html": [
       "<div>\n",
       "<style scoped>\n",
       "    .dataframe tbody tr th:only-of-type {\n",
       "        vertical-align: middle;\n",
       "    }\n",
       "\n",
       "    .dataframe tbody tr th {\n",
       "        vertical-align: top;\n",
       "    }\n",
       "\n",
       "    .dataframe thead th {\n",
       "        text-align: right;\n",
       "    }\n",
       "</style>\n",
       "<table border=\"1\" class=\"dataframe\">\n",
       "  <thead>\n",
       "    <tr style=\"text-align: right;\">\n",
       "      <th></th>\n",
       "      <th>Close</th>\n",
       "      <th>Close SMA</th>\n",
       "    </tr>\n",
       "    <tr>\n",
       "      <th>Date</th>\n",
       "      <th></th>\n",
       "      <th></th>\n",
       "    </tr>\n",
       "  </thead>\n",
       "  <tbody>\n",
       "    <tr>\n",
       "      <th>2022-12-16</th>\n",
       "      <td>3852.360107</td>\n",
       "      <td>3835.480680</td>\n",
       "    </tr>\n",
       "    <tr>\n",
       "      <th>2022-12-19</th>\n",
       "      <td>3817.659912</td>\n",
       "      <td>3837.554513</td>\n",
       "    </tr>\n",
       "    <tr>\n",
       "      <th>2022-12-20</th>\n",
       "      <td>3821.620117</td>\n",
       "      <td>3840.330847</td>\n",
       "    </tr>\n",
       "    <tr>\n",
       "      <th>2022-12-21</th>\n",
       "      <td>3878.439941</td>\n",
       "      <td>3844.183346</td>\n",
       "    </tr>\n",
       "    <tr>\n",
       "      <th>2022-12-22</th>\n",
       "      <td>3822.389893</td>\n",
       "      <td>3845.905843</td>\n",
       "    </tr>\n",
       "    <tr>\n",
       "      <th>2022-12-23</th>\n",
       "      <td>3844.820068</td>\n",
       "      <td>3849.311678</td>\n",
       "    </tr>\n",
       "    <tr>\n",
       "      <th>2022-12-27</th>\n",
       "      <td>3829.250000</td>\n",
       "      <td>3853.372176</td>\n",
       "    </tr>\n",
       "    <tr>\n",
       "      <th>2022-12-28</th>\n",
       "      <td>3783.219971</td>\n",
       "      <td>3855.118677</td>\n",
       "    </tr>\n",
       "    <tr>\n",
       "      <th>2022-12-29</th>\n",
       "      <td>3849.280029</td>\n",
       "      <td>3856.091178</td>\n",
       "    </tr>\n",
       "    <tr>\n",
       "      <th>2022-12-30</th>\n",
       "      <td>3839.500000</td>\n",
       "      <td>3857.028178</td>\n",
       "    </tr>\n",
       "  </tbody>\n",
       "</table>\n",
       "</div>"
      ],
      "text/plain": [
       "                  Close    Close SMA\n",
       "Date                                \n",
       "2022-12-16  3852.360107  3835.480680\n",
       "2022-12-19  3817.659912  3837.554513\n",
       "2022-12-20  3821.620117  3840.330847\n",
       "2022-12-21  3878.439941  3844.183346\n",
       "2022-12-22  3822.389893  3845.905843\n",
       "2022-12-23  3844.820068  3849.311678\n",
       "2022-12-27  3829.250000  3853.372176\n",
       "2022-12-28  3783.219971  3855.118677\n",
       "2022-12-29  3849.280029  3856.091178\n",
       "2022-12-30  3839.500000  3857.028178"
      ]
     },
     "execution_count": 14,
     "metadata": {},
     "output_type": "execute_result"
    }
   ],
   "source": [
    "df[['Close', 'Close SMA']].tail(10)"
   ]
  },
  {
   "cell_type": "code",
   "execution_count": 15,
   "metadata": {},
   "outputs": [
    {
     "data": {
      "image/png": "[encoded data removed]",
      "text/plain": [
       "<Figure size 1400x700 with 1 Axes>"
      ]
     },
     "metadata": {},
     "output_type": "display_data"
    }
   ],
   "source": [
    "ax = df[['Close', 'Close SMA']].plot(figsize=(14,7), title='Close Price & its SMA')"
   ]
  },
  {
   "cell_type": "markdown",
   "metadata": {},
   "source": [
    "Calcularemos las bandas de Bollinger"
   ]
  },
  {
   "cell_type": "code",
   "execution_count": 16,
   "metadata": {},
   "outputs": [],
   "source": [
    "df['Lower Band'] = df['Close SMA'] - (2 * df['Close'].rolling(60).std())\n",
    "df['Upper Band'] = df['Close SMA'] + (2 * df['Close'].rolling(60).std())"
   ]
  },
  {
   "cell_type": "code",
   "execution_count": 17,
   "metadata": {},
   "outputs": [
    {
     "data": {
      "text/html": [
       "<div>\n",
       "<style scoped>\n",
       "    .dataframe tbody tr th:only-of-type {\n",
       "        vertical-align: middle;\n",
       "    }\n",
       "\n",
       "    .dataframe tbody tr th {\n",
       "        vertical-align: top;\n",
       "    }\n",
       "\n",
       "    .dataframe thead th {\n",
       "        text-align: right;\n",
       "    }\n",
       "</style>\n",
       "<table border=\"1\" class=\"dataframe\">\n",
       "  <thead>\n",
       "    <tr style=\"text-align: right;\">\n",
       "      <th></th>\n",
       "      <th>Close</th>\n",
       "      <th>Close SMA</th>\n",
       "      <th>Lower Band</th>\n",
       "      <th>Upper Band</th>\n",
       "    </tr>\n",
       "    <tr>\n",
       "      <th>Date</th>\n",
       "      <th></th>\n",
       "      <th></th>\n",
       "      <th></th>\n",
       "      <th></th>\n",
       "    </tr>\n",
       "  </thead>\n",
       "  <tbody>\n",
       "    <tr>\n",
       "      <th>2022-12-23</th>\n",
       "      <td>3844.820068</td>\n",
       "      <td>3849.311678</td>\n",
       "      <td>3571.779081</td>\n",
       "      <td>4126.844275</td>\n",
       "    </tr>\n",
       "    <tr>\n",
       "      <th>2022-12-27</th>\n",
       "      <td>3829.250000</td>\n",
       "      <td>3853.372176</td>\n",
       "      <td>3584.540551</td>\n",
       "      <td>4122.203801</td>\n",
       "    </tr>\n",
       "    <tr>\n",
       "      <th>2022-12-28</th>\n",
       "      <td>3783.219971</td>\n",
       "      <td>3855.118677</td>\n",
       "      <td>3589.568713</td>\n",
       "      <td>4120.668641</td>\n",
       "    </tr>\n",
       "    <tr>\n",
       "      <th>2022-12-29</th>\n",
       "      <td>3849.280029</td>\n",
       "      <td>3856.091178</td>\n",
       "      <td>3591.070590</td>\n",
       "      <td>4121.111766</td>\n",
       "    </tr>\n",
       "    <tr>\n",
       "      <th>2022-12-30</th>\n",
       "      <td>3839.500000</td>\n",
       "      <td>3857.028178</td>\n",
       "      <td>3592.658018</td>\n",
       "      <td>4121.398338</td>\n",
       "    </tr>\n",
       "  </tbody>\n",
       "</table>\n",
       "</div>"
      ],
      "text/plain": [
       "                  Close    Close SMA   Lower Band   Upper Band\n",
       "Date                                                          \n",
       "2022-12-23  3844.820068  3849.311678  3571.779081  4126.844275\n",
       "2022-12-27  3829.250000  3853.372176  3584.540551  4122.203801\n",
       "2022-12-28  3783.219971  3855.118677  3589.568713  4120.668641\n",
       "2022-12-29  3849.280029  3856.091178  3591.070590  4121.111766\n",
       "2022-12-30  3839.500000  3857.028178  3592.658018  4121.398338"
      ]
     },
     "execution_count": 17,
     "metadata": {},
     "output_type": "execute_result"
    }
   ],
   "source": [
    "df[['Close', 'Close SMA', 'Lower Band', 'Upper Band']].tail()"
   ]
  },
  {
   "cell_type": "code",
   "execution_count": 19,
   "metadata": {},
   "outputs": [
    {
     "data": {
      "text/plain": [
       "<Axes: title={'center': 'Close Price & its SMA'}, xlabel='Date'>"
      ]
     },
     "execution_count": 19,
     "metadata": {},
     "output_type": "execute_result"
    },
    {
     "data": {
      "image/png": "[encoded data removed]",
      "text/plain": [
       "<Figure size 1400x700 with 1 Axes>"
      ]
     },
     "metadata": {},
     "output_type": "display_data"
    }
   ],
   "source": [
    "df[['Close', 'Lower Band', 'Upper Band']].plot(figsize=(14,7), title='Close Price & its SMA')"
   ]
  },
  {
   "cell_type": "markdown",
   "metadata": {},
   "source": [
    "Ahora encontraremos los puntos bajos que cruzan la banda baja"
   ]
  },
  {
   "cell_type": "code",
   "execution_count": 24,
   "metadata": {},
   "outputs": [
    {
     "data": {
      "image/png": "[encoded data removed]",
      "text/plain": [
       "<Figure size 1400x700 with 1 Axes>"
      ]
     },
     "metadata": {},
     "output_type": "display_data"
    }
   ],
   "source": [
    "ax = df[['Close', 'Lower Band', 'Upper Band']].plot(figsize=(14, 7), title='Close Price & its SMA')\n",
    "ax.annotate(\n",
    "    \"Let's find this point\", xy=(pd.Timestamp(\"2020-03-23\"), 2237), \n",
    "    xytext=(0.9, 0.1), textcoords='axes fraction',\n",
    "    arrowprops=dict(facecolor='red', shrink=0.05),\n",
    "    horizontalalignment='right', verticalalignment='bottom');"
   ]
  },
  {
   "cell_type": "markdown",
   "metadata": {},
   "source": [
    "Podemos hacer un query de todas las fechas que cruzaron la banda baja en el periodo ``2020-03-01`` a ``2020-06-01`` "
   ]
  },
  {
   "cell_type": "code",
   "execution_count": 25,
   "metadata": {},
   "outputs": [
    {
     "data": {
      "text/html": [
       "<div>\n",
       "<style scoped>\n",
       "    .dataframe tbody tr th:only-of-type {\n",
       "        vertical-align: middle;\n",
       "    }\n",
       "\n",
       "    .dataframe tbody tr th {\n",
       "        vertical-align: top;\n",
       "    }\n",
       "\n",
       "    .dataframe thead th {\n",
       "        text-align: right;\n",
       "    }\n",
       "</style>\n",
       "<table border=\"1\" class=\"dataframe\">\n",
       "  <thead>\n",
       "    <tr style=\"text-align: right;\">\n",
       "      <th></th>\n",
       "      <th>Open</th>\n",
       "      <th>High</th>\n",
       "      <th>Low</th>\n",
       "      <th>Close</th>\n",
       "      <th>Adj Close</th>\n",
       "      <th>Volume</th>\n",
       "      <th>Close SMA</th>\n",
       "      <th>Lower Band</th>\n",
       "      <th>Upper Band</th>\n",
       "    </tr>\n",
       "    <tr>\n",
       "      <th>Date</th>\n",
       "      <th></th>\n",
       "      <th></th>\n",
       "      <th></th>\n",
       "      <th></th>\n",
       "      <th></th>\n",
       "      <th></th>\n",
       "      <th></th>\n",
       "      <th></th>\n",
       "      <th></th>\n",
       "    </tr>\n",
       "  </thead>\n",
       "  <tbody>\n",
       "    <tr>\n",
       "      <th>2020-03-03</th>\n",
       "      <td>3096.459961</td>\n",
       "      <td>3136.719971</td>\n",
       "      <td>2976.629883</td>\n",
       "      <td>3003.370117</td>\n",
       "      <td>3003.370117</td>\n",
       "      <td>6376510000</td>\n",
       "      <td>3243.278988</td>\n",
       "      <td>3047.952727</td>\n",
       "      <td>3438.605248</td>\n",
       "    </tr>\n",
       "    <tr>\n",
       "      <th>2020-03-05</th>\n",
       "      <td>3075.699951</td>\n",
       "      <td>3083.040039</td>\n",
       "      <td>2999.830078</td>\n",
       "      <td>3023.939941</td>\n",
       "      <td>3023.939941</td>\n",
       "      <td>5579290000</td>\n",
       "      <td>3241.457658</td>\n",
       "      <td>3040.082062</td>\n",
       "      <td>3442.833254</td>\n",
       "    </tr>\n",
       "    <tr>\n",
       "      <th>2020-03-06</th>\n",
       "      <td>2954.199951</td>\n",
       "      <td>2985.929932</td>\n",
       "      <td>2901.540039</td>\n",
       "      <td>2972.370117</td>\n",
       "      <td>2972.370117</td>\n",
       "      <td>6555240000</td>\n",
       "      <td>3238.731160</td>\n",
       "      <td>3027.363341</td>\n",
       "      <td>3450.098980</td>\n",
       "    </tr>\n",
       "    <tr>\n",
       "      <th>2020-03-09</th>\n",
       "      <td>2863.889893</td>\n",
       "      <td>2863.889893</td>\n",
       "      <td>2734.429932</td>\n",
       "      <td>2746.560059</td>\n",
       "      <td>2746.560059</td>\n",
       "      <td>8441290000</td>\n",
       "      <td>3232.298494</td>\n",
       "      <td>2987.011382</td>\n",
       "      <td>3477.585607</td>\n",
       "    </tr>\n",
       "    <tr>\n",
       "      <th>2020-03-10</th>\n",
       "      <td>2813.479980</td>\n",
       "      <td>2882.590088</td>\n",
       "      <td>2734.000000</td>\n",
       "      <td>2882.229980</td>\n",
       "      <td>2882.229980</td>\n",
       "      <td>7642040000</td>\n",
       "      <td>3227.975163</td>\n",
       "      <td>2967.512632</td>\n",
       "      <td>3488.437694</td>\n",
       "    </tr>\n",
       "  </tbody>\n",
       "</table>\n",
       "</div>"
      ],
      "text/plain": [
       "                   Open         High          Low        Close    Adj Close  \\\n",
       "Date                                                                          \n",
       "2020-03-03  3096.459961  3136.719971  2976.629883  3003.370117  3003.370117   \n",
       "2020-03-05  3075.699951  3083.040039  2999.830078  3023.939941  3023.939941   \n",
       "2020-03-06  2954.199951  2985.929932  2901.540039  2972.370117  2972.370117   \n",
       "2020-03-09  2863.889893  2863.889893  2734.429932  2746.560059  2746.560059   \n",
       "2020-03-10  2813.479980  2882.590088  2734.000000  2882.229980  2882.229980   \n",
       "\n",
       "                Volume    Close SMA   Lower Band   Upper Band  \n",
       "Date                                                           \n",
       "2020-03-03  6376510000  3243.278988  3047.952727  3438.605248  \n",
       "2020-03-05  5579290000  3241.457658  3040.082062  3442.833254  \n",
       "2020-03-06  6555240000  3238.731160  3027.363341  3450.098980  \n",
       "2020-03-09  8441290000  3232.298494  2987.011382  3477.585607  \n",
       "2020-03-10  7642040000  3227.975163  2967.512632  3488.437694  "
      ]
     },
     "execution_count": 25,
     "metadata": {},
     "output_type": "execute_result"
    }
   ],
   "source": [
    "df.loc['2020-03-01': '2020-06-01'].query(\"Close < `Lower Band`\").head()"
   ]
  },
  {
   "cell_type": "markdown",
   "metadata": {},
   "source": [
    "Y podemos hacer un zoom también a ese periodo"
   ]
  },
  {
   "cell_type": "code",
   "execution_count": 27,
   "metadata": {},
   "outputs": [
    {
     "data": {
      "image/png": "[encoded data removed]",
      "text/plain": [
       "<Figure size 1400x700 with 1 Axes>"
      ]
     },
     "metadata": {},
     "output_type": "display_data"
    }
   ],
   "source": [
    "df.loc['2020-01-01': '2020-06-01', ['Close', 'Lower Band', 'Upper Band']].plot(figsize=(14, 7), title='Close Price & its SMA | 2020-01-01 to 2020-06-01');"
   ]
  },
  {
   "cell_type": "markdown",
   "metadata": {},
   "source": [
    "# Series Practice with World Bank's data"
   ]
  },
  {
   "cell_type": "markdown",
   "metadata": {},
   "source": [
    "## Introduction"
   ]
  },
  {
   "cell_type": "markdown",
   "metadata": {},
   "source": [
    "In this lab, you will use pandas to explore the World Bank's data on economic, political, and social indicators for countries around the world. The data is collected from Kaggle.\n",
    "\n",
    "The World Bank data is organized into a number of different categories, including:\n",
    "\n",
    "- Economy: This category includes data on GDP, population, inflation, and unemployment.\n",
    "- Government: This category includes data on government spending, taxes, and debt.\n",
    "- Social: This category includes data on education, health, and poverty.\n",
    "\n",
    "The data is stored in excel file named ``world_data.xls``. In this lab, you will learn how to:\n",
    "\n",
    "- Create pandas series\n",
    "- Series basic attributes, such as shape, size, and data type\n",
    "- Access data in pandas series\n",
    "- Perform basic statistical operations on pandas series\n",
    "\n",
    "By the end of this lab, you will be able to use pandas to explore and analyze the World Bank's data on economic, political, and social indicators for countries around the world.\n",
    "\n",
    "> ***Run all the cells that are under Take a look at raw data heading in the notebook.***\n",
    "\n",
    "Let's get dive into the lab!"
   ]
  },
  {
   "cell_type": "code",
   "execution_count": 29,
   "metadata": {},
   "outputs": [
    {
     "data": {
      "text/html": [
       "<div>\n",
       "<style scoped>\n",
       "    .dataframe tbody tr th:only-of-type {\n",
       "        vertical-align: middle;\n",
       "    }\n",
       "\n",
       "    .dataframe tbody tr th {\n",
       "        vertical-align: top;\n",
       "    }\n",
       "\n",
       "    .dataframe thead th {\n",
       "        text-align: right;\n",
       "    }\n",
       "</style>\n",
       "<table border=\"1\" class=\"dataframe\">\n",
       "  <thead>\n",
       "    <tr style=\"text-align: right;\">\n",
       "      <th></th>\n",
       "      <th>Country Name</th>\n",
       "      <th>Region Code</th>\n",
       "      <th>Country Code</th>\n",
       "      <th>GDP, PPP (current international $)</th>\n",
       "      <th>Population, total</th>\n",
       "      <th>Population CGR 1960-2015</th>\n",
       "      <th>Internet users (per 100 people)</th>\n",
       "      <th>Popltn Largest City % of Urban Pop</th>\n",
       "      <th>2014 Life expectancy at birth, total (years)</th>\n",
       "      <th>Literacy rate, adult female (% of females ages 15 and above)</th>\n",
       "      <th>Exports of goods and services (% of GDP)</th>\n",
       "    </tr>\n",
       "  </thead>\n",
       "  <tbody>\n",
       "    <tr>\n",
       "      <th>0</th>\n",
       "      <td>Aruba</td>\n",
       "      <td>MA</td>\n",
       "      <td>ABW</td>\n",
       "      <td>NaN</td>\n",
       "      <td>103,889</td>\n",
       "      <td>1.19%</td>\n",
       "      <td>88.7</td>\n",
       "      <td>NaN</td>\n",
       "      <td>75.5</td>\n",
       "      <td>97.513962</td>\n",
       "      <td>NaN</td>\n",
       "    </tr>\n",
       "    <tr>\n",
       "      <th>1</th>\n",
       "      <td>Andorra</td>\n",
       "      <td>EU</td>\n",
       "      <td>AND</td>\n",
       "      <td>NaN</td>\n",
       "      <td>70,473</td>\n",
       "      <td>3.06%</td>\n",
       "      <td>96.9</td>\n",
       "      <td>NaN</td>\n",
       "      <td>NaN</td>\n",
       "      <td>NaN</td>\n",
       "      <td>NaN</td>\n",
       "    </tr>\n",
       "    <tr>\n",
       "      <th>2</th>\n",
       "      <td>Afghanistan</td>\n",
       "      <td>ME</td>\n",
       "      <td>AFG</td>\n",
       "      <td>62,912,669,167</td>\n",
       "      <td>32,526,562</td>\n",
       "      <td>2.36%</td>\n",
       "      <td>8.3</td>\n",
       "      <td>53.4%</td>\n",
       "      <td>60.4</td>\n",
       "      <td>23.873850</td>\n",
       "      <td>0.073278</td>\n",
       "    </tr>\n",
       "    <tr>\n",
       "      <th>3</th>\n",
       "      <td>Angola</td>\n",
       "      <td>AF</td>\n",
       "      <td>AGO</td>\n",
       "      <td>184,437,662,368</td>\n",
       "      <td>25,021,974</td>\n",
       "      <td>2.87%</td>\n",
       "      <td>12.4</td>\n",
       "      <td>50.0%</td>\n",
       "      <td>52.3</td>\n",
       "      <td>60.744801</td>\n",
       "      <td>0.373074</td>\n",
       "    </tr>\n",
       "    <tr>\n",
       "      <th>4</th>\n",
       "      <td>Albania</td>\n",
       "      <td>EU</td>\n",
       "      <td>ALB</td>\n",
       "      <td>32,663,238,936</td>\n",
       "      <td>2,889,167</td>\n",
       "      <td>1.07%</td>\n",
       "      <td>63.3</td>\n",
       "      <td>27.3%</td>\n",
       "      <td>77.8</td>\n",
       "      <td>96.769691</td>\n",
       "      <td>0.271050</td>\n",
       "    </tr>\n",
       "  </tbody>\n",
       "</table>\n",
       "</div>"
      ],
      "text/plain": [
       "  Country Name Region Code Country Code GDP, PPP (current international $)  \\\n",
       "0        Aruba          MA          ABW                                NaN   \n",
       "1      Andorra          EU          AND                                NaN   \n",
       "2  Afghanistan          ME          AFG                    62,912,669,167    \n",
       "3       Angola          AF          AGO                   184,437,662,368    \n",
       "4      Albania          EU          ALB                    32,663,238,936    \n",
       "\n",
       "   Population, total  Population CGR 1960-2015  \\\n",
       "0            103,889                     1.19%   \n",
       "1             70,473                     3.06%   \n",
       "2         32,526,562                     2.36%   \n",
       "3         25,021,974                     2.87%   \n",
       "4          2,889,167                     1.07%   \n",
       "\n",
       "   Internet users (per 100 people) Popltn Largest City % of Urban Pop  \\\n",
       "0                             88.7                                NaN   \n",
       "1                             96.9                                NaN   \n",
       "2                              8.3                              53.4%   \n",
       "3                             12.4                              50.0%   \n",
       "4                             63.3                              27.3%   \n",
       "\n",
       "   2014 Life expectancy at birth, total (years)  \\\n",
       "0                                          75.5   \n",
       "1                                           NaN   \n",
       "2                                          60.4   \n",
       "3                                          52.3   \n",
       "4                                          77.8   \n",
       "\n",
       "   Literacy rate, adult female (% of females ages 15 and above)  \\\n",
       "0                                          97.513962              \n",
       "1                                                NaN              \n",
       "2                                          23.873850              \n",
       "3                                          60.744801              \n",
       "4                                          96.769691              \n",
       "\n",
       "   Exports of goods and services (% of GDP)  \n",
       "0                                       NaN  \n",
       "1                                       NaN  \n",
       "2                                  0.073278  \n",
       "3                                  0.373074  \n",
       "4                                  0.271050  "
      ]
     },
     "execution_count": 29,
     "metadata": {},
     "output_type": "execute_result"
    }
   ],
   "source": [
    "import pandas as pd\n",
    "df = pd.read_csv('world_data.csv')\n",
    "df.head()"
   ]
  },
  {
   "cell_type": "code",
   "execution_count": 30,
   "metadata": {},
   "outputs": [
    {
     "data": {
      "text/plain": [
       "Index(['Country Name', 'Region Code', 'Country Code',\n",
       "       'GDP, PPP (current international $)', ' Population, total ',\n",
       "       'Population CGR 1960-2015', 'Internet users (per 100 people)',\n",
       "       'Popltn Largest City % of Urban Pop',\n",
       "       '2014 Life expectancy at birth, total (years)',\n",
       "       'Literacy rate, adult female (% of females ages 15 and above)',\n",
       "       'Exports of goods and services (% of GDP)'],\n",
       "      dtype='object')"
      ]
     },
     "execution_count": 30,
     "metadata": {},
     "output_type": "execute_result"
    }
   ],
   "source": [
    "df.columns"
   ]
  },
  {
   "cell_type": "markdown",
   "metadata": {},
   "source": [
    "Creating a pandas series from a dataframe df"
   ]
  },
  {
   "cell_type": "code",
   "execution_count": 31,
   "metadata": {},
   "outputs": [],
   "source": [
    "# Converting columns to pandas series\n",
    "country_name = pd.Series(df['Country Name'])\n",
    "country_code = pd.Series(df['Country Code'])\n",
    "population = pd.Series(df[' Population, total '])\n",
    "gdp = pd.Series(df['GDP, PPP (current international $)'])\n",
    "internet_users = pd.Series(df['Internet users (per 100 people)'])\n",
    "life_expectancy = pd.Series(df['2014 Life expectancy at birth, total (years)'])\n",
    "literacy_rate = pd.Series(df['Literacy rate, adult female (% of females ages 15 and above)'])\n",
    "exports = pd.Series(df['Exports of goods and services (% of GDP)'])"
   ]
  },
  {
   "cell_type": "code",
   "execution_count": 32,
   "metadata": {},
   "outputs": [
    {
     "data": {
      "text/plain": [
       "0          Aruba\n",
       "1        Andorra\n",
       "2    Afghanistan\n",
       "3         Angola\n",
       "4        Albania\n",
       "Name: Country Name, dtype: object"
      ]
     },
     "execution_count": 32,
     "metadata": {},
     "output_type": "execute_result"
    }
   ],
   "source": [
    "country_name.head()"
   ]
  },
  {
   "cell_type": "code",
   "execution_count": 33,
   "metadata": {},
   "outputs": [
    {
     "data": {
      "text/plain": [
       "0    ABW\n",
       "1    AND\n",
       "2    AFG\n",
       "3    AGO\n",
       "4    ALB\n",
       "Name: Country Code, dtype: object"
      ]
     },
     "execution_count": 33,
     "metadata": {},
     "output_type": "execute_result"
    }
   ],
   "source": [
    "country_code.head()"
   ]
  },
  {
   "cell_type": "code",
   "execution_count": 34,
   "metadata": {},
   "outputs": [
    {
     "data": {
      "text/plain": [
       "0        103,889 \n",
       "1         70,473 \n",
       "2     32,526,562 \n",
       "3     25,021,974 \n",
       "4      2,889,167 \n",
       "Name:  Population, total , dtype: object"
      ]
     },
     "execution_count": 34,
     "metadata": {},
     "output_type": "execute_result"
    }
   ],
   "source": [
    "population.head()"
   ]
  },
  {
   "cell_type": "code",
   "execution_count": 35,
   "metadata": {},
   "outputs": [
    {
     "data": {
      "text/plain": [
       "0                  NaN\n",
       "1                  NaN\n",
       "2      62,912,669,167 \n",
       "3     184,437,662,368 \n",
       "4      32,663,238,936 \n",
       "Name: GDP, PPP (current international $), dtype: object"
      ]
     },
     "execution_count": 35,
     "metadata": {},
     "output_type": "execute_result"
    }
   ],
   "source": [
    "gdp.head()"
   ]
  },
  {
   "cell_type": "code",
   "execution_count": 36,
   "metadata": {},
   "outputs": [
    {
     "data": {
      "text/plain": [
       "0    88.7\n",
       "1    96.9\n",
       "2     8.3\n",
       "3    12.4\n",
       "4    63.3\n",
       "Name: Internet users (per 100 people), dtype: float64"
      ]
     },
     "execution_count": 36,
     "metadata": {},
     "output_type": "execute_result"
    }
   ],
   "source": [
    "internet_users.head()"
   ]
  },
  {
   "cell_type": "code",
   "execution_count": 37,
   "metadata": {},
   "outputs": [
    {
     "data": {
      "text/plain": [
       "0    75.5\n",
       "1     NaN\n",
       "2    60.4\n",
       "3    52.3\n",
       "4    77.8\n",
       "Name: 2014 Life expectancy at birth, total (years), dtype: float64"
      ]
     },
     "execution_count": 37,
     "metadata": {},
     "output_type": "execute_result"
    }
   ],
   "source": [
    "life_expectancy.head()"
   ]
  },
  {
   "cell_type": "code",
   "execution_count": 38,
   "metadata": {},
   "outputs": [
    {
     "data": {
      "text/plain": [
       "0    97.513962\n",
       "1          NaN\n",
       "2    23.873850\n",
       "3    60.744801\n",
       "4    96.769691\n",
       "Name: Literacy rate, adult female (% of females ages 15 and above), dtype: float64"
      ]
     },
     "execution_count": 38,
     "metadata": {},
     "output_type": "execute_result"
    }
   ],
   "source": [
    "literacy_rate.head()"
   ]
  },
  {
   "cell_type": "code",
   "execution_count": 39,
   "metadata": {},
   "outputs": [
    {
     "data": {
      "text/plain": [
       "0         NaN\n",
       "1         NaN\n",
       "2    0.073278\n",
       "3    0.373074\n",
       "4    0.271050\n",
       "Name: Exports of goods and services (% of GDP), dtype: float64"
      ]
     },
     "execution_count": 39,
     "metadata": {},
     "output_type": "execute_result"
    }
   ],
   "source": [
    "exports.head()"
   ]
  },
  {
   "cell_type": "markdown",
   "metadata": {},
   "source": [
    "1. What is the data type of the ``country_name`` series"
   ]
  },
  {
   "cell_type": "markdown",
   "metadata": {},
   "source": [
    "Al ser ``dtype('O')` sabemos que el tipo de datos es **Objeto** "
   ]
  },
  {
   "cell_type": "code",
   "execution_count": 43,
   "metadata": {},
   "outputs": [
    {
     "data": {
      "text/plain": [
       "dtype('O')"
      ]
     },
     "execution_count": 43,
     "metadata": {},
     "output_type": "execute_result"
    }
   ],
   "source": [
    "country_name.dtype"
   ]
  },
  {
   "cell_type": "markdown",
   "metadata": {},
   "source": [
    "2. What is the ``size`` of the gdp series"
   ]
  },
  {
   "cell_type": "code",
   "execution_count": 46,
   "metadata": {},
   "outputs": [
    {
     "data": {
      "text/plain": [
       "(264,)"
      ]
     },
     "execution_count": 46,
     "metadata": {},
     "output_type": "execute_result"
    }
   ],
   "source": [
    "gdp.shape"
   ]
  },
  {
   "cell_type": "markdown",
   "metadata": {},
   "source": [
    "3. What is the data type of the ``internet_users`` series"
   ]
  },
  {
   "cell_type": "code",
   "execution_count": 47,
   "metadata": {},
   "outputs": [
    {
     "data": {
      "text/plain": [
       "dtype('float64')"
      ]
     },
     "execution_count": 47,
     "metadata": {},
     "output_type": "execute_result"
    }
   ],
   "source": [
    "internet_users.dtype"
   ]
  },
  {
   "cell_type": "markdown",
   "metadata": {},
   "source": [
    "4. What is the value of the first element in the ``population`` series"
   ]
  },
  {
   "cell_type": "code",
   "execution_count": 56,
   "metadata": {},
   "outputs": [
    {
     "data": {
      "text/plain": [
       "' 103,889 '"
      ]
     },
     "execution_count": 56,
     "metadata": {},
     "output_type": "execute_result"
    }
   ],
   "source": [
    "population.iloc[0]"
   ]
  },
  {
   "cell_type": "markdown",
   "metadata": {},
   "source": [
    "5. What is the value of the last element in the ``life_expectancy`` series"
   ]
  },
  {
   "cell_type": "code",
   "execution_count": 55,
   "metadata": {},
   "outputs": [
    {
     "data": {
      "text/plain": [
       "57.5"
      ]
     },
     "execution_count": 55,
     "metadata": {},
     "output_type": "execute_result"
    }
   ],
   "source": [
    "life_expectancy.iloc[-1]"
   ]
  },
  {
   "cell_type": "markdown",
   "metadata": {},
   "source": [
    "6. What is the value of the element with index 29 in the ``literacy_rate`` series"
   ]
  },
  {
   "cell_type": "code",
   "execution_count": 57,
   "metadata": {},
   "outputs": [
    {
     "data": {
      "text/plain": [
       "95.4420318603516"
      ]
     },
     "execution_count": 57,
     "metadata": {},
     "output_type": "execute_result"
    }
   ],
   "source": [
    "literacy_rate.iloc[29]"
   ]
  },
  {
   "cell_type": "markdown",
   "metadata": {},
   "source": [
    "7. What is the value of the last element in the ``gdp`` series"
   ]
  },
  {
   "cell_type": "code",
   "execution_count": 58,
   "metadata": {},
   "outputs": [
    {
     "data": {
      "text/plain": [
       "' 27,984,877,195 '"
      ]
     },
     "execution_count": 58,
     "metadata": {},
     "output_type": "execute_result"
    }
   ],
   "source": [
    "gdp.iloc[-1]"
   ]
  },
  {
   "cell_type": "markdown",
   "metadata": {},
   "source": [
    "8. What is the mean of the ``internet_users`` series"
   ]
  },
  {
   "cell_type": "code",
   "execution_count": 59,
   "metadata": {},
   "outputs": [
    {
     "data": {
      "text/plain": [
       "47.557258064516134"
      ]
     },
     "execution_count": 59,
     "metadata": {},
     "output_type": "execute_result"
    }
   ],
   "source": [
    "internet_users.mean()"
   ]
  },
  {
   "cell_type": "markdown",
   "metadata": {},
   "source": [
    "9. What is the standard deviation of the ``internet_users`` series"
   ]
  },
  {
   "cell_type": "code",
   "execution_count": 60,
   "metadata": {},
   "outputs": [
    {
     "data": {
      "text/plain": [
       "27.690496399160466"
      ]
     },
     "execution_count": 60,
     "metadata": {},
     "output_type": "execute_result"
    }
   ],
   "source": [
    "internet_users.std( )"
   ]
  },
  {
   "cell_type": "markdown",
   "metadata": {},
   "source": [
    "10 What is the median of the ``exports`` series"
   ]
  },
  {
   "cell_type": "code",
   "execution_count": 61,
   "metadata": {},
   "outputs": [
    {
     "data": {
      "text/plain": [
       "0.30183071080490154"
      ]
     },
     "execution_count": 61,
     "metadata": {},
     "output_type": "execute_result"
    }
   ],
   "source": [
    "exports.median()"
   ]
  },
  {
   "cell_type": "markdown",
   "metadata": {},
   "source": [
    "11. What is the minimum value in the ``life_expectancy`` series"
   ]
  },
  {
   "cell_type": "code",
   "execution_count": 62,
   "metadata": {},
   "outputs": [
    {
     "data": {
      "text/plain": [
       "48.9"
      ]
     },
     "execution_count": 62,
     "metadata": {},
     "output_type": "execute_result"
    }
   ],
   "source": [
    "life_expectancy.min()"
   ]
  },
  {
   "cell_type": "markdown",
   "metadata": {},
   "source": [
    "12. What is the ``average`` literacy rate of all countries"
   ]
  },
  {
   "cell_type": "code",
   "execution_count": 63,
   "metadata": {},
   "outputs": [
    {
     "data": {
      "text/plain": [
       "80.91936549162253"
      ]
     },
     "execution_count": 63,
     "metadata": {},
     "output_type": "execute_result"
    }
   ],
   "source": [
    "literacy_rate.mean()"
   ]
  },
  {
   "cell_type": "markdown",
   "metadata": {},
   "source": [
    "13. Sort the series in ascending order"
   ]
  },
  {
   "cell_type": "code",
   "execution_count": 64,
   "metadata": {},
   "outputs": [],
   "source": [
    "country_name_sorted = country_name.sort_values(ascending=True)"
   ]
  },
  {
   "cell_type": "markdown",
   "metadata": {},
   "source": [
    "14. Sort multiple series at once\n",
    "\n",
    "    Both the series ``country_name`` and ``literacy_rate`` have the same number of elements and the elements are in the same order with respect to index number. Arrange the country name as per ascending order of literacy rate. Assign the result of country name to new variable called ``country_name_sorted_by_literacy_rate`` and the result of literacy rate to new variable called ``literacy_rate_sorted``.\n",
    "\n",
    "    Example: If the country name is ``['India', 'China', 'Japan']`` and literacy rate is ``[80, 90, 70]``, then the result should be ``['Japan', 'India', 'China']`` and ``[70, 80, 90]``."
   ]
  },
  {
   "cell_type": "code",
   "execution_count": 65,
   "metadata": {},
   "outputs": [],
   "source": [
    "literacy_rate_sorted = literacy_rate.sort_values(ascending=True)\n",
    "country_name_sorted_by_literacy_rate = country_name.loc[literacy_rate_sorted.index]"
   ]
  },
  {
   "cell_type": "markdown",
   "metadata": {},
   "source": [
    "# Intro to Pandas Series"
   ]
  },
  {
   "cell_type": "markdown",
   "metadata": {},
   "source": [
    "## Intro"
   ]
  },
  {
   "cell_type": "markdown",
   "metadata": {},
   "source": [
    "That is a lot to unpack. Let's better use an example. Take a look at the following \"table\" that contains a list of Top Companies (in technology) and their revenue (in millions of dollars):\n",
    "\n",
    "\n",
    "Preview\n",
    "A pandas Series will help us represent that data. Now it's time to turn on the lab and head to the Notebook, where we'll see how Series work.\n",
    "\n",
    "The syntax to create a series is:\n",
    "\n",
    "```python\n",
    "import pandas as pd\n",
    "pd.Series(data, index, name=\"A name\")\n",
    "```\n",
    "\n",
    "``Series``s main components are:\n",
    "\n",
    "- **data**: this is the data that we want to represent, and obviously, we could say the \"most important\" component of the series. In our example, the data is the revenue of the companies.\n",
    "\n",
    "- **index**: the index indicates the \"labels\" of the data we're storing. We'll use the index to \"reference\" the data later. Indices are not required; pandas will assign a default sequential index if we don't provide one.\n",
    "\n",
    "- **name**: a series can contain a \"name\"; this will make more sense when we start using DataFrames. For now, just think about it as extra \"documentation\"; more clarity when working with your code. *Names are optional*.\n",
    "\n",
    "Finally, it's important to note that Series are \"strongly typed\": this means they have an associated (**an enforced object type**). It's not like in Python dictionaries, where we can mix types. In this case, you'll see that the series is of type int64 (it says dtype: int64 after the name, at the bottom of the representation). Don't worry too much about it for now, it's basically a Series containing \"integers\"."
   ]
  },
  {
   "cell_type": "markdown",
   "metadata": {},
   "source": [
    "We'll represent them using a Series in the following way:"
   ]
  },
  {
   "cell_type": "code",
   "execution_count": 27,
   "metadata": {},
   "outputs": [
    {
     "data": {
      "text/plain": [
       "Apple                274515\n",
       "Samsung              200734\n",
       "Alphabet             182527\n",
       "Foxconn              181945\n",
       "Microsoft            143015\n",
       "Huawei               129184\n",
       "Dell Technologies     92224\n",
       "Meta                  85965\n",
       "Sony                  84893\n",
       "Hitachi               82345\n",
       "Intel                 77867\n",
       "IBM                   73620\n",
       "Tencent               69864\n",
       "Panasonic             63191\n",
       "Name: Top Technology Companies by Revenue, dtype: int64"
      ]
     },
     "execution_count": 27,
     "metadata": {},
     "output_type": "execute_result"
    }
   ],
   "source": [
    "companies = [\n",
    "    'Apple', 'Samsung', 'Alphabet', 'Foxconn',\n",
    "    'Microsoft', 'Huawei', 'Dell Technologies',\n",
    "    'Meta', 'Sony', 'Hitachi', 'Intel',\n",
    "    'IBM', 'Tencent', 'Panasonic'\n",
    "]\n",
    "\n",
    "s = pd.Series([\n",
    "    274515, 200734, 182527, 181945, 143015,\n",
    "    129184, 92224, 85965, 84893, 82345,\n",
    "    77867, 73620, 69864, 63191],\n",
    "    index=companies,\n",
    "    name=\"Top Technology Companies by Revenue\")\n",
    "\n",
    "s"
   ]
  },
  {
   "cell_type": "markdown",
   "metadata": {},
   "source": [
    "1. **Check your knowledge: create a series**\n",
    "\n",
    "    Create a series under the variable ``my_series`` that contains three elements ``9``, ``11`` and -``5``. The index of the series should be ``['a', 'b', 'c']`` and the name should be ``\"My First Series\"``.\n"
   ]
  },
  {
   "cell_type": "code",
   "execution_count": 2,
   "metadata": {},
   "outputs": [],
   "source": [
    "import pandas as pd"
   ]
  },
  {
   "cell_type": "code",
   "execution_count": 3,
   "metadata": {},
   "outputs": [],
   "source": [
    "elements = [9,11,-5]\n",
    "index = ['a', 'b', 'c']\n",
    "name = 'My First Series'\n",
    "my_series = pd.Series(elements, index=index, name= name)"
   ]
  },
  {
   "cell_type": "code",
   "execution_count": 4,
   "metadata": {},
   "outputs": [
    {
     "data": {
      "text/plain": [
       "a     9\n",
       "b    11\n",
       "c    -5\n",
       "Name: My First Series, dtype: int64"
      ]
     },
     "execution_count": 4,
     "metadata": {},
     "output_type": "execute_result"
    }
   ],
   "source": [
    "my_series"
   ]
  },
  {
   "cell_type": "markdown",
   "metadata": {},
   "source": [
    "## Basic selection and location"
   ]
  },
  {
   "cell_type": "markdown",
   "metadata": {},
   "source": [
    "Series are very flexible about querying/selecting data. You can get data by the index (get the revenue of Apple), by position (get the 5th element) and also by multiple of those."
   ]
  },
  {
   "cell_type": "markdown",
   "metadata": {},
   "source": [
    "### Selecting by index"
   ]
  },
  {
   "cell_type": "markdown",
   "metadata": {},
   "source": [
    "We use the Series' index to reference and locate the data associated with a given label.\n",
    "\n",
    "For example, to get the revenue of *Apple*, we can do: ``s[\"Apple\"]``. That works, as you can see in the notebook. But you'll also see that we use a ``.loc`` attribute, making it: ``s.loc[\"Apple\"]``. This is the preferred method to reference values. It might make little sense for now, but it will once we start dealing with DataFrames."
   ]
  },
  {
   "cell_type": "code",
   "execution_count": 6,
   "metadata": {},
   "outputs": [
    {
     "data": {
      "text/plain": [
       "274515"
      ]
     },
     "execution_count": 6,
     "metadata": {},
     "output_type": "execute_result"
    }
   ],
   "source": [
    "s['Apple']"
   ]
  },
  {
   "cell_type": "markdown",
   "metadata": {},
   "source": [
    "``.loc`` is the preferred way:"
   ]
  },
  {
   "cell_type": "code",
   "execution_count": 7,
   "metadata": {},
   "outputs": [
    {
     "data": {
      "text/plain": [
       "274515"
      ]
     },
     "execution_count": 7,
     "metadata": {},
     "output_type": "execute_result"
    }
   ],
   "source": [
    "s.loc['Apple']"
   ]
  },
  {
   "cell_type": "markdown",
   "metadata": {},
   "source": [
    "### Selecting by position"
   ]
  },
  {
   "cell_type": "markdown",
   "metadata": {},
   "source": [
    "We can also select elements by their \"order\". After all, as we mentioned in the previous section, **Series are ordered data structures**. So we can select an element by its position: for example, the 'first\", \"last\", \"third\", or \"253rd\" element. To select an element by its position, we use the ``.iloc`` attribute. The beauty of ``.iloc`` is that, as selection in Python lists, it accepts negative numbers to reference elements from the end of the series. That means that ``.iloc[-1]`` returns the **LAST** element in the series."
   ]
  },
  {
   "cell_type": "code",
   "execution_count": 8,
   "metadata": {},
   "outputs": [
    {
     "data": {
      "text/plain": [
       "274515"
      ]
     },
     "execution_count": 8,
     "metadata": {},
     "output_type": "execute_result"
    }
   ],
   "source": [
    "s.iloc[0]"
   ]
  },
  {
   "cell_type": "code",
   "execution_count": 9,
   "metadata": {},
   "outputs": [
    {
     "data": {
      "text/plain": [
       "63191"
      ]
     },
     "execution_count": 9,
     "metadata": {},
     "output_type": "execute_result"
    }
   ],
   "source": [
    "s.iloc[-1]"
   ]
  },
  {
   "cell_type": "markdown",
   "metadata": {},
   "source": [
    "### Errors in selection"
   ]
  },
  {
   "cell_type": "markdown",
   "metadata": {},
   "source": [
    "\n",
    "As expected, if you try to retrieve an element that doesn't exist, it'll cause an error. This works pretty similarly as in Python dictionaries and lists. Selecting by index (.loc) fails with a ``KeyError`` (like dictionaries) and selecting by position fails with an ``IndexError`` as with lists.\n",
    "\n",
    "Most of the time, you can prevent these errors using the membership operator ``in``, which checks if a given element is part of the index."
   ]
  },
  {
   "cell_type": "code",
   "execution_count": 10,
   "metadata": {},
   "outputs": [
    {
     "ename": "KeyError",
     "evalue": "'Non existent company'",
     "output_type": "error",
     "traceback": [
      "\u001b[1;31m---------------------------------------------------------------------------\u001b[0m",
      "\u001b[1;31mKeyError\u001b[0m                                  Traceback (most recent call last)",
      "File \u001b[1;32mc:\\Users\\DVadeus\\anaconda3\\Lib\\site-packages\\pandas\\core\\indexes\\base.py:3791\u001b[0m, in \u001b[0;36mIndex.get_loc\u001b[1;34m(self, key)\u001b[0m\n\u001b[0;32m   3790\u001b[0m \u001b[38;5;28;01mtry\u001b[39;00m:\n\u001b[1;32m-> 3791\u001b[0m     \u001b[38;5;28;01mreturn\u001b[39;00m \u001b[38;5;28mself\u001b[39m\u001b[38;5;241m.\u001b[39m_engine\u001b[38;5;241m.\u001b[39mget_loc(casted_key)\n\u001b[0;32m   3792\u001b[0m \u001b[38;5;28;01mexcept\u001b[39;00m \u001b[38;5;167;01mKeyError\u001b[39;00m \u001b[38;5;28;01mas\u001b[39;00m err:\n",
      "File \u001b[1;32mindex.pyx:152\u001b[0m, in \u001b[0;36mpandas._libs.index.IndexEngine.get_loc\u001b[1;34m()\u001b[0m\n",
      "File \u001b[1;32mindex.pyx:181\u001b[0m, in \u001b[0;36mpandas._libs.index.IndexEngine.get_loc\u001b[1;34m()\u001b[0m\n",
      "File \u001b[1;32mpandas\\_libs\\hashtable_class_helper.pxi:7080\u001b[0m, in \u001b[0;36mpandas._libs.hashtable.PyObjectHashTable.get_item\u001b[1;34m()\u001b[0m\n",
      "File \u001b[1;32mpandas\\_libs\\hashtable_class_helper.pxi:7088\u001b[0m, in \u001b[0;36mpandas._libs.hashtable.PyObjectHashTable.get_item\u001b[1;34m()\u001b[0m\n",
      "\u001b[1;31mKeyError\u001b[0m: 'Non existent company'",
      "\nThe above exception was the direct cause of the following exception:\n",
      "\u001b[1;31mKeyError\u001b[0m                                  Traceback (most recent call last)",
      "Cell \u001b[1;32mIn[10], line 2\u001b[0m\n\u001b[0;32m      1\u001b[0m \u001b[38;5;66;03m# this code will fail\u001b[39;00m\n\u001b[1;32m----> 2\u001b[0m s\u001b[38;5;241m.\u001b[39mloc[\u001b[38;5;124m\"\u001b[39m\u001b[38;5;124mNon existent company\u001b[39m\u001b[38;5;124m\"\u001b[39m]\n",
      "File \u001b[1;32mc:\\Users\\DVadeus\\anaconda3\\Lib\\site-packages\\pandas\\core\\indexing.py:1153\u001b[0m, in \u001b[0;36m_LocationIndexer.__getitem__\u001b[1;34m(self, key)\u001b[0m\n\u001b[0;32m   1150\u001b[0m axis \u001b[38;5;241m=\u001b[39m \u001b[38;5;28mself\u001b[39m\u001b[38;5;241m.\u001b[39maxis \u001b[38;5;129;01mor\u001b[39;00m \u001b[38;5;241m0\u001b[39m\n\u001b[0;32m   1152\u001b[0m maybe_callable \u001b[38;5;241m=\u001b[39m com\u001b[38;5;241m.\u001b[39mapply_if_callable(key, \u001b[38;5;28mself\u001b[39m\u001b[38;5;241m.\u001b[39mobj)\n\u001b[1;32m-> 1153\u001b[0m \u001b[38;5;28;01mreturn\u001b[39;00m \u001b[38;5;28mself\u001b[39m\u001b[38;5;241m.\u001b[39m_getitem_axis(maybe_callable, axis\u001b[38;5;241m=\u001b[39maxis)\n",
      "File \u001b[1;32mc:\\Users\\DVadeus\\anaconda3\\Lib\\site-packages\\pandas\\core\\indexing.py:1393\u001b[0m, in \u001b[0;36m_LocIndexer._getitem_axis\u001b[1;34m(self, key, axis)\u001b[0m\n\u001b[0;32m   1391\u001b[0m \u001b[38;5;66;03m# fall thru to straight lookup\u001b[39;00m\n\u001b[0;32m   1392\u001b[0m \u001b[38;5;28mself\u001b[39m\u001b[38;5;241m.\u001b[39m_validate_key(key, axis)\n\u001b[1;32m-> 1393\u001b[0m \u001b[38;5;28;01mreturn\u001b[39;00m \u001b[38;5;28mself\u001b[39m\u001b[38;5;241m.\u001b[39m_get_label(key, axis\u001b[38;5;241m=\u001b[39maxis)\n",
      "File \u001b[1;32mc:\\Users\\DVadeus\\anaconda3\\Lib\\site-packages\\pandas\\core\\indexing.py:1343\u001b[0m, in \u001b[0;36m_LocIndexer._get_label\u001b[1;34m(self, label, axis)\u001b[0m\n\u001b[0;32m   1341\u001b[0m \u001b[38;5;28;01mdef\u001b[39;00m \u001b[38;5;21m_get_label\u001b[39m(\u001b[38;5;28mself\u001b[39m, label, axis: AxisInt):\n\u001b[0;32m   1342\u001b[0m     \u001b[38;5;66;03m# GH#5567 this will fail if the label is not present in the axis.\u001b[39;00m\n\u001b[1;32m-> 1343\u001b[0m     \u001b[38;5;28;01mreturn\u001b[39;00m \u001b[38;5;28mself\u001b[39m\u001b[38;5;241m.\u001b[39mobj\u001b[38;5;241m.\u001b[39mxs(label, axis\u001b[38;5;241m=\u001b[39maxis)\n",
      "File \u001b[1;32mc:\\Users\\DVadeus\\anaconda3\\Lib\\site-packages\\pandas\\core\\generic.py:4236\u001b[0m, in \u001b[0;36mNDFrame.xs\u001b[1;34m(self, key, axis, level, drop_level)\u001b[0m\n\u001b[0;32m   4234\u001b[0m             new_index \u001b[38;5;241m=\u001b[39m index[loc]\n\u001b[0;32m   4235\u001b[0m \u001b[38;5;28;01melse\u001b[39;00m:\n\u001b[1;32m-> 4236\u001b[0m     loc \u001b[38;5;241m=\u001b[39m index\u001b[38;5;241m.\u001b[39mget_loc(key)\n\u001b[0;32m   4238\u001b[0m     \u001b[38;5;28;01mif\u001b[39;00m \u001b[38;5;28misinstance\u001b[39m(loc, np\u001b[38;5;241m.\u001b[39mndarray):\n\u001b[0;32m   4239\u001b[0m         \u001b[38;5;28;01mif\u001b[39;00m loc\u001b[38;5;241m.\u001b[39mdtype \u001b[38;5;241m==\u001b[39m np\u001b[38;5;241m.\u001b[39mbool_:\n",
      "File \u001b[1;32mc:\\Users\\DVadeus\\anaconda3\\Lib\\site-packages\\pandas\\core\\indexes\\base.py:3798\u001b[0m, in \u001b[0;36mIndex.get_loc\u001b[1;34m(self, key)\u001b[0m\n\u001b[0;32m   3793\u001b[0m     \u001b[38;5;28;01mif\u001b[39;00m \u001b[38;5;28misinstance\u001b[39m(casted_key, \u001b[38;5;28mslice\u001b[39m) \u001b[38;5;129;01mor\u001b[39;00m (\n\u001b[0;32m   3794\u001b[0m         \u001b[38;5;28misinstance\u001b[39m(casted_key, abc\u001b[38;5;241m.\u001b[39mIterable)\n\u001b[0;32m   3795\u001b[0m         \u001b[38;5;129;01mand\u001b[39;00m \u001b[38;5;28many\u001b[39m(\u001b[38;5;28misinstance\u001b[39m(x, \u001b[38;5;28mslice\u001b[39m) \u001b[38;5;28;01mfor\u001b[39;00m x \u001b[38;5;129;01min\u001b[39;00m casted_key)\n\u001b[0;32m   3796\u001b[0m     ):\n\u001b[0;32m   3797\u001b[0m         \u001b[38;5;28;01mraise\u001b[39;00m InvalidIndexError(key)\n\u001b[1;32m-> 3798\u001b[0m     \u001b[38;5;28;01mraise\u001b[39;00m \u001b[38;5;167;01mKeyError\u001b[39;00m(key) \u001b[38;5;28;01mfrom\u001b[39;00m \u001b[38;5;21;01merr\u001b[39;00m\n\u001b[0;32m   3799\u001b[0m \u001b[38;5;28;01mexcept\u001b[39;00m \u001b[38;5;167;01mTypeError\u001b[39;00m:\n\u001b[0;32m   3800\u001b[0m     \u001b[38;5;66;03m# If we have a listlike key, _check_indexing_error will raise\u001b[39;00m\n\u001b[0;32m   3801\u001b[0m     \u001b[38;5;66;03m#  InvalidIndexError. Otherwise we fall through and re-raise\u001b[39;00m\n\u001b[0;32m   3802\u001b[0m     \u001b[38;5;66;03m#  the TypeError.\u001b[39;00m\n\u001b[0;32m   3803\u001b[0m     \u001b[38;5;28mself\u001b[39m\u001b[38;5;241m.\u001b[39m_check_indexing_error(key)\n",
      "\u001b[1;31mKeyError\u001b[0m: 'Non existent company'"
     ]
    }
   ],
   "source": [
    "# this code will fail\n",
    "s.loc[\"Non existent company\"]"
   ]
  },
  {
   "cell_type": "code",
   "execution_count": 11,
   "metadata": {},
   "outputs": [
    {
     "ename": "IndexError",
     "evalue": "single positional indexer is out-of-bounds",
     "output_type": "error",
     "traceback": [
      "\u001b[1;31m---------------------------------------------------------------------------\u001b[0m",
      "\u001b[1;31mIndexError\u001b[0m                                Traceback (most recent call last)",
      "Cell \u001b[1;32mIn[11], line 3\u001b[0m\n\u001b[0;32m      1\u001b[0m \u001b[38;5;66;03m# This code also fails, 132 it's out of boundaries\u001b[39;00m\n\u001b[0;32m      2\u001b[0m \u001b[38;5;66;03m# (there are not so many elements in the Series)\u001b[39;00m\n\u001b[1;32m----> 3\u001b[0m s\u001b[38;5;241m.\u001b[39miloc[\u001b[38;5;241m132\u001b[39m]\n",
      "File \u001b[1;32mc:\\Users\\DVadeus\\anaconda3\\Lib\\site-packages\\pandas\\core\\indexing.py:1153\u001b[0m, in \u001b[0;36m_LocationIndexer.__getitem__\u001b[1;34m(self, key)\u001b[0m\n\u001b[0;32m   1150\u001b[0m axis \u001b[38;5;241m=\u001b[39m \u001b[38;5;28mself\u001b[39m\u001b[38;5;241m.\u001b[39maxis \u001b[38;5;129;01mor\u001b[39;00m \u001b[38;5;241m0\u001b[39m\n\u001b[0;32m   1152\u001b[0m maybe_callable \u001b[38;5;241m=\u001b[39m com\u001b[38;5;241m.\u001b[39mapply_if_callable(key, \u001b[38;5;28mself\u001b[39m\u001b[38;5;241m.\u001b[39mobj)\n\u001b[1;32m-> 1153\u001b[0m \u001b[38;5;28;01mreturn\u001b[39;00m \u001b[38;5;28mself\u001b[39m\u001b[38;5;241m.\u001b[39m_getitem_axis(maybe_callable, axis\u001b[38;5;241m=\u001b[39maxis)\n",
      "File \u001b[1;32mc:\\Users\\DVadeus\\anaconda3\\Lib\\site-packages\\pandas\\core\\indexing.py:1714\u001b[0m, in \u001b[0;36m_iLocIndexer._getitem_axis\u001b[1;34m(self, key, axis)\u001b[0m\n\u001b[0;32m   1711\u001b[0m     \u001b[38;5;28;01mraise\u001b[39;00m \u001b[38;5;167;01mTypeError\u001b[39;00m(\u001b[38;5;124m\"\u001b[39m\u001b[38;5;124mCannot index by location index with a non-integer key\u001b[39m\u001b[38;5;124m\"\u001b[39m)\n\u001b[0;32m   1713\u001b[0m \u001b[38;5;66;03m# validate the location\u001b[39;00m\n\u001b[1;32m-> 1714\u001b[0m \u001b[38;5;28mself\u001b[39m\u001b[38;5;241m.\u001b[39m_validate_integer(key, axis)\n\u001b[0;32m   1716\u001b[0m \u001b[38;5;28;01mreturn\u001b[39;00m \u001b[38;5;28mself\u001b[39m\u001b[38;5;241m.\u001b[39mobj\u001b[38;5;241m.\u001b[39m_ixs(key, axis\u001b[38;5;241m=\u001b[39maxis)\n",
      "File \u001b[1;32mc:\\Users\\DVadeus\\anaconda3\\Lib\\site-packages\\pandas\\core\\indexing.py:1647\u001b[0m, in \u001b[0;36m_iLocIndexer._validate_integer\u001b[1;34m(self, key, axis)\u001b[0m\n\u001b[0;32m   1645\u001b[0m len_axis \u001b[38;5;241m=\u001b[39m \u001b[38;5;28mlen\u001b[39m(\u001b[38;5;28mself\u001b[39m\u001b[38;5;241m.\u001b[39mobj\u001b[38;5;241m.\u001b[39m_get_axis(axis))\n\u001b[0;32m   1646\u001b[0m \u001b[38;5;28;01mif\u001b[39;00m key \u001b[38;5;241m>\u001b[39m\u001b[38;5;241m=\u001b[39m len_axis \u001b[38;5;129;01mor\u001b[39;00m key \u001b[38;5;241m<\u001b[39m \u001b[38;5;241m-\u001b[39mlen_axis:\n\u001b[1;32m-> 1647\u001b[0m     \u001b[38;5;28;01mraise\u001b[39;00m \u001b[38;5;167;01mIndexError\u001b[39;00m(\u001b[38;5;124m\"\u001b[39m\u001b[38;5;124msingle positional indexer is out-of-bounds\u001b[39m\u001b[38;5;124m\"\u001b[39m)\n",
      "\u001b[1;31mIndexError\u001b[0m: single positional indexer is out-of-bounds"
     ]
    }
   ],
   "source": [
    "# This code also fails, 132 it's out of boundaries\n",
    "# (there are not so many elements in the Series)\n",
    "s.iloc[132]"
   ]
  },
  {
   "cell_type": "markdown",
   "metadata": {},
   "source": [
    "We could prevent these errors using the membership check ``in``:"
   ]
  },
  {
   "cell_type": "code",
   "execution_count": 12,
   "metadata": {},
   "outputs": [
    {
     "data": {
      "text/plain": [
       "True"
      ]
     },
     "execution_count": 12,
     "metadata": {},
     "output_type": "execute_result"
    }
   ],
   "source": [
    "'Apple' in s"
   ]
  },
  {
   "cell_type": "code",
   "execution_count": 13,
   "metadata": {},
   "outputs": [
    {
     "data": {
      "text/plain": [
       "False"
      ]
     },
     "execution_count": 13,
     "metadata": {},
     "output_type": "execute_result"
    }
   ],
   "source": [
    "'Snapchat' in s"
   ]
  },
  {
   "cell_type": "markdown",
   "metadata": {},
   "source": [
    "### Multiple selection"
   ]
  },
  {
   "cell_type": "markdown",
   "metadata": {},
   "source": [
    "So far, Series look like glorified dictionaries. But this single feature will set them apart.\n",
    "\n",
    "> **With both, index selection and positional selection, you can pass multiple elements to be returned. This is extremely convenient.**\n",
    "\n",
    "Pay attention to the value returned: another Series, a \"sub-series,\" we could say, only with the values requested. In Pandas you'll see this pattern everywhere: Series selection returns other series, DataFrames selection (in future lessons) returns other DataFrames or other Series, etc.\n",
    "\n",
    "Let's see it in action. To select several elements (by index/label), we just pass a list of the labels:\n",
    "\n",
    "```py\n",
    "s.loc[[\"Apple\", \"Intel\", \"Sony\"]]\n",
    "```\n",
    "\n",
    "To select multiple values by position, we also pass a list with the positions:\n",
    "\n",
    "```py\n",
    "s.iloc[[0, 5, -1]]\n",
    "```"
   ]
  },
  {
   "cell_type": "code",
   "execution_count": 14,
   "metadata": {},
   "outputs": [
    {
     "data": {
      "text/plain": [
       "Apple    274515\n",
       "Intel     77867\n",
       "Sony      84893\n",
       "Name: Top Technology Companies by Revenue, dtype: int64"
      ]
     },
     "execution_count": 14,
     "metadata": {},
     "output_type": "execute_result"
    }
   ],
   "source": [
    "s.loc[['Apple', 'Intel', 'Sony']]"
   ]
  },
  {
   "cell_type": "code",
   "execution_count": 15,
   "metadata": {},
   "outputs": [
    {
     "data": {
      "text/plain": [
       "Apple        274515\n",
       "Huawei       129184\n",
       "Panasonic     63191\n",
       "Name: Top Technology Companies by Revenue, dtype: int64"
      ]
     },
     "execution_count": 15,
     "metadata": {},
     "output_type": "execute_result"
    }
   ],
   "source": [
    "s.iloc[[0, 5, -1]]"
   ]
  },
  {
   "cell_type": "markdown",
   "metadata": {},
   "source": [
    "## Activities"
   ]
  },
  {
   "cell_type": "markdown",
   "metadata": {},
   "source": [
    "2. **Check your knowledge: location by index**\n",
    "\n",
    "    Select the revenue of ``Intel`` and store it in a variable named ``intel_revenue``:"
   ]
  },
  {
   "cell_type": "code",
   "execution_count": 19,
   "metadata": {},
   "outputs": [],
   "source": [
    "intel_revenue = s.loc['Intel']"
   ]
  },
  {
   "cell_type": "markdown",
   "metadata": {},
   "source": [
    "3. **Check your knowledge: location by position**\n",
    "\n",
    "    Select the revenue of the \"second to last\" element in our series ``s`` and store it in a variable named ``second_to_last``:"
   ]
  },
  {
   "cell_type": "code",
   "execution_count": 20,
   "metadata": {},
   "outputs": [],
   "source": [
    "second_to_last = s.iloc[-2]"
   ]
  },
  {
   "cell_type": "markdown",
   "metadata": {},
   "source": [
    "4. **Check your knowledge: multiple selection**\n",
    "\n",
    "    Use multiple label selection to retrieve the revenues of the companies:\n",
    "\n",
    "    - Samsung\n",
    "    - Dell Technologies\n",
    "    - Panasonic\n",
    "    - Microsoft"
   ]
  },
  {
   "cell_type": "code",
   "execution_count": 22,
   "metadata": {},
   "outputs": [
    {
     "data": {
      "text/plain": [
       "Samsung              200734\n",
       "Dell Technologies     92224\n",
       "Panasonic             63191\n",
       "Microsoft            143015\n",
       "Name: Top Technology Companies by Revenue, dtype: int64"
      ]
     },
     "execution_count": 22,
     "metadata": {},
     "output_type": "execute_result"
    }
   ],
   "source": [
    "sub_series = s.loc[[\"Samsung\", 'Dell Technologies', \"Panasonic\", 'Microsoft']]\n",
    "sub_series"
   ]
  },
  {
   "cell_type": "markdown",
   "metadata": {},
   "source": [
    "## Series Attributes and Methods"
   ]
  },
  {
   "cell_type": "markdown",
   "metadata": {},
   "source": [
    "Series contain a lot of useful attributes and methods to interact with them. Probably the two most common ones you'll see all the time are ``.head()`` and ``.tail()``. This just returns 5 elements either from the beginning of the series (``.head()``) or from the end of it (``.tail()``). This is useful when you're working with real data (possibly MILLIONS of values). You can also pass a number of elements to return: ``.head(3)`` and ``.tail(2)``."
   ]
  },
  {
   "cell_type": "code",
   "execution_count": 23,
   "metadata": {},
   "outputs": [
    {
     "data": {
      "text/plain": [
       "Apple        274515\n",
       "Samsung      200734\n",
       "Alphabet     182527\n",
       "Foxconn      181945\n",
       "Microsoft    143015\n",
       "Name: Top Technology Companies by Revenue, dtype: int64"
      ]
     },
     "execution_count": 23,
     "metadata": {},
     "output_type": "execute_result"
    }
   ],
   "source": [
    "s.head()"
   ]
  },
  {
   "cell_type": "code",
   "execution_count": 24,
   "metadata": {},
   "outputs": [
    {
     "data": {
      "text/plain": [
       "Hitachi      82345\n",
       "Intel        77867\n",
       "IBM          73620\n",
       "Tencent      69864\n",
       "Panasonic    63191\n",
       "Name: Top Technology Companies by Revenue, dtype: int64"
      ]
     },
     "execution_count": 24,
     "metadata": {},
     "output_type": "execute_result"
    }
   ],
   "source": [
    "s.tail()"
   ]
  },
  {
   "cell_type": "markdown",
   "metadata": {},
   "source": [
    "### Main attributes"
   ]
  },
  {
   "cell_type": "markdown",
   "metadata": {},
   "source": [
    "Once a series is constructed (somehow), we can access all the attributes separately. Namely:\n",
    "\n",
    "- The data of the series: using the ``.values`` attribute\n",
    "- The index: using ``.index``\n",
    "- The name: using ``.name``\n",
    "- The type assigned: using ``.dtype``\n",
    "- The number of elements: using ``.size``"
   ]
  },
  {
   "cell_type": "code",
   "execution_count": 25,
   "metadata": {},
   "outputs": [
    {
     "data": {
      "text/plain": [
       "array([274515, 200734, 182527, 181945, 143015, 129184,  92224,  85965,\n",
       "        84893,  82345,  77867,  73620,  69864,  63191], dtype=int64)"
      ]
     },
     "execution_count": 25,
     "metadata": {},
     "output_type": "execute_result"
    }
   ],
   "source": [
    "s.values"
   ]
  },
  {
   "cell_type": "code",
   "execution_count": 26,
   "metadata": {},
   "outputs": [
    {
     "data": {
      "text/plain": [
       "Index(['Apple', 'Samsung', 'Alphabet', 'Foxconn', 'Microsoft', 'Huawei',\n",
       "       'Dell Technologies', 'Meta', 'Sony', 'Hitachi', 'Intel', 'IBM',\n",
       "       'Tencent', 'Panasonic'],\n",
       "      dtype='object')"
      ]
     },
     "execution_count": 26,
     "metadata": {},
     "output_type": "execute_result"
    }
   ],
   "source": [
    "s.index"
   ]
  },
  {
   "cell_type": "code",
   "execution_count": 27,
   "metadata": {},
   "outputs": [
    {
     "data": {
      "text/plain": [
       "'Top Technology Companies by Revenue'"
      ]
     },
     "execution_count": 27,
     "metadata": {},
     "output_type": "execute_result"
    }
   ],
   "source": [
    "s.name"
   ]
  },
  {
   "cell_type": "code",
   "execution_count": 28,
   "metadata": {},
   "outputs": [
    {
     "data": {
      "text/plain": [
       "dtype('int64')"
      ]
     },
     "execution_count": 28,
     "metadata": {},
     "output_type": "execute_result"
    }
   ],
   "source": [
    "s.dtype"
   ]
  },
  {
   "cell_type": "code",
   "execution_count": 29,
   "metadata": {},
   "outputs": [
    {
     "data": {
      "text/plain": [
       "14"
      ]
     },
     "execution_count": 29,
     "metadata": {},
     "output_type": "execute_result"
    }
   ],
   "source": [
    "s.size"
   ]
  },
  {
   "cell_type": "markdown",
   "metadata": {},
   "source": [
    "``len`` also works"
   ]
  },
  {
   "cell_type": "code",
   "execution_count": 30,
   "metadata": {},
   "outputs": [
    {
     "data": {
      "text/plain": [
       "14"
      ]
     },
     "execution_count": 30,
     "metadata": {},
     "output_type": "execute_result"
    }
   ],
   "source": [
    "len(s)"
   ]
  },
  {
   "cell_type": "markdown",
   "metadata": {},
   "source": [
    "### Statistical methods"
   ]
  },
  {
   "cell_type": "markdown",
   "metadata": {},
   "source": [
    "But that's not all about attributes and Series. As you might already know, we use Pandas for data processing. And a significant component of data processing is understanding its statistical implications.\n",
    "\n",
    "The ``.describe()`` method gives you quick summary statistics of your series.\n",
    "\n",
    "There are also individual methods for each of the values returned by ``.describe()``: ``.max()``, ``.min()``, ``.mean()``, ``.median()``, etc.\n",
    "\n",
    "There's also a ``quantile()`` method to check for specific quantiles (or percentiles). For example, to get the 75th percentile, you can use: ``s.quantile(.75)``."
   ]
  },
  {
   "cell_type": "markdown",
   "metadata": {},
   "source": [
    "## Activities"
   ]
  },
  {
   "cell_type": "code",
   "execution_count": 31,
   "metadata": {},
   "outputs": [
    {
     "data": {
      "text/plain": [
       "Meta                  85965\n",
       "IBM                   73620\n",
       "Microsoft            143015\n",
       "Dell Technologies     92224\n",
       "Apple                274515\n",
       "Intel                 77867\n",
       "Alphabet             182527\n",
       "Name: Top Technology Companies by Revenue, dtype: int64"
      ]
     },
     "execution_count": 31,
     "metadata": {},
     "output_type": "execute_result"
    }
   ],
   "source": [
    "# Run this cell to complete the activity\n",
    "american_companies = s[[\n",
    "    'Meta', 'IBM', 'Microsoft',\n",
    "    'Dell Technologies', 'Apple', 'Intel', 'Alphabet'\n",
    "]]\n",
    "american_companies"
   ]
  },
  {
   "cell_type": "markdown",
   "metadata": {},
   "source": [
    "We have selected a \"sub-series\" of only american companies in the variable ``american_companies``. Using that Series, complete the following activities."
   ]
  },
  {
   "cell_type": "markdown",
   "metadata": {},
   "source": [
    "5. **What's the average revenue of American Companies?**\n",
    "\n",
    "    What's the average revenue of the companies contained in the variable ``american_companies``? Enter the whole number (that is, without decimals)."
   ]
  },
  {
   "cell_type": "code",
   "execution_count": 32,
   "metadata": {},
   "outputs": [
    {
     "data": {
      "text/plain": [
       "132819.0"
      ]
     },
     "execution_count": 32,
     "metadata": {},
     "output_type": "execute_result"
    }
   ],
   "source": [
    "american_companies.mean()"
   ]
  },
  {
   "cell_type": "markdown",
   "metadata": {},
   "source": [
    "6. **What's the median revenue of American Companies?**"
   ]
  },
  {
   "cell_type": "code",
   "execution_count": 33,
   "metadata": {},
   "outputs": [
    {
     "data": {
      "text/plain": [
       "92224.0"
      ]
     },
     "execution_count": 33,
     "metadata": {},
     "output_type": "execute_result"
    }
   ],
   "source": [
    "american_companies.median()"
   ]
  },
  {
   "cell_type": "markdown",
   "metadata": {},
   "source": [
    "## Sorting Series"
   ]
  },
  {
   "cell_type": "markdown",
   "metadata": {},
   "source": [
    "Sorting series is extremely simple. This is another great feature of pandas in general.\n",
    "\n",
    "But with Sorting, we'll introduce two important concepts:"
   ]
  },
  {
   "cell_type": "markdown",
   "metadata": {},
   "source": [
    "### Sorting by values or Index"
   ]
  },
  {
   "cell_type": "markdown",
   "metadata": {},
   "source": [
    "First, what are we sorting by? The values? Or the index? Well, we'll be able to sort by both attributes: using the ``.sort_values()`` and ``.sort_index()`` methods.\n",
    "\n",
    "Check the examples in the notebook. To sort the values of the series (that is, the revenue), we use the ``.sort_values()`` method. To sort the series by its index (in this case, lexicographically by the company's name, we use the ``.sort_index()`` method). The default sorting method is in \"ascending\" order. To sort in descending order, you must pass the ``ascending=False`` parameter (to either method)."
   ]
  },
  {
   "cell_type": "markdown",
   "metadata": {},
   "source": [
    "7. **What company has the largest revenue?**\n",
    "\n",
    "    Using all the companies (stored in the Series in ``s``), which company has the largest revenue?"
   ]
  },
  {
   "cell_type": "code",
   "execution_count": 45,
   "metadata": {},
   "outputs": [
    {
     "data": {
      "text/plain": [
       "Apple    274515\n",
       "Name: Top Technology Companies by Revenue, dtype: int64"
      ]
     },
     "execution_count": 45,
     "metadata": {},
     "output_type": "execute_result"
    }
   ],
   "source": [
    "s.sort_values(ascending=False)[:1]"
   ]
  },
  {
   "cell_type": "markdown",
   "metadata": {},
   "source": [
    "8. **Sort company names lexicographically. Which one comes first?**\n",
    "\n",
    "    Using all the companies (stored in the Series in ``s``), which name is the \"first\" one in lexicographic (*or alphabetical*) order. That is, ``aa`` comes before than ``ab``."
   ]
  },
  {
   "cell_type": "code",
   "execution_count": 47,
   "metadata": {},
   "outputs": [
    {
     "data": {
      "text/plain": [
       "Alphabet    182527\n",
       "Name: Top Technology Companies by Revenue, dtype: int64"
      ]
     },
     "execution_count": 47,
     "metadata": {},
     "output_type": "execute_result"
    }
   ],
   "source": [
    "s.sort_index(ascending=True)[:1]"
   ]
  },
  {
   "cell_type": "markdown",
   "metadata": {},
   "source": [
    "## Inmutability"
   ]
  },
  {
   "cell_type": "markdown",
   "metadata": {},
   "source": [
    "The second important concept is **immutability**, and this is NOT just a Series concept; it's a widespread concept in pandas and Data Science in general. In this case, you'll see that when we \"sort a series\", **we don't ACTUALLY sort the series itself**. There's a NEW series returned. The underlying series has NOT changed; it has NOT been mutated.\n",
    "\n",
    "This is a CRUCIAL concept in Data Science in general. We don't want to change/mutate things, as it's harder to keep track of these changes.\n",
    "\n",
    "If by any chance, you DO want to mutate your series, in this case, you want to sort it and alter the underlying series (in ``s`` in this case), you must pass the ``inplace=True`` attribute. When doing so, you'll see that this time the method doesn't return anything, but the underlying series (in s has changed) to contain the data in the order required.\n",
    "\n",
    "Again, immutability is both preferred and encouraged, so try to use immutable methods as much as possible. For example, it is fine to create a second variable with the values sorted (``s_sorted_values``) and without changing ``s``."
   ]
  },
  {
   "cell_type": "code",
   "execution_count": 5,
   "metadata": {},
   "outputs": [
    {
     "data": {
      "text/plain": [
       "Apple        274515\n",
       "Samsung      200734\n",
       "Alphabet     182527\n",
       "Foxconn      181945\n",
       "Microsoft    143015\n",
       "Name: Top Technology Companies by Revenue, dtype: int64"
      ]
     },
     "execution_count": 5,
     "metadata": {},
     "output_type": "execute_result"
    }
   ],
   "source": [
    "s.head()"
   ]
  },
  {
   "cell_type": "markdown",
   "metadata": {},
   "source": [
    "We will sort the series by revenue, ascending, and we'll mutate the original one. Notice how the method doesn't return anything:"
   ]
  },
  {
   "cell_type": "code",
   "execution_count": 6,
   "metadata": {},
   "outputs": [],
   "source": [
    "s.sort_values(inplace=True)"
   ]
  },
  {
   "cell_type": "markdown",
   "metadata": {},
   "source": [
    "But now the series is sorted by revenue in ascending order:"
   ]
  },
  {
   "cell_type": "code",
   "execution_count": 7,
   "metadata": {},
   "outputs": [
    {
     "data": {
      "text/plain": [
       "Panasonic    63191\n",
       "Tencent      69864\n",
       "IBM          73620\n",
       "Intel        77867\n",
       "Hitachi      82345\n",
       "Name: Top Technology Companies by Revenue, dtype: int64"
      ]
     },
     "execution_count": 7,
     "metadata": {},
     "output_type": "execute_result"
    }
   ],
   "source": [
    "s.head()"
   ]
  },
  {
   "cell_type": "markdown",
   "metadata": {},
   "source": [
    "We'll now sort the series by index, mutating it again:"
   ]
  },
  {
   "cell_type": "code",
   "execution_count": 9,
   "metadata": {},
   "outputs": [],
   "source": [
    "s.sort_index(inplace=True)"
   ]
  },
  {
   "cell_type": "code",
   "execution_count": 10,
   "metadata": {},
   "outputs": [
    {
     "data": {
      "text/plain": [
       "Alphabet             182527\n",
       "Apple                274515\n",
       "Dell Technologies     92224\n",
       "Foxconn              181945\n",
       "Hitachi               82345\n",
       "Name: Top Technology Companies by Revenue, dtype: int64"
      ]
     },
     "execution_count": 10,
     "metadata": {},
     "output_type": "execute_result"
    }
   ],
   "source": [
    "s.head()"
   ]
  },
  {
   "cell_type": "markdown",
   "metadata": {},
   "source": [
    "## Activities"
   ]
  },
  {
   "cell_type": "markdown",
   "metadata": {},
   "source": [
    "9. **Sort American Companies by Revenue**\n",
    "\n",
    "    Create a new variable ``american_companies_desc`` that contains the results of sorting ``american_companies`` by revenue (this is, by value) in descending order."
   ]
  },
  {
   "cell_type": "code",
   "execution_count": 14,
   "metadata": {},
   "outputs": [],
   "source": [
    "# Run this cell to complete the activity\n",
    "american_companies = s[[\n",
    "    'Meta', 'IBM', 'Microsoft',\n",
    "    'Dell Technologies', 'Apple', 'Intel', 'Alphabet'\n",
    "]]"
   ]
  },
  {
   "cell_type": "code",
   "execution_count": 15,
   "metadata": {},
   "outputs": [
    {
     "data": {
      "text/plain": [
       "Apple                274515\n",
       "Alphabet             182527\n",
       "Microsoft            143015\n",
       "Dell Technologies     92224\n",
       "Meta                  85965\n",
       "Intel                 77867\n",
       "IBM                   73620\n",
       "Name: Top Technology Companies by Revenue, dtype: int64"
      ]
     },
     "execution_count": 15,
     "metadata": {},
     "output_type": "execute_result"
    }
   ],
   "source": [
    "american_companies_desc = american_companies.sort_values(ascending=False)\n",
    "american_companies_desc"
   ]
  },
  {
   "cell_type": "markdown",
   "metadata": {},
   "source": [
    "10. **Sort (and mutate) international companies**\n",
    "    \n",
    "    Now it's time to do what we told you NOT to do, but we need practice it. There's a new series defined named international_companies. Your task is to sort them by Revenue in **descending order** (larger to smaller) but doing it in place, that is, modifying the series.\n",
    "\n",
    "    If you make a mistake, you can always re-run the cell that generates the Series."
   ]
  },
  {
   "cell_type": "code",
   "execution_count": 16,
   "metadata": {},
   "outputs": [
    {
     "data": {
      "text/plain": [
       "Sony          84893\n",
       "Tencent       69864\n",
       "Panasonic     63191\n",
       "Samsung      200734\n",
       "Hitachi       82345\n",
       "Foxconn      181945\n",
       "Huawei       129184\n",
       "Name: Top Technology Companies by Revenue, dtype: int64"
      ]
     },
     "execution_count": 16,
     "metadata": {},
     "output_type": "execute_result"
    }
   ],
   "source": [
    "# Run this cell to complete the activity\n",
    "international_companies = s[[\n",
    "    \"Sony\", \"Tencent\", \"Panasonic\",\n",
    "    \"Samsung\", \"Hitachi\", \"Foxconn\", \"Huawei\"\n",
    "]]\n",
    "international_companies"
   ]
  },
  {
   "cell_type": "code",
   "execution_count": 17,
   "metadata": {},
   "outputs": [
    {
     "data": {
      "text/plain": [
       "Samsung    200734\n",
       "Foxconn    181945\n",
       "Huawei     129184\n",
       "Sony        84893\n",
       "Hitachi     82345\n",
       "Name: Top Technology Companies by Revenue, dtype: int64"
      ]
     },
     "execution_count": 17,
     "metadata": {},
     "output_type": "execute_result"
    }
   ],
   "source": [
    "international_companies.sort_values(ascending=False, inplace=True)\n",
    "international_companies.head()"
   ]
  },
  {
   "cell_type": "markdown",
   "metadata": {},
   "source": [
    "## Modifying Series"
   ]
  },
  {
   "cell_type": "markdown",
   "metadata": {},
   "source": [
    "Modifying series is something we hardly want to do. As mentioned in the previous section, we try to be \"immutable\". So changing series is usually not recommended.\n",
    "\n",
    "But still, it's possible to modify series by changing values, adding or removing elements. This works in the same way as with Python dictionaries.\n",
    "\n",
    "For example, to modify an existing value, we can just \"step over it\", let's say we want to set IBM's revenue to $0. We can just do:\n",
    "\n",
    "```py\n",
    "s['IBM'] = 0\n",
    "```\n",
    "To add elements (or change the value of an element), you can just use the index of the new element: ``s['Tesla'] = 21450``.\n",
    "\n",
    "To remove an element, we use the del keyword and the index: ``del s[\"Apple\"]``.\n",
    "\n",
    "Again, these are the same ways we use to add/remove elements from dictionaries."
   ]
  },
  {
   "cell_type": "markdown",
   "metadata": {},
   "source": [
    "Modifying values:"
   ]
  },
  {
   "cell_type": "code",
   "execution_count": 18,
   "metadata": {},
   "outputs": [],
   "source": [
    "s['IBM']  = 0"
   ]
  },
  {
   "cell_type": "code",
   "execution_count": 19,
   "metadata": {},
   "outputs": [
    {
     "data": {
      "text/plain": [
       "IBM              0\n",
       "Panasonic    63191\n",
       "Tencent      69864\n",
       "Intel        77867\n",
       "Hitachi      82345\n",
       "Name: Top Technology Companies by Revenue, dtype: int64"
      ]
     },
     "execution_count": 19,
     "metadata": {},
     "output_type": "execute_result"
    }
   ],
   "source": [
    "s.sort_values().head()"
   ]
  },
  {
   "cell_type": "markdown",
   "metadata": {},
   "source": [
    "Adding elements:"
   ]
  },
  {
   "cell_type": "code",
   "execution_count": 20,
   "metadata": {},
   "outputs": [],
   "source": [
    "s['Tesla'] = 21450"
   ]
  },
  {
   "cell_type": "code",
   "execution_count": 21,
   "metadata": {},
   "outputs": [
    {
     "data": {
      "text/plain": [
       "IBM              0\n",
       "Tesla        21450\n",
       "Panasonic    63191\n",
       "Tencent      69864\n",
       "Intel        77867\n",
       "Name: Top Technology Companies by Revenue, dtype: int64"
      ]
     },
     "execution_count": 21,
     "metadata": {},
     "output_type": "execute_result"
    }
   ],
   "source": [
    "s.sort_values().head()"
   ]
  },
  {
   "cell_type": "markdown",
   "metadata": {},
   "source": [
    "11. **Insert Amazon's Revenue**\n",
    "\n",
    "    Insert a new element in our series ``s``, Amazon with a total revenue of: ``$469,822`` (million dollars)."
   ]
  },
  {
   "cell_type": "code",
   "execution_count": 22,
   "metadata": {},
   "outputs": [],
   "source": [
    "s['Amazon'] = 469822"
   ]
  },
  {
   "cell_type": "markdown",
   "metadata": {},
   "source": [
    "12. **Delete the revenue of Meta**\n",
    "\n",
    "    Remove the entry for Meta from the series ``s``."
   ]
  },
  {
   "cell_type": "code",
   "execution_count": 23,
   "metadata": {},
   "outputs": [],
   "source": [
    "del s['Meta']"
   ]
  },
  {
   "cell_type": "markdown",
   "metadata": {},
   "source": [
    "## Concatenating Series (immutable)"
   ]
  },
  {
   "cell_type": "markdown",
   "metadata": {},
   "source": [
    "Finally, if you want to \"concatenate\" two series, you can use the ``concat()`` method ``s.concat(dataframe1 or series1, dataframe2 or series2)`` as shown in the example in the notebook. In this case, the method returns a new series or dataframe with the values of the two series/dataframe concatenated."
   ]
  },
  {
   "cell_type": "code",
   "execution_count": 24,
   "metadata": {},
   "outputs": [],
   "source": [
    "another_s = pd.Series([21_450, 4_120], index=['Tesla', 'Snapchat'])"
   ]
  },
  {
   "cell_type": "code",
   "execution_count": 25,
   "metadata": {},
   "outputs": [
    {
     "data": {
      "text/plain": [
       "Tesla       21450\n",
       "Snapchat     4120\n",
       "dtype: int64"
      ]
     },
     "execution_count": 25,
     "metadata": {},
     "output_type": "execute_result"
    }
   ],
   "source": [
    "another_s"
   ]
  },
  {
   "cell_type": "code",
   "execution_count": 26,
   "metadata": {},
   "outputs": [],
   "source": [
    "s_new = pd.concat([s, another_s])"
   ]
  },
  {
   "cell_type": "code",
   "execution_count": 27,
   "metadata": {},
   "outputs": [
    {
     "data": {
      "text/plain": [
       "Alphabet             182527\n",
       "Apple                274515\n",
       "Dell Technologies     92224\n",
       "Foxconn              181945\n",
       "Hitachi               82345\n",
       "Huawei               129184\n",
       "IBM                       0\n",
       "Intel                 77867\n",
       "Microsoft            143015\n",
       "Panasonic             63191\n",
       "Samsung              200734\n",
       "Sony                  84893\n",
       "Tencent               69864\n",
       "Tesla                 21450\n",
       "Amazon               469822\n",
       "Name: Top Technology Companies by Revenue, dtype: int64"
      ]
     },
     "execution_count": 27,
     "metadata": {},
     "output_type": "execute_result"
    }
   ],
   "source": [
    "s"
   ]
  },
  {
   "cell_type": "code",
   "execution_count": 28,
   "metadata": {},
   "outputs": [
    {
     "data": {
      "text/plain": [
       "Alphabet             182527\n",
       "Apple                274515\n",
       "Dell Technologies     92224\n",
       "Foxconn              181945\n",
       "Hitachi               82345\n",
       "Huawei               129184\n",
       "IBM                       0\n",
       "Intel                 77867\n",
       "Microsoft            143015\n",
       "Panasonic             63191\n",
       "Samsung              200734\n",
       "Sony                  84893\n",
       "Tencent               69864\n",
       "Tesla                 21450\n",
       "Amazon               469822\n",
       "Tesla                 21450\n",
       "Snapchat               4120\n",
       "dtype: int64"
      ]
     },
     "execution_count": 28,
     "metadata": {},
     "output_type": "execute_result"
    }
   ],
   "source": [
    "s_new"
   ]
  },
  {
   "cell_type": "markdown",
   "metadata": {},
   "source": [
    "# Series Practice with S&P Companies Market Cap"
   ]
  },
  {
   "cell_type": "markdown",
   "metadata": {},
   "source": [
    "## Introduction"
   ]
  },
  {
   "cell_type": "markdown",
   "metadata": {},
   "source": [
    "Now it's time to put all you've learned about series to a test. Let's start by introducing the data we'll be working with. Make sure you've started your lab, and the Notebook is on the right panel.\n",
    "\n",
    "For this project, we'll be working with the \"market capitalization\" of S&P500 (short for \"Standard and Poor's 500\") companies. The S&P 500 is a free-float, capitalization-weighted index of the top 500 publicly listed stocks in the US (top 500 by market cap). To put it simply: a list of the \"most valuable companies in US Markets\".\n",
    "\n",
    "> **Disclaimer: the data is outdated. As you might know, markets change very rapidly.**\n",
    "\n",
    "But this project has a twist. We will be using two series instead of one that we'll read from two different datasets. The first one is the stock symbols of companies. For example, Apple, Inc. stock symbol is ``AAPL`` (usually styled $AAPL). Facebook's symbol is ``FB`` ($FB).\n",
    "\n",
    "The second dataset contains the market cap of each company by its symbol. For example, the market cap of ``AAPL`` (Apple Inc.) is ``$809,508,034,020``.\n",
    "\n",
    "The first thing you'll see in the Notebook is a preview of the underlying datasets we're using: ``sp500-symbols.csv`` and ``sp500-marketcap.csv``. Next, we use the ``head`` Linux command to peek at each file's first five lines.\n",
    "\n",
    "We then import pandas (``import pandas as pd``) and load the data into series using the ``read_csv`` method. Don't worry about it yet! We'll use A LOT of ``read_csv`` during this track, so you'll get pretty used to it soon.\n",
    "\n",
    "At the end of those operations, you'll have two series containing the data we'll be working with. One is ``market_cap`` (that includes market cap by symbol), and the other is ``symbols`` that contain the names of the companies and their stock symbol.\n",
    "\n",
    "Take a few minutes to familiarize yourself with both Series, and then let's get started!\n"
   ]
  },
  {
   "cell_type": "code",
   "execution_count": 2,
   "metadata": {},
   "outputs": [],
   "source": [
    "import pandas as pd"
   ]
  },
  {
   "cell_type": "code",
   "execution_count": 3,
   "metadata": {},
   "outputs": [
    {
     "data": {
      "text/plain": [
       "Symbol\n",
       "MMM     138721055226\n",
       "AOS      10783419933\n",
       "ABT     102121042306\n",
       "ABBV    181386347059\n",
       "ACN      98765855553\n",
       "Name: Market Cap, dtype: int64"
      ]
     },
     "execution_count": 3,
     "metadata": {},
     "output_type": "execute_result"
    }
   ],
   "source": [
    "market_cap = pd.read_csv(\"sp500-marketcap.csv\", index_col=\"Symbol\")['Market Cap']\n",
    "market_cap.head()"
   ]
  },
  {
   "cell_type": "code",
   "execution_count": 4,
   "metadata": {},
   "outputs": [
    {
     "data": {
      "text/plain": [
       "Name\n",
       "3M Company              MMM\n",
       "A.O. Smith Corp         AOS\n",
       "Abbott Laboratories     ABT\n",
       "AbbVie Inc.            ABBV\n",
       "Accenture plc           ACN\n",
       "Name: Symbol, dtype: object"
      ]
     },
     "execution_count": 4,
     "metadata": {},
     "output_type": "execute_result"
    }
   ],
   "source": [
    "symbols = pd.read_csv(\"sp500-symbols.csv\", index_col=\"Name\")['Symbol']\n",
    "symbols.head()"
   ]
  },
  {
   "cell_type": "markdown",
   "metadata": {},
   "source": [
    "## Basic Series Attributes"
   ]
  },
  {
   "cell_type": "markdown",
   "metadata": {},
   "source": [
    "We'll start by doing a simple *reconnaissance* of the series we're working with."
   ]
  },
  {
   "cell_type": "markdown",
   "metadata": {},
   "source": [
    "1. **Name of the market_cap Series**\n",
    "\n",
    "    What's the name of the series contained in the ``market_cap`` variable?"
   ]
  },
  {
   "cell_type": "code",
   "execution_count": 5,
   "metadata": {},
   "outputs": [
    {
     "data": {
      "text/plain": [
       "'Market Cap'"
      ]
     },
     "execution_count": 5,
     "metadata": {},
     "output_type": "execute_result"
    }
   ],
   "source": [
    "market_cap.name"
   ]
  },
  {
   "cell_type": "markdown",
   "metadata": {},
   "source": [
    "2. **Name of the symbols Series**\n",
    "\n",
    "    What's the name of the series contained in the ``symbols`` variable?"
   ]
  },
  {
   "cell_type": "code",
   "execution_count": 6,
   "metadata": {},
   "outputs": [
    {
     "data": {
      "text/plain": [
       "'Symbol'"
      ]
     },
     "execution_count": 6,
     "metadata": {},
     "output_type": "execute_result"
    }
   ],
   "source": [
    "symbols.name"
   ]
  },
  {
   "cell_type": "markdown",
   "metadata": {},
   "source": [
    "3. **What's the dtype of ``market_cap``**\n",
    "    \n",
    "    What's the dtype of the series contained in the ``market_cap`` variable?"
   ]
  },
  {
   "cell_type": "code",
   "execution_count": 7,
   "metadata": {},
   "outputs": [
    {
     "data": {
      "text/plain": [
       "dtype('int64')"
      ]
     },
     "execution_count": 7,
     "metadata": {},
     "output_type": "execute_result"
    }
   ],
   "source": [
    "market_cap.dtype"
   ]
  },
  {
   "cell_type": "markdown",
   "metadata": {},
   "source": [
    "4. **What's the dtype of ``symbols``**\n",
    "\n",
    "    What's the dtype of the series contained in the symbols variable?"
   ]
  },
  {
   "cell_type": "code",
   "execution_count": 8,
   "metadata": {},
   "outputs": [
    {
     "data": {
      "text/plain": [
       "dtype('O')"
      ]
     },
     "execution_count": 8,
     "metadata": {},
     "output_type": "execute_result"
    }
   ],
   "source": [
    "symbols.dtype"
   ]
  },
  {
   "cell_type": "markdown",
   "metadata": {},
   "source": [
    "5. **How many elements do the series have?**\n",
    "\n",
    "    How many elements ``market_cap`` series contains?"
   ]
  },
  {
   "cell_type": "code",
   "execution_count": 9,
   "metadata": {},
   "outputs": [
    {
     "data": {
      "text/plain": [
       "505"
      ]
     },
     "execution_count": 9,
     "metadata": {},
     "output_type": "execute_result"
    }
   ],
   "source": [
    "len(market_cap)"
   ]
  },
  {
   "cell_type": "markdown",
   "metadata": {},
   "source": [
    "6. **What's the minimum value for Market Cap?**"
   ]
  },
  {
   "cell_type": "code",
   "execution_count": 10,
   "metadata": {},
   "outputs": [
    {
     "data": {
      "text/plain": [
       "2626102121"
      ]
     },
     "execution_count": 10,
     "metadata": {},
     "output_type": "execute_result"
    }
   ],
   "source": [
    "market_cap.min()"
   ]
  },
  {
   "cell_type": "markdown",
   "metadata": {},
   "source": [
    "7. **What's the maximum value for Market Cap?**"
   ]
  },
  {
   "cell_type": "code",
   "execution_count": 11,
   "metadata": {},
   "outputs": [
    {
     "data": {
      "text/plain": [
       "809508034020"
      ]
     },
     "execution_count": 11,
     "metadata": {},
     "output_type": "execute_result"
    }
   ],
   "source": [
    "market_cap.max()"
   ]
  },
  {
   "cell_type": "markdown",
   "metadata": {},
   "source": [
    "\n",
    "8. **What's the average Market Cap?**\n",
    "\n",
    "    Find the average value for Market Cap, and enter it WITHOUT decimals. Just the integer number (if you find the average is 1948.88, just enter 1948)."
   ]
  },
  {
   "cell_type": "code",
   "execution_count": 12,
   "metadata": {},
   "outputs": [
    {
     "data": {
      "text/plain": [
       "49239436929.50495"
      ]
     },
     "execution_count": 12,
     "metadata": {},
     "output_type": "execute_result"
    }
   ],
   "source": [
    "market_cap.mean()"
   ]
  },
  {
   "cell_type": "markdown",
   "metadata": {},
   "source": [
    "9. **What's the median Market Cap?**\n",
    "\n",
    "    Find the median value for Market Cap, and enter it WITHOUT decimals. Just the integer number (if you find the median is 1948.0, just enter 1948)."
   ]
  },
  {
   "cell_type": "code",
   "execution_count": 13,
   "metadata": {},
   "outputs": [
    {
     "data": {
      "text/plain": [
       "21400952517.0"
      ]
     },
     "execution_count": 13,
     "metadata": {},
     "output_type": "execute_result"
    }
   ],
   "source": [
    "market_cap.median()"
   ]
  },
  {
   "cell_type": "markdown",
   "metadata": {},
   "source": [
    "## Selection and Indexing"
   ]
  },
  {
   "cell_type": "markdown",
   "metadata": {},
   "source": [
    "Now it's time to do practice some selection and indexing using Series. We'll start with some basic activities with each series, and by the end we'll be using both of them."
   ]
  },
  {
   "cell_type": "markdown",
   "metadata": {},
   "source": [
    "10. **What's the symbol of ``Oracle Corp``.?**"
   ]
  },
  {
   "cell_type": "code",
   "execution_count": 14,
   "metadata": {},
   "outputs": [
    {
     "data": {
      "text/plain": [
       "'ORCL'"
      ]
     },
     "execution_count": 14,
     "metadata": {},
     "output_type": "execute_result"
    }
   ],
   "source": [
    "symbols.loc['Oracle Corp.']"
   ]
  },
  {
   "cell_type": "markdown",
   "metadata": {},
   "source": [
    "11. **What's the Market Cap of ``Oracle Corp.``?**"
   ]
  },
  {
   "cell_type": "code",
   "execution_count": 15,
   "metadata": {},
   "outputs": [
    {
     "data": {
      "text/plain": [
       "202302349740"
      ]
     },
     "execution_count": 15,
     "metadata": {},
     "output_type": "execute_result"
    }
   ],
   "source": [
    "market_cap.loc['ORCL']"
   ]
  },
  {
   "cell_type": "markdown",
   "metadata": {},
   "source": [
    "12. **What's the Market Cap of ``Wal-Mart Stores``?**"
   ]
  },
  {
   "cell_type": "code",
   "execution_count": 16,
   "metadata": {},
   "outputs": [
    {
     "data": {
      "text/plain": [
       "304680931618"
      ]
     },
     "execution_count": 16,
     "metadata": {},
     "output_type": "execute_result"
    }
   ],
   "source": [
    "market_cap.loc[symbols.loc['Wal-Mart Stores']]"
   ]
  },
  {
   "cell_type": "markdown",
   "metadata": {},
   "source": [
    "13. **What's the symbol of the 129th company?**"
   ]
  },
  {
   "cell_type": "code",
   "execution_count": 17,
   "metadata": {},
   "outputs": [
    {
     "data": {
      "text/plain": [
       "'STZ'"
      ]
     },
     "execution_count": 17,
     "metadata": {},
     "output_type": "execute_result"
    }
   ],
   "source": [
    "symbols.iloc[128]"
   ]
  },
  {
   "cell_type": "markdown",
   "metadata": {},
   "source": [
    "14. **What's the Market Cap of the 88th company in ``symbols``?**"
   ]
  },
  {
   "cell_type": "markdown",
   "metadata": {},
   "source": [
    "Warning! The companies might be out of order... so the 88th company in ``symbols`` might not be the same as the 88th one in ``market_cap``. We need you to find the 88th company in ``symbols`` first, and then the the Market Cap from ``market_cap`` for that particular symbol."
   ]
  },
  {
   "cell_type": "code",
   "execution_count": 18,
   "metadata": {},
   "outputs": [
    {
     "data": {
      "text/plain": [
       "13467193376"
      ]
     },
     "execution_count": 18,
     "metadata": {},
     "output_type": "execute_result"
    }
   ],
   "source": [
    "market_cap.loc[symbols.iloc[87]]"
   ]
  },
  {
   "cell_type": "markdown",
   "metadata": {},
   "source": [
    "15. **Create a new series only with FAANG Stocks**\n",
    "\n",
    "    There's a common term in investing (and in tech) which is FAANG companies. This refers to \"big tech\" companies by their acronyms. For example, ``FAANG`` means the following companies: Facebook Apple Amazon Netflix and Google (read more about FAANG and Big Tech in Wikipedia).\n",
    "\n",
    "    > Here FAANG refers to acronym of few companies but there are other big tech companies like Microsoft. So, the term FAANG is not a strict definition of big tech companies.\n",
    "\n",
    "    Your task is to create a new series, under the variable ``faang_market_cap``, containing the market cap of the following companies:\n",
    "\n",
    "    - ``Amazon.com Inc``\n",
    "    - ``Apple Inc.``\n",
    "    - ``Microsoft Corp.``\n",
    "    - ``Alphabet Inc Class A`` (this is Google's main stock)\n",
    "    - ``Facebook, Inc.``\n",
    "    - ``Netflix Inc.``\n",
    "\n",
    "    **Important**! The stocks must be in THIS order. You will need to find the Symbols of the companies first.\n",
    "\n",
    "    Also important, as stated above, you MUST create a variable containing your new series. Your code should look something like:\n",
    "\n",
    "    ``faang_market_cap = ... # your code``\n",
    "    \n",
    "    There's a way to combine everything in a one-liner. Try to solve this task without looking at the solution; but after you've finished it, take a peak at it because there's a neat trick explained at the end of the solution."
   ]
  },
  {
   "cell_type": "code",
   "execution_count": 19,
   "metadata": {},
   "outputs": [
    {
     "data": {
      "text/plain": [
       "Symbol\n",
       "AAPL     809508034020\n",
       "GOOGL    733823966137\n",
       "GOOG     728535558140\n",
       "MSFT     689978437468\n",
       "AMZN     685873374731\n",
       "FB       523423036576\n",
       "JPM      386613611000\n",
       "JNJ      353062464971\n",
       "Name: Market Cap, dtype: int64"
      ]
     },
     "execution_count": 19,
     "metadata": {},
     "output_type": "execute_result"
    }
   ],
   "source": [
    "market_cap.sort_values(ascending=False).head(8)"
   ]
  },
  {
   "cell_type": "code",
   "execution_count": 20,
   "metadata": {},
   "outputs": [],
   "source": [
    "faang_market_cap = pd.Series([market_cap.loc[symbols['Amazon.com Inc']],\n",
    "                              market_cap.loc[symbols['Apple Inc.']],\n",
    "                              market_cap.loc[symbols['Microsoft Corp.']],\n",
    "                              market_cap.loc[symbols['Alphabet Inc Class A']],\n",
    "                              market_cap.loc[symbols['Facebook, Inc.']],\n",
    "                              market_cap.loc[symbols['Netflix Inc.']]\n",
    "                              ], index= [symbols['Amazon.com Inc'],\n",
    "                                         symbols['Apple Inc.'],\n",
    "                                         symbols['Microsoft Corp.'],\n",
    "                                         symbols['Alphabet Inc Class A'],\n",
    "                                         symbols['Facebook, Inc.'],\n",
    "                                         symbols['Netflix Inc.']])"
   ]
  },
  {
   "cell_type": "code",
   "execution_count": 21,
   "metadata": {},
   "outputs": [
    {
     "data": {
      "text/plain": [
       "AMZN     685873374731\n",
       "AAPL     809508034020\n",
       "MSFT     689978437468\n",
       "GOOGL    733823966137\n",
       "FB       523423036576\n",
       "NFLX     114805404842\n",
       "dtype: int64"
      ]
     },
     "execution_count": 21,
     "metadata": {},
     "output_type": "execute_result"
    }
   ],
   "source": [
    "faang_market_cap"
   ]
  },
  {
   "cell_type": "markdown",
   "metadata": {},
   "source": [
    "One neat trick with Pandas is that we can use the values of one series to select elements from another series. So we could have just done:"
   ]
  },
  {
   "cell_type": "code",
   "execution_count": 22,
   "metadata": {},
   "outputs": [],
   "source": [
    "faang_market_cap2 = market_cap[symbols[[\"Amazon.com Inc\", \"Apple Inc.\", \"Microsoft Corp.\", \"Alphabet Inc Class A\", \"Facebook, Inc.\", \"Netflix Inc.\", ]]]"
   ]
  },
  {
   "cell_type": "code",
   "execution_count": 23,
   "metadata": {},
   "outputs": [
    {
     "data": {
      "text/plain": [
       "Symbol\n",
       "AMZN     685873374731\n",
       "AAPL     809508034020\n",
       "MSFT     689978437468\n",
       "GOOGL    733823966137\n",
       "FB       523423036576\n",
       "NFLX     114805404842\n",
       "Name: Market Cap, dtype: int64"
      ]
     },
     "execution_count": 23,
     "metadata": {},
     "output_type": "execute_result"
    }
   ],
   "source": [
    "faang_market_cap2"
   ]
  },
  {
   "cell_type": "markdown",
   "metadata": {},
   "source": [
    "16. **Select the market cap of companies in position 1st, 100th, 200th, etc.**\n",
    "\n",
    "    The S&P500 index contains 500 companies. Create a variable ``position_companies`` that contains the market cap of the companies in the positions:\n",
    "\n",
    "    - 1st\n",
    "    - 100th\n",
    "    - 200th\n",
    "    - 300th\n",
    "    - 400th\n",
    "    - 500th\n",
    "    \n",
    "    **Important!** This selection should be done under ``market_cap``. Don't use ``symbols`` for this particular activity."
   ]
  },
  {
   "cell_type": "code",
   "execution_count": 29,
   "metadata": {},
   "outputs": [
    {
     "data": {
      "text/plain": [
       "Symbol\n",
       "MMM    138721055226\n",
       "CTL     18237196861\n",
       "FL       5819080328\n",
       "MAT      5843402350\n",
       "ROP     27247789759\n",
       "XL      10753423590\n",
       "Name: Market Cap, dtype: int64"
      ]
     },
     "execution_count": 29,
     "metadata": {},
     "output_type": "execute_result"
    }
   ],
   "source": [
    "position_companies = market_cap.iloc[[0,99,199,299,399,499]]\n",
    "position_companies"
   ]
  },
  {
   "cell_type": "markdown",
   "metadata": {},
   "source": [
    "## Sorting Series"
   ]
  },
  {
   "cell_type": "markdown",
   "metadata": {},
   "source": [
    "17. **What's the 4th company sorted lexicographically by their symbol?**\n",
    "\n",
    "    Use the ``symbols`` series to sort **the symbols** in lexicographical order (ascending). Which company (the name, the index value) appears in the 4th position? Note: the answer is the full company name. For example, the full name of ``MSFT`` (Microsoft) is ``Microsoft Corp.``, as it appears in the index. The correct answer would be Microsoft Corp.. By the way, Microsoft is definitively NOT the correct answer."
   ]
  },
  {
   "cell_type": "code",
   "execution_count": 51,
   "metadata": {},
   "outputs": [
    {
     "data": {
      "text/plain": [
       "Name\n",
       "Agilent Technologies Inc       A\n",
       "American Airlines Group      AAL\n",
       "Advance Auto Parts           AAP\n",
       "Apple Inc.                  AAPL\n",
       "AbbVie Inc.                 ABBV\n",
       "Name: Symbol, dtype: object"
      ]
     },
     "execution_count": 51,
     "metadata": {},
     "output_type": "execute_result"
    }
   ],
   "source": [
    "symbols.sort_values(ascending=True).head()"
   ]
  },
  {
   "cell_type": "markdown",
   "metadata": {},
   "source": [
    "18. **What's the Market Cap of the 7th company (in descending order)?**"
   ]
  },
  {
   "cell_type": "markdown",
   "metadata": {},
   "source": [
    "Using the ``market_cap`` series, sort the companies by their symbol in lexicographical order in **descending mode** and enter the revenue of the 7th company."
   ]
  },
  {
   "cell_type": "code",
   "execution_count": 63,
   "metadata": {},
   "outputs": [
    {
     "data": {
      "text/plain": [
       "Symbol\n",
       "ZTS     35991109776\n",
       "ZION    10670678640\n",
       "ZBH     24454698119\n",
       "YUM     27003303098\n",
       "XYL     12915021000\n",
       "XRX      7938833340\n",
       "XRAY    13390513478\n",
       "Name: Market Cap, dtype: int64"
      ]
     },
     "execution_count": 63,
     "metadata": {},
     "output_type": "execute_result"
    }
   ],
   "source": [
    "market_cap.sort_index(ascending=False)[:7]"
   ]
  },
  {
   "cell_type": "markdown",
   "metadata": {},
   "source": [
    "# Practice Series Filtering"
   ]
  },
  {
   "cell_type": "markdown",
   "metadata": {},
   "source": [
    "## Introduction"
   ]
  },
  {
   "cell_type": "markdown",
   "metadata": {},
   "source": [
    "In this lab, we will practice filtering with conditionals and sorting on pandas series using dataset that contains information about international cricket players who have played since 2002. The data includes the player's name, number of innings they have played, number of runs they have scored, number of balls they have faced, number of times they have been dismissed, their batting average, their strike rate, their highest score, number of fours they have hit, number of sixes they have hit, number of times they have scored a half-century, and number of times they have scored a century.\n",
    "\n",
    "Below are the columns of the dataset:\n",
    "\n",
    "- Player: Name of the player\n",
    "- I: Number of innings played\n",
    "- R: Number of runs scored\n",
    "- B: Number of balls faced\n",
    "- Outs: Number of times dismissed\n",
    "- Avg: Batting average\n",
    "- SR: Strike rate\n",
    "- HS: Highest score\n",
    "- 4s: Number of fours hit\n",
    "- 6s: Number of sixes hit\n",
    "- 50: Number of times scored a half-century\n",
    "- 100: Number of times scored a century\n",
    "\n",
    "Let's get started with the lab now!"
   ]
  },
  {
   "cell_type": "code",
   "execution_count": 1,
   "metadata": {},
   "outputs": [],
   "source": [
    "import pandas as pd"
   ]
  },
  {
   "cell_type": "code",
   "execution_count": null,
   "metadata": {},
   "outputs": [],
   "source": [
    "data = pd.read_csv"
   ]
  },
  {
   "cell_type": "markdown",
   "metadata": {},
   "source": []
  }
 ],
 "metadata": {
  "kernelspec": {
   "display_name": "base",
   "language": "python",
   "name": "python3"
  },
  "language_info": {
   "codemirror_mode": {
    "name": "ipython",
    "version": 3
   },
   "file_extension": ".py",
   "mimetype": "text/x-python",
   "name": "python",
   "nbconvert_exporter": "python",
   "pygments_lexer": "ipython3",
   "version": "3.11.7"
  }
 },
 "nbformat": 4,
 "nbformat_minor": 2
}
