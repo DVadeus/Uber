{
 "cells": [
  {
   "cell_type": "markdown",
   "metadata": {},
   "source": [
    "# Introduction\n",
    "\n",
    "This project contains different activities to practice your bash skills, including:\n",
    "\n",
    "- The ``ls`` command and navigation in general (including concepts like hidden files)\n",
    "- The ``wc`` command to explore files\n",
    "- The ``head`` and ``tail`` commands\n",
    "- Creating/deleting directories and files with ``mkdir``, ``rm``, ``touch`` and ``echo``.\n",
    "- Copying and moving files with ``cp`` and ``mv``\n",
    "- Understanding, accessing and creating Environment Variables\n",
    "- Creating symlinks\n",
    "\n",
    "**Warning**: If you the lab/terminal loses focus, just refresh your browser window/tab. There's no need to stop/restart the lab."
   ]
  },
  {
   "cell_type": "markdown",
   "metadata": {},
   "source": [
    "## Navigate to a directory\n",
    "\n",
    "\n",
    "``cd directory_name`` -> Con este entro a la carpeta\n",
    "\n",
    "``ls directory_name`` -> Con este veo la lo que hay pero no entro a la carpeta"
   ]
  },
  {
   "cell_type": "markdown",
   "metadata": {},
   "source": [
    "## Lines of code of a file"
   ]
  },
  {
   "cell_type": "markdown",
   "metadata": {},
   "source": [
    "`wc file`\n",
    "\n",
    "- La cantidad de lineas que tiene un archivo\n",
    "- La cantidad de palabras que contiene el archivo\n",
    "- La cantidad de carácteres que contiene el archivo"
   ]
  },
  {
   "cell_type": "markdown",
   "metadata": {},
   "source": [
    "## Print de file in terminal"
   ]
  },
  {
   "cell_type": "markdown",
   "metadata": {},
   "source": [
    "`cat file`  -> Con este puedo ver el código"
   ]
  },
  {
   "cell_type": "markdown",
   "metadata": {},
   "source": [
    "## Create file .csv"
   ]
  },
  {
   "cell_type": "markdown",
   "metadata": {},
   "source": [
    "`echo \"ID,Name,Quantity,Price,Total,Comments\" > sales.csv`"
   ]
  },
  {
   "cell_type": "markdown",
   "metadata": {},
   "source": [
    "## Delete file"
   ]
  },
  {
   "cell_type": "markdown",
   "metadata": {},
   "source": [
    "`rm file`"
   ]
  },
  {
   "cell_type": "markdown",
   "metadata": {},
   "source": [
    "## Move file"
   ]
  },
  {
   "cell_type": "markdown",
   "metadata": {},
   "source": [
    "``mv file /path``"
   ]
  },
  {
   "cell_type": "markdown",
   "metadata": {},
   "source": [
    "## Duplicate file"
   ]
  },
  {
   "cell_type": "markdown",
   "metadata": {},
   "source": [
    "`cp --recursive file duplicated-file`"
   ]
  },
  {
   "cell_type": "markdown",
   "metadata": {},
   "source": [
    "## Content of variables"
   ]
  },
  {
   "cell_type": "markdown",
   "metadata": {},
   "source": [
    "`echo variable`"
   ]
  },
  {
   "cell_type": "markdown",
   "metadata": {},
   "source": [
    "## Create a Symlink or Shortcut"
   ]
  },
  {
   "cell_type": "markdown",
   "metadata": {},
   "source": [
    "Crearé un acceso directo del archivo csv en el directorio donde me encuentre en ese momento\n",
    "\n",
    "`/app`\n",
    "\n",
    "``ln -s data/Electricity1970.csv``"
   ]
  },
  {
   "cell_type": "markdown",
   "metadata": {},
   "source": [
    "# Visidata"
   ]
  },
  {
   "cell_type": "markdown",
   "metadata": {},
   "source": [
    "Para correr Visidata debo usar el comando `vd`\n",
    "\n",
    "Por ejemplo\n",
    "\n",
    "``vd Pokemon.csv``"
   ]
  },
  {
   "cell_type": "markdown",
   "metadata": {},
   "source": [
    "# JQ"
   ]
  },
  {
   "cell_type": "markdown",
   "metadata": {},
   "source": [
    "``jq`` is a command line utility to explore JSON data in a declarative form.\n",
    "\n",
    "In this lab, we'll use a dataset containing Pokémon (named ``pokemon.json``) to perform different operations with ``jq``.\n",
    "\n",
    "Let's start with a test. Start your lab and make sure you have all the tools available. You can issue the following command (and see ``Bulbasaur`` as the result):\n",
    "\n",
    "```json\n",
    "$ jq '.[0]' pokemon.json\n",
    "{\n",
    "  \"Name\": \"Bulbasaur\",\n",
    "  \"Type 1\": \"Grass\",\n",
    "  \"Type 2\": \"Poison\",\n",
    "  \"Total\": 318,\n",
    "  \"HP\": 45,\n",
    "  \"Attack\": 49,\n",
    "  \"Defense\": 49,\n",
    "  \"Sp. Atk\": 65,\n",
    "  \"Sp. Def\": 65,\n",
    "  \"Speed\": 45,\n",
    "  \"Generation\": 1,\n",
    "  \"Legendary\": false\n",
    "}\n",
    "```\n",
    "Here's an example of what you should see:\n",
    "\n",
    "```bash\n",
    "jq '.[0]' pokemon.json\n",
    "```"
   ]
  },
  {
   "cell_type": "markdown",
   "metadata": {},
   "source": [
    "## Activities"
   ]
  },
  {
   "cell_type": "markdown",
   "metadata": {},
   "source": [
    "1. Select only the Name, Type 1 and Total from the 255th pokemon\n",
    "\n",
    "    Write the expression to select values individually, your output should look something like:\n",
    "\n",
    "    ```bash\n",
    "    \"Torchic\"\n",
    "    \"Fire\"\n",
    "    310\n",
    "    ```\n",
    "    **Expression**\n",
    "\n",
    "    ```bash\n",
    "    jq '.[254].Name, .[254].\"Type 1\", .[254].Total' pokemon.json\n",
    "    ```\n"
   ]
  },
  {
   "cell_type": "markdown",
   "metadata": {},
   "source": [
    "2. Select Name, Type 1, and Total as an object\n",
    "\n",
    "    Now we want to select the same values as before, but this time we want jq to return an object. Your expression should look like:\n",
    "    \n",
    "    ```bash\n",
    "    {\n",
    "      \"Name\": \"Torchic\",\n",
    "      \"Type 1\": \"Fire\",\n",
    "      \"Total\": 310\n",
    "    }\n",
    "    ```\n",
    "    **Expression**\n",
    "    \n",
    "    ```bash\n",
    "    jq '{ Name: .[254].Name, \"Type 1\": .[254].\"Type 1\", Total: .[254].Total}' pokemon.json\n",
    "    ```"
   ]
  },
  {
   "cell_type": "markdown",
   "metadata": {},
   "source": [
    "3. Write an expression to select the last 3 Pokémon\n",
    "\n",
    "    Write a slicing expression to select the last 3 pokemon.\n",
    "\n",
    "    Your output should look something like:\n",
    "    ```bash\n",
    "    [\n",
    "        {\n",
    "            \"Name\": \"Diancie\",\n",
    "            \"Type 1\": \"Rock\",\n",
    "            \"Type 2\": \"Fairy\",\n",
    "            \"Total\": 600,\n",
    "            \"HP\": 50,\n",
    "            \"Attack\": 100,\n",
    "            \"Defense\": 150,\n",
    "            \"Sp. Atk\": 100,\n",
    "            \"Sp. Def\": 150,\n",
    "            \"Speed\": 50,\n",
    "            \"Generation\": 6,\n",
    "            \"Legendary\": true\n",
    "        }\n",
    "        ...\n",
    "    ]\n",
    "    ```\n",
    "\n",
    "    **Expression**\n",
    "    ```bash\n",
    "    jq '.[-3:]' pokemon.json\n",
    "    ```"
   ]
  },
  {
   "cell_type": "markdown",
   "metadata": {},
   "source": [
    "4. Write an expression to find the total number of Pokemon\n",
    "\n",
    "    ```bash\n",
    "    jq length pokemon.json\n",
    "    ```"
   ]
  },
  {
   "cell_type": "markdown",
   "metadata": {},
   "source": [
    "5. Write an expression to select the maximum value of ``Total``\n",
    "\n",
    "    **Expression**\n",
    "    ```bash\n",
    "    jq '[.[].Total] | max' pokemon.json\n",
    "    ``` "
   ]
  },
  {
   "cell_type": "markdown",
   "metadata": {},
   "source": [
    "6. Write an expression to find the average value of ``Total``\n",
    "\n",
    "    **Expression**\n",
    "    ```bash\n",
    "    jq '[.[].Total] | add / length' pokemon.json\n",
    "    ```"
   ]
  },
  {
   "cell_type": "markdown",
   "metadata": {},
   "source": [
    "7. Select the Pokémon that have an ``Attack`` greater than ``150``\n",
    "\n",
    "    Your output should look something like:\n",
    "    ```bash\n",
    "    {\n",
    "    \"Name\": \"Slaking\",\n",
    "    \"Type 1\": \"Normal\",\n",
    "    \"Type 2\": null,\n",
    "    \"Total\": 670,\n",
    "    \"HP\": 150,\n",
    "    \"Attack\": 160,\n",
    "    \"Defense\": 100,\n",
    "    \"Sp. Atk\": 95,\n",
    "    \"Sp. Def\": 65,\n",
    "    \"Speed\": 100,\n",
    "    \"Generation\": 3,\n",
    "    \"Legendary\": false\n",
    "    }\n",
    "    {\n",
    "    \"Name\": \"Rampardos\",\n",
    "    \"Type 1\": \"Rock\",\n",
    "    \"Type 2\": null,\n",
    "    \"Total\": 495,\n",
    "    \"HP\": 97,\n",
    "    \"Attack\": 165,\n",
    "    \"Defense\": 60,\n",
    "    \"Sp. Atk\": 65,\n",
    "    \"Sp. Def\": 50,\n",
    "    \"Speed\": 58,\n",
    "    \"Generation\": 4,\n",
    "    \"Legendary\": false\n",
    "    }\n",
    "    ...\n",
    "    ```\n",
    "\n",
    "    **Expression**\n",
    "    ```bash\n",
    "    jq '.[] | select(.Attack > 150)' pokemon.json\n",
    "    ```"
   ]
  },
  {
   "cell_type": "markdown",
   "metadata": {},
   "source": [
    "8. Select only the Name and Total properties from Pokémon that have a Total greater than 650\n",
    "    ```bash\n",
    "    [\n",
    "    {\n",
    "        \"Name\": \"Mewtwo\",\n",
    "        \"Total\": 680\n",
    "    },\n",
    "    {\n",
    "        \"Name\": \"Lugia\",\n",
    "        \"Total\": 680\n",
    "    },\n",
    "    {\n",
    "        \"Name\": \"Ho-oh\",\n",
    "        \"Total\": 680\n",
    "    },\n",
    "    {\n",
    "        \"Name\": \"Slaking\",\n",
    "        \"Total\": 670\n",
    "    },\n",
    "    ...\n",
    "    ]\n",
    "    ```\n",
    "    \n",
    "    **Expression**\n",
    "    ```bash\n",
    "    jq '[.[] | select(.Total > 650) | {Name, Total}]' pokemon.json\n",
    "    ```"
   ]
  },
  {
   "cell_type": "markdown",
   "metadata": {},
   "source": [
    "9. Select all the Pokémon that have a ``Type 2`` value set\n",
    "\n",
    "    That is, ``Type 2`` is **not** ``null``. Limit your results to the first ``5`` results.\n",
    "\n",
    "    Your output should look something like:\n",
    "    ```bash\n",
    "    [\n",
    "    {\n",
    "        \"Name\": \"Bulbasaur\",\n",
    "        \"Type 1\": \"Grass\",\n",
    "        \"Type 2\": \"Poison\",\n",
    "        \"Total\": 318,\n",
    "        \"HP\": 45,\n",
    "        \"Attack\": 49,\n",
    "        \"Defense\": 49,\n",
    "        \"Sp. Atk\": 65,\n",
    "        \"Sp. Def\": 65,\n",
    "        \"Speed\": 45,\n",
    "        \"Generation\": 1,\n",
    "        \"Legendary\": false\n",
    "    },\n",
    "    {\n",
    "        \"Name\": \"Ivysaur\",\n",
    "        \"Type 1\": \"Grass\",\n",
    "        \"Type 2\": \"Poison\",\n",
    "        \"Total\": 405,\n",
    "        \"HP\": 60,\n",
    "        \"Attack\": 62,\n",
    "        \"Defense\": 63,\n",
    "        \"Sp. Atk\": 80,\n",
    "        \"Sp. Def\": 80,\n",
    "        \"Speed\": 60,\n",
    "        \"Generation\": 1,\n",
    "        \"Legendary\": false\n",
    "    },\n",
    "    ...\n",
    "    ]\n",
    "    ```\n",
    "\n",
    "    **Expression**\n",
    "\n",
    "    ```bash\n",
    "    jq 'map(select(.\"Type 2\" != null)) | .[:5]' pokemon.json\n",
    "    ```"
   ]
  },
  {
   "cell_type": "markdown",
   "metadata": {},
   "source": [
    "10. Select the names of all the Legendary Pokemon\n",
    "\n",
    "    Your output should look something like:\n",
    "    ```bash\n",
    "    [\n",
    "    \"Articuno\",\n",
    "    \"Zapdos\",\n",
    "    \"Moltres\",\n",
    "    \"Mewtwo\",\n",
    "    \"Raikou\",\n",
    "    \"Entei\",\n",
    "    \"Suicune\",\n",
    "    \"Lugia\",\n",
    "    \"Ho-oh\",\n",
    "    ...\n",
    "    ]\n",
    "    ```\n",
    "\n",
    "    **Expression**\n",
    "\n",
    "    ```bash\n",
    "    jq '[.[] | select(.Legendary == true) | .Name]' pokemon.json\n",
    "    ```"
   ]
  },
  {
   "cell_type": "markdown",
   "metadata": {},
   "source": [
    "11. Extract the names of all dual-type (having both Type 1 and Type 2 Pokemon)\n",
    "    \n",
    "    Your output should look something like:\n",
    "    \n",
    "    ```bash\n",
    "    [\n",
    "    \"Bulbasaur\",\n",
    "    \"Ivysaur\",\n",
    "    \"Venusaur\",\n",
    "    \"Charizard\",\n",
    "    \"Butterfree\",\n",
    "    \"Weedle\",\n",
    "    \"Kakuna\",\n",
    "    \"Beedrill\",\n",
    "    \"Pidgey\",\n",
    "    ...\n",
    "    ]\n",
    "    ```\n",
    "    **Expression**\n",
    "    ```bash\n",
    "    jq '[.[] | select(.\"Type 1\" !=  null) | select(.\"Type 2\" != null) | .Name]' pokemon.json\n",
    "    ```"
   ]
  },
  {
   "cell_type": "markdown",
   "metadata": {},
   "source": [
    "12. Extract the names of all Poison-type Pokemon.\n",
    "\n",
    "    It should include Pokémon having Poison as either their Type 1 or as their Type 2.\n",
    "\n",
    "    Your output should look something like:\n",
    "    ```bash\n",
    "    {\n",
    "    \"Name\": \"Bulbasaur\",\n",
    "    \"Type 1\": \"Grass\",\n",
    "    \"Type 2\": \"Poison\",\n",
    "    \"Total\": 318,\n",
    "    \"HP\": 45,\n",
    "    \"Attack\": 49,\n",
    "    \"Defense\": 49,\n",
    "    \"Sp. Atk\": 65,\n",
    "    \"Sp. Def\": 65,\n",
    "    \"Speed\": 45,\n",
    "    \"Generation\": 1,\n",
    "    \"Legendary\": false\n",
    "    }\n",
    "    {\n",
    "    \"Name\": \"Ivysaur\",\n",
    "    \"Type 1\": \"Grass\",\n",
    "    \"Type 2\": \"Poison\",\n",
    "    \"Total\": 405,\n",
    "    \"HP\": 60,\n",
    "    \"Attack\": 62,\n",
    "    \"Defense\": 63,\n",
    "    \"Sp. Atk\": 80,\n",
    "    \"Sp. Def\": 80,\n",
    "    \"Speed\": 60,\n",
    "    \"Generation\": 1,\n",
    "    \"Legendary\": false\n",
    "    }\n",
    "    ..\n",
    "    ...\n",
    "    {\n",
    "    \"Name\": \"Dragalge\",\n",
    "    \"Type 1\": \"Poison\",\n",
    "    \"Type 2\": \"Dragon\",\n",
    "    \"Total\": 494,\n",
    "    \"HP\": 65,\n",
    "    \"Attack\": 75,\n",
    "    \"Defense\": 90,\n",
    "    \"Sp. Atk\": 97,\n",
    "    \"Sp. Def\": 123,\n",
    "    \"Speed\": 44,\n",
    "    \"Generation\": 6,\n",
    "    \"Legendary\": false\n",
    "    }\n",
    "    ```\n",
    "\n",
    "    **Expression**\n",
    "    ```bash\n",
    "    jq '.[] | select(.\"Type 1\" ==  \"Poison\" or .\"Type 2\" == \"Poison\")' pokemon.json\n",
    "    ```"
   ]
  },
  {
   "cell_type": "markdown",
   "metadata": {},
   "source": [
    "13. Calculate the average Defense of non-Legendary Pokemon\n",
    "\n",
    "    Combining above concepts + Statistical methods \n",
    "\n",
    "    Para realizar calculos estadísticos debo usar una lista antes de usar add o length\n",
    "    ```bash\n",
    "    jq 'map(select(.Legendary == false)) | [.[].Defense] | add / length' pokemon.json\n",
    "    ```"
   ]
  },
  {
   "cell_type": "markdown",
   "metadata": {},
   "source": [
    "14. Find the Pokémon with an HP greater than 70, sorted by HP in Ascending mode\n",
    "\n",
    "    Limit your results to the first 5 results.\n",
    "\n",
    "    Your output should look something like:\n",
    "    ```bash\n",
    "    [\n",
    "    {\n",
    "        \"Name\": \"Purugly\",\n",
    "        \"Type 1\": \"Normal\",\n",
    "        \"Type 2\": null,\n",
    "        \"Total\": 452,\n",
    "        \"HP\": 71,\n",
    "        \"Attack\": 82,\n",
    "        \"Defense\": 64,\n",
    "        \"Sp. Atk\": 64,\n",
    "        \"Sp. Def\": 59,\n",
    "        \"Speed\": 112,\n",
    "        \"Generation\": 4,\n",
    "        \"Legendary\": false\n",
    "    },\n",
    "    {\n",
    "        \"Name\": \"Vanilluxe\",\n",
    "        \"Type 1\": \"Ice\",\n",
    "        \"Type 2\": null,\n",
    "        \"Total\": 535,\n",
    "        \"HP\": 71,\n",
    "        \"Attack\": 95,\n",
    "        \"Defense\": 85,\n",
    "        \"Sp. Atk\": 110,\n",
    "        \"Sp. Def\": 95,\n",
    "        \"Speed\": 79,\n",
    "        \"Generation\": 5,\n",
    "        \"Legendary\": false\n",
    "    },\n",
    "    ...\n",
    "    ]\n",
    "    ```\n",
    "\n",
    "    **Expression**\n",
    "    ```bash\n",
    "    jq 'map(select(.HP > 70)) | sort_by(.HP) | .[:5] ' pokemon.json\n",
    "    ```"
   ]
  },
  {
   "cell_type": "markdown",
   "metadata": {},
   "source": [
    "15. Find the Pokémon with a Defense value greater than 100, sorted by Defense in descending mode\n",
    "\n",
    "    Limit your results to the first 5 results\n",
    "\n",
    "    Your output should look something like:\n",
    "    ```bash\n",
    "    [\n",
    "    {\n",
    "        \"Name\": \"Shuckle\",\n",
    "        \"Type 1\": \"Bug\",\n",
    "        \"Type 2\": \"Rock\",\n",
    "        \"Total\": 505,\n",
    "        \"HP\": 20,\n",
    "        \"Attack\": 10,\n",
    "        \"Defense\": 230,\n",
    "        \"Sp. Atk\": 10,\n",
    "        \"Sp. Def\": 230,\n",
    "        \"Speed\": 5,\n",
    "        \"Generation\": 2,\n",
    "        \"Legendary\": false\n",
    "    },\n",
    "    {\n",
    "        \"Name\": \"Regirock\",\n",
    "        \"Type 1\": \"Rock\",\n",
    "        \"Type 2\": null,\n",
    "        \"Total\": 580,\n",
    "        \"HP\": 80,\n",
    "        \"Attack\": 100,\n",
    "        \"Defense\": 200,\n",
    "        \"Sp. Atk\": 50,\n",
    "        \"Sp. Def\": 100,\n",
    "        \"Speed\": 50,\n",
    "        \"Generation\": 3,\n",
    "        \"Legendary\": true\n",
    "    },\n",
    "    ...\n",
    "    ]\n",
    "    ```\n",
    "\n",
    "    **Expression**\n",
    "    ```bash\n",
    "    jq 'map(select(.Defense > 100)) | sort_by(.Defense) | reverse | .[:5]' pokemon.json\n",
    "    ```"
   ]
  },
  {
   "cell_type": "markdown",
   "metadata": {},
   "source": [
    "16. Identify the Pokémon with the highest ``Attack`` in Generation ``2``\n",
    "\n",
    "    Your output should look something like:\n",
    "    ```bash\n",
    "    {\n",
    "    \"Name\": \"Tyranitar\",\n",
    "    \"Type 1\": \"Rock\",\n",
    "    \"Type 2\": \"Dark\",\n",
    "    \"Total\": 600,\n",
    "    \"HP\": 100,\n",
    "    \"Attack\": 134,\n",
    "    \"Defense\": 110,\n",
    "    \"Sp. Atk\": 95,\n",
    "    \"Sp. Def\": 100,\n",
    "    \"Speed\": 61,\n",
    "    \"Generation\": 2,\n",
    "    \"Legendary\": false\n",
    "    }\n",
    "    ```\n",
    "\n",
    "    **Expression**\n",
    "    ```bash\n",
    "    jq 'map(select(.Generation == 2)) | max_by(.Attack)' pokemon.json\n",
    "    ```"
   ]
  },
  {
   "cell_type": "markdown",
   "metadata": {},
   "source": [
    "17. Find all Defensive Pokémon (having more Defense than Attack)\n",
    "\n",
    "    Your output should look something like:\n",
    "    ```bash\n",
    "    [\n",
    "    ....\n",
    "\n",
    "    {\n",
    "        \"Name\": \"Volcanion\",\n",
    "        \"Type 1\": \"Fire\",\n",
    "        \"Type 2\": \"Water\",\n",
    "        \"Total\": 600,\n",
    "        \"HP\": 80,\n",
    "        \"Attack\": 110,\n",
    "        \"Defense\": 120,\n",
    "        \"Sp. Atk\": 130,\n",
    "        \"Sp. Def\": 90,\n",
    "        \"Speed\": 70,\n",
    "        \"Generation\": 6,\n",
    "        \"Legendary\": true\n",
    "    }\n",
    "    ]\n",
    "    ```\n",
    "\n",
    "    **Expression**\n",
    "\n",
    "    ```bash\n",
    "    jq 'map(select(.Defense > .Attack))' pokemon.json\n",
    "    ```"
   ]
  },
  {
   "cell_type": "markdown",
   "metadata": {},
   "source": [
    "18. Group the Pokémon by their primary type (Type 1).\n",
    "\n",
    "    Your output should look something like:\n",
    "    ```bash\n",
    "    [\n",
    "    [\n",
    "        ...\n",
    "        {\n",
    "        \"Name\": \"Clauncher\",\n",
    "        \"Type 1\": \"Water\",\n",
    "        \"Type 2\": null,\n",
    "        \"Total\": 330,\n",
    "        \"HP\": 50,\n",
    "        \"Attack\": 53,\n",
    "        \"Defense\": 62,\n",
    "        \"Sp. Atk\": 58,\n",
    "        \"Sp. Def\": 63,\n",
    "        \"Speed\": 44,\n",
    "        \"Generation\": 6,\n",
    "        \"Legendary\": false\n",
    "        },\n",
    "        {\n",
    "        \"Name\": \"Clawitzer\",\n",
    "        \"Type 1\": \"Water\",\n",
    "        \"Type 2\": null,\n",
    "        \"Total\": 500,\n",
    "        \"HP\": 71,\n",
    "        \"Attack\": 73,\n",
    "        \"Defense\": 88,\n",
    "        \"Sp. Atk\": 120,\n",
    "        \"Sp. Def\": 89,\n",
    "        \"Speed\": 59,\n",
    "        \"Generation\": 6,\n",
    "        \"Legendary\": false\n",
    "        }\n",
    "    ]\n",
    "    ]\n",
    "    ```\n",
    "    **Expression**\n",
    "    ```bash\n",
    "    jq 'group_by(.\"Type 1\")' pokemon.json\n",
    "    ```"
   ]
  },
  {
   "cell_type": "markdown",
   "metadata": {},
   "source": [
    "19. Get the number of Pokémon by Generation\n",
    "\n",
    "    Your output should look something like:\n",
    "    ```bash\n",
    "    {\n",
    "    \"1\": 151,\n",
    "    \"2\": 100,\n",
    "    \"3\": 135,\n",
    "    \"4\": 107,\n",
    "    \"5\": 156,\n",
    "    \"6\": 72\n",
    "    }\n",
    "    ```\n",
    "    **Expression**\n",
    "\n",
    "    **Difícil de entender**\n",
    "    ```bash\n",
    "    jq 'group_by(.Generation) | map({ \"\\(.[0].Generation)\": . | length }) | add' pokemon.json\n",
    "    ```"
   ]
  },
  {
   "cell_type": "markdown",
   "metadata": {},
   "source": [
    "20. Get average HP by Type 1\n",
    "  \n",
    "    Your output should look something like:\n",
    "    \n",
    "    ```bash\n",
    "    {\n",
    "      \"Bug\": 55.95238095238095,\n",
    "      \"Dark\": 67.17857142857143,\n",
    "      \"Dragon\": 78.04166666666667,\n",
    "      \"Electric\": 59.5,\n",
    "      \"Fairy\": 74.11764705882354,\n",
    "      \"Fighting\": 70.24,\n",
    "      \"Fire\": 68.59574468085107,\n",
    "      \"Flying\": 68,\n",
    "      \"Ghost\": 61.56521739130435,\n",
    "      \"Grass\": 66.1969696969697,\n",
    "      \"Ground\": 72.4,\n",
    "      \"Ice\": 71.65217391304348,\n",
    "      \"Normal\": 76.52688172043011,\n",
    "      \"Poison\": 67.25,\n",
    "      \"Psychic\": 70.61702127659575,\n",
    "      \"Rock\": 64.53658536585365,\n",
    "      \"Steel\": 64.81818181818181,\n",
    "      \"Water\": 70.86666666666666\n",
    "    }\n",
    "    ```\n",
    "\n",
    "    **Expression**\n",
    "\n",
    "    El último add une los json en uno solo\n",
    "\n",
    "    ```bash\n",
    "    jq 'group_by(.\"Type 1\") | map({ \"\\(.[0].\"Type 1\")\": (map(.HP) | add/ length)}) | add' pokemon.json\n",
    "    ```\n"
   ]
  },
  {
   "cell_type": "markdown",
   "metadata": {},
   "source": [
    "21. Use reduce to calculate how many Pokémon are legendary?\n",
    "\n",
    "\n",
    "    **Expression**\n",
    "    ```bash\n",
    "    jq 'reduce .[] as $pokemon (0; if $pokemon.Legendary == true then . + 1 else . end)' pokemon.json\n",
    "    ```\n",
    "\n",
    "\n",
    "    **Result**\n",
    "\n",
    "    46"
   ]
  },
  {
   "cell_type": "markdown",
   "metadata": {},
   "source": []
  }
 ],
 "metadata": {
  "language_info": {
   "name": "python"
  }
 },
 "nbformat": 4,
 "nbformat_minor": 2
}
